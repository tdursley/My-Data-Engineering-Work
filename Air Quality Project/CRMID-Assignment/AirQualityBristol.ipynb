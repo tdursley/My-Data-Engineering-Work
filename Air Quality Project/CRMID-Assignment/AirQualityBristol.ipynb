{
 "cells": [
  {
   "cell_type": "code",
   "execution_count": 14,
   "metadata": {},
   "outputs": [],
   "source": [
    "import os\n",
    "import sys\n",
    "\n",
    "os.environ[\"JAVA_HOME\"] = \"JDK 8/Contents/Home\"\n",
    "os.environ[\"PYSPARK_PYTHON\"] = sys.executable\n",
    "os.environ[\"PYSPARK_DRIVER_PYTHON\"] = sys.executable"
   ]
  },
  {
   "cell_type": "code",
   "execution_count": 15,
   "metadata": {},
   "outputs": [],
   "source": [
    "from pyspark.sql import SparkSession"
   ]
  },
  {
   "cell_type": "code",
   "execution_count": 16,
   "metadata": {},
   "outputs": [],
   "source": [
    "from pyspark.sql.functions import *\n",
    "\n",
    "spark = SparkSession.builder\\\n",
    "    .appName(\"ETLAssignment\")\\\n",
    "    .getOrCreate() #create spark sesion "
   ]
  },
  {
   "cell_type": "code",
   "execution_count": 17,
   "metadata": {},
   "outputs": [
    {
     "name": "stdout",
     "output_type": "stream",
     "text": [
      "+---+-----------------+-------------+------------------+------------------+-------------------+\n",
      "| ID|         Location|Location_type|          Latitude|         Longitude|Latitude_normalised|\n",
      "+---+-----------------+-------------+------------------+------------------+-------------------+\n",
      "|  1| Withywood School|Urban Traffic| 51.40822835721291|-2.629068514063199|0.09093774496733553|\n",
      "|  2|   Colston Avenue|Urban Traffic| 51.45503494834262|-2.598137704102741|0.29381988672233417|\n",
      "|  3|    Blackboy Hill|Urban Traffic|51.469682294439075|-2.615317505038476|0.35730848683935723|\n",
      "|  4|      Three Lamps|Urban Traffic| 51.44468970951661|-2.579659103227444|0.24897867612932068|\n",
      "|  5|Bedminster Parade|Urban Traffic| 51.44329165406191|-2.596618469982965| 0.2429188354509884|\n",
      "+---+-----------------+-------------+------------------+------------------+-------------------+\n",
      "only showing top 5 rows\n",
      "\n"
     ]
    }
   ],
   "source": [
    "Air_Quality_tranformed_df = spark.read.csv(\"/Users/tomdursley/Documents/Pyspark Project/Air Quality project/air_quality_tranformation.csv\", header=True, inferSchema=True) \n",
    "#read my csv file that i have saved locally \n",
    "\n",
    "Air_Quality_tranformed_df.show(5)"
   ]
  },
  {
   "cell_type": "code",
   "execution_count": 18,
   "metadata": {},
   "outputs": [],
   "source": [
    "url = \"jdbc:postgresql://localhost:5432/ETLAssignment\" #defined the url of the database i want writing in\n",
    "\n",
    "properties = {\n",
    "    \"user\": \"postgres\",\n",
    "    \"password\": \"cd090264\"\n",
    "} # I logged into pgadmin using this piece of code"
   ]
  },
  {
   "cell_type": "code",
   "execution_count": 19,
   "metadata": {},
   "outputs": [],
   "source": [
    "Air_Quality_tranformed_df.write\\\n",
    "    .jdbc(url = url, \\\n",
    "    table=\"AirQualityBristol\", \\\n",
    "    mode=\"overwrite\", \\\n",
    "    properties = properties) # i then created the new table and overwrited the databse with a new table"
   ]
  }
 ],
 "metadata": {
  "kernelspec": {
   "display_name": "Python 3",
   "language": "python",
   "name": "python3"
  },
  "language_info": {
   "codemirror_mode": {
    "name": "ipython",
    "version": 3
   },
   "file_extension": ".py",
   "mimetype": "text/x-python",
   "name": "python",
   "nbconvert_exporter": "python",
   "pygments_lexer": "ipython3",
   "version": "3.11.0"
  }
 },
 "nbformat": 4,
 "nbformat_minor": 2
}
