{
 "cells": [
  {
   "cell_type": "code",
   "execution_count": 1,
   "metadata": {},
   "outputs": [
    {
     "name": "stdout",
     "output_type": "stream",
     "text": [
      "Requirement already satisfied: pyspark in /Library/Frameworks/Python.framework/Versions/3.11/lib/python3.11/site-packages (3.5.4)\n",
      "Requirement already satisfied: py4j==0.10.9.7 in /Library/Frameworks/Python.framework/Versions/3.11/lib/python3.11/site-packages (from pyspark) (0.10.9.7)\n",
      "\n",
      "\u001b[1m[\u001b[0m\u001b[34;49mnotice\u001b[0m\u001b[1;39;49m]\u001b[0m\u001b[39;49m A new release of pip available: \u001b[0m\u001b[31;49m22.3\u001b[0m\u001b[39;49m -> \u001b[0m\u001b[32;49m25.0\u001b[0m\n",
      "\u001b[1m[\u001b[0m\u001b[34;49mnotice\u001b[0m\u001b[1;39;49m]\u001b[0m\u001b[39;49m To update, run: \u001b[0m\u001b[32;49mpip3 install --upgrade pip\u001b[0m\n",
      "Note: you may need to restart the kernel to use updated packages.\n"
     ]
    }
   ],
   "source": [
    "pip install pyspark"
   ]
  },
  {
   "cell_type": "code",
   "execution_count": 11,
   "metadata": {},
   "outputs": [],
   "source": [
    "import os\n",
    "import sys\n",
    "\n",
    "os.environ[\"JAVA_HOME\"] = \"JDK 8/Contents/Home\"\n",
    "os.environ[\"PYSPARK_PYTHON\"] = sys.executable\n",
    "os.environ[\"PYSPARK_DRIVER_PYTHON\"] = sys.executable"
   ]
  },
  {
   "cell_type": "code",
   "execution_count": 19,
   "metadata": {},
   "outputs": [],
   "source": [
    "# Imports\n",
    "from pyspark.sql import SparkSession\n",
    "from pyspark.sql.functions import col\n",
    "from pyspark.sql.functions import *\n",
    "\n",
    "spark = SparkSession.builder.appName(\"Api and DataFrame\").getOrCreate()"
   ]
  },
  {
   "cell_type": "code",
   "execution_count": 13,
   "metadata": {},
   "outputs": [
    {
     "name": "stderr",
     "output_type": "stream",
     "text": [
      "                                                                                \r"
     ]
    },
    {
     "name": "stdout",
     "output_type": "stream",
     "text": [
      "+-----+---+\n",
      "| Name|Age|\n",
      "+-----+---+\n",
      "|  Tom| 26|\n",
      "| Play| 24|\n",
      "|Ruben| 34|\n",
      "|  Dan| 30|\n",
      "+-----+---+\n",
      "\n"
     ]
    }
   ],
   "source": [
    "data = [(\"Tom\", 26), (\"Play\", 24), (\"Ruben\", 34), (\"Dan\", 30)]\n",
    "columns =[\"Name\", \"Age\"]\n",
    "\n",
    "df = spark.createDataFrame(data=data, schema=columns)\n",
    "df.show()"
   ]
  },
  {
   "cell_type": "code",
   "execution_count": 17,
   "metadata": {},
   "outputs": [],
   "source": [
    "from pyspark.sql.functions import when"
   ]
  },
  {
   "cell_type": "code",
   "execution_count": 20,
   "metadata": {},
   "outputs": [
    {
     "name": "stdout",
     "output_type": "stream",
     "text": [
      "+-----+---+------------+\n",
      "| Name|Age|   The_best?|\n",
      "+-----+---+------------+\n",
      "|  Tom| 26| Is the best|\n",
      "| Play| 24|Not the best|\n",
      "|Ruben| 34|Not the best|\n",
      "|  Dan| 30|Not the best|\n",
      "+-----+---+------------+\n",
      "\n"
     ]
    }
   ],
   "source": [
    "df = df.withColumn(\"The_best?\", when(col(\"Name\") == \"Tom\", \"Is the best\").otherwise(\"Not the best\"))\n",
    "df.show()"
   ]
  },
  {
   "cell_type": "code",
   "execution_count": 23,
   "metadata": {},
   "outputs": [
    {
     "name": "stderr",
     "output_type": "stream",
     "text": [
      "[Stage 21:=========================================>               (8 + 3) / 11]\r"
     ]
    },
    {
     "name": "stdout",
     "output_type": "stream",
     "text": [
      "+-------+---+------------+\n",
      "|   Name|Age|   The_best?|\n",
      "+-------+---+------------+\n",
      "|  Ruben| 34|Not the best|\n",
      "|   Bill| 46|            |\n",
      "|    Ben| 45|            |\n",
      "|Bigears| 32|            |\n",
      "|   Bill| 46|            |\n",
      "|    Ben| 45|            |\n",
      "|Bigears| 32|            |\n",
      "|   Bill| 46|            |\n",
      "|    Ben| 45|            |\n",
      "|Bigears| 32|            |\n",
      "+-------+---+------------+\n",
      "\n"
     ]
    },
    {
     "name": "stderr",
     "output_type": "stream",
     "text": [
      "                                                                                \r"
     ]
    }
   ],
   "source": [
    "new_names = [(\"Bill\", 46, \"\") , (\"Ben\", 45, \"\"), (\"Noddy\", 29, \"\"), (\"Bigears\", 32, \"\")]\n",
    "new_df = spark.createDataFrame(data=new_names, schema=columns)\n",
    "df = df.union(new_df)\n",
    "# filter users > 30\n",
    "\n",
    "df.filter(df.Age > 30).show()\n",
    "\n"
   ]
  },
  {
   "cell_type": "code",
   "execution_count": 24,
   "metadata": {},
   "outputs": [
    {
     "name": "stderr",
     "output_type": "stream",
     "text": [
      "[Stage 24:=========================================>               (8 + 3) / 11]\r"
     ]
    },
    {
     "name": "stdout",
     "output_type": "stream",
     "text": [
      "+-------+\n",
      "|   name|\n",
      "+-------+\n",
      "|    Tom|\n",
      "|   Play|\n",
      "|  Ruben|\n",
      "|    Dan|\n",
      "|   Bill|\n",
      "|    Ben|\n",
      "|  Noddy|\n",
      "|Bigears|\n",
      "|   Bill|\n",
      "|    Ben|\n",
      "|  Noddy|\n",
      "|Bigears|\n",
      "|   Bill|\n",
      "|    Ben|\n",
      "|  Noddy|\n",
      "|Bigears|\n",
      "+-------+\n",
      "\n"
     ]
    },
    {
     "name": "stderr",
     "output_type": "stream",
     "text": [
      "                                                                                \r"
     ]
    }
   ],
   "source": [
    "# select only the name column\n",
    "\n",
    "df.select(\"name\").show()\n",
    "\n"
   ]
  },
  {
   "cell_type": "code",
   "execution_count": 25,
   "metadata": {},
   "outputs": [
    {
     "name": "stderr",
     "output_type": "stream",
     "text": [
      "                                                                                \r"
     ]
    },
    {
     "data": {
      "text/plain": [
       "16"
      ]
     },
     "execution_count": 25,
     "metadata": {},
     "output_type": "execute_result"
    }
   ],
   "source": [
    "# count rows in the df\n",
    "\n",
    "df.count()\n",
    "\n"
   ]
  },
  {
   "cell_type": "code",
   "execution_count": 26,
   "metadata": {},
   "outputs": [
    {
     "name": "stderr",
     "output_type": "stream",
     "text": [
      "[Stage 28:==========================================>             (12 + 4) / 16]\r"
     ]
    },
    {
     "name": "stdout",
     "output_type": "stream",
     "text": [
      "+-------+---+------------+\n",
      "|   Name|Age|   The_best?|\n",
      "+-------+---+------------+\n",
      "|   Bill| 46|            |\n",
      "|   Bill| 46|            |\n",
      "|   Bill| 46|            |\n",
      "|    Ben| 45|            |\n",
      "|    Ben| 45|            |\n",
      "|    Ben| 45|            |\n",
      "|  Ruben| 34|Not the best|\n",
      "|Bigears| 32|            |\n",
      "|Bigears| 32|            |\n",
      "|Bigears| 32|            |\n",
      "|    Dan| 30|Not the best|\n",
      "|  Noddy| 29|            |\n",
      "|  Noddy| 29|            |\n",
      "|  Noddy| 29|            |\n",
      "|    Tom| 26| Is the best|\n",
      "|   Play| 24|Not the best|\n",
      "+-------+---+------------+\n",
      "\n"
     ]
    },
    {
     "name": "stderr",
     "output_type": "stream",
     "text": [
      "                                                                                \r"
     ]
    }
   ],
   "source": [
    "# order by age, descending\n",
    "\n",
    "df.orderBy(col(\"age\").desc()).show()"
   ]
  },
  {
   "cell_type": "code",
   "execution_count": 27,
   "metadata": {},
   "outputs": [
    {
     "name": "stdout",
     "output_type": "stream",
     "text": [
      "Collecting pandas\n",
      "  Downloading pandas-2.2.3-cp311-cp311-macosx_10_9_x86_64.whl (12.6 MB)\n",
      "\u001b[2K     \u001b[90m━━━━━━━━━━━━━━━━━━━━━━━━━━━━━━━━━━━━━━━━\u001b[0m \u001b[32m12.6/12.6 MB\u001b[0m \u001b[31m5.8 MB/s\u001b[0m eta \u001b[36m0:00:00\u001b[0m00:01\u001b[0m00:01\u001b[0m\n",
      "\u001b[?25hCollecting numpy>=1.23.2\n",
      "  Downloading numpy-2.2.2-cp311-cp311-macosx_10_9_x86_64.whl (21.2 MB)\n",
      "\u001b[2K     \u001b[90m━━━━━━━━━━━━━━━━━━━━━━━━━━━━━━━━━━━━━━━━\u001b[0m \u001b[32m21.2/21.2 MB\u001b[0m \u001b[31m5.7 MB/s\u001b[0m eta \u001b[36m0:00:00\u001b[0m00:01\u001b[0m00:01\u001b[0m\n",
      "\u001b[?25hRequirement already satisfied: python-dateutil>=2.8.2 in /Users/tomdursley/Library/Python/3.11/lib/python/site-packages (from pandas) (2.9.0.post0)\n",
      "Collecting pytz>=2020.1\n",
      "  Downloading pytz-2024.2-py2.py3-none-any.whl (508 kB)\n",
      "\u001b[2K     \u001b[90m━━━━━━━━━━━━━━━━━━━━━━━━━━━━━━━━━━━━━━━\u001b[0m \u001b[32m508.0/508.0 kB\u001b[0m \u001b[31m4.7 MB/s\u001b[0m eta \u001b[36m0:00:00\u001b[0m00:01\u001b[0m00:01\u001b[0m\n",
      "\u001b[?25hCollecting tzdata>=2022.7\n",
      "  Downloading tzdata-2025.1-py2.py3-none-any.whl (346 kB)\n",
      "\u001b[2K     \u001b[90m━━━━━━━━━━━━━━━━━━━━━━━━━━━━━━━━━━━━━━━\u001b[0m \u001b[32m346.8/346.8 kB\u001b[0m \u001b[31m5.3 MB/s\u001b[0m eta \u001b[36m0:00:00\u001b[0m00:01\u001b[0m\n",
      "\u001b[?25hRequirement already satisfied: six>=1.5 in /Users/tomdursley/Library/Python/3.11/lib/python/site-packages (from python-dateutil>=2.8.2->pandas) (1.17.0)\n",
      "Installing collected packages: pytz, tzdata, numpy, pandas\n",
      "Successfully installed numpy-2.2.2 pandas-2.2.3 pytz-2024.2 tzdata-2025.1\n",
      "\n",
      "\u001b[1m[\u001b[0m\u001b[34;49mnotice\u001b[0m\u001b[1;39;49m]\u001b[0m\u001b[39;49m A new release of pip available: \u001b[0m\u001b[31;49m22.3\u001b[0m\u001b[39;49m -> \u001b[0m\u001b[32;49m25.0\u001b[0m\n",
      "\u001b[1m[\u001b[0m\u001b[34;49mnotice\u001b[0m\u001b[1;39;49m]\u001b[0m\u001b[39;49m To update, run: \u001b[0m\u001b[32;49mpip3 install --upgrade pip\u001b[0m\n",
      "Note: you may need to restart the kernel to use updated packages.\n"
     ]
    }
   ],
   "source": [
    "pip install pandas"
   ]
  },
  {
   "cell_type": "code",
   "execution_count": 29,
   "metadata": {},
   "outputs": [
    {
     "data": {
      "text/html": [
       "<div>\n",
       "<style scoped>\n",
       "    .dataframe tbody tr th:only-of-type {\n",
       "        vertical-align: middle;\n",
       "    }\n",
       "\n",
       "    .dataframe tbody tr th {\n",
       "        vertical-align: top;\n",
       "    }\n",
       "\n",
       "    .dataframe thead th {\n",
       "        text-align: right;\n",
       "    }\n",
       "</style>\n",
       "<table border=\"1\" class=\"dataframe\">\n",
       "  <thead>\n",
       "    <tr style=\"text-align: right;\">\n",
       "      <th></th>\n",
       "      <th>userId</th>\n",
       "      <th>id</th>\n",
       "      <th>title</th>\n",
       "      <th>body</th>\n",
       "    </tr>\n",
       "  </thead>\n",
       "  <tbody>\n",
       "    <tr>\n",
       "      <th>0</th>\n",
       "      <td>1</td>\n",
       "      <td>1</td>\n",
       "      <td>sunt aut facere repellat provident occaecati e...</td>\n",
       "      <td>quia et suscipit\\nsuscipit recusandae consequu...</td>\n",
       "    </tr>\n",
       "    <tr>\n",
       "      <th>1</th>\n",
       "      <td>1</td>\n",
       "      <td>2</td>\n",
       "      <td>qui est esse</td>\n",
       "      <td>est rerum tempore vitae\\nsequi sint nihil repr...</td>\n",
       "    </tr>\n",
       "    <tr>\n",
       "      <th>2</th>\n",
       "      <td>1</td>\n",
       "      <td>3</td>\n",
       "      <td>ea molestias quasi exercitationem repellat qui...</td>\n",
       "      <td>et iusto sed quo iure\\nvoluptatem occaecati om...</td>\n",
       "    </tr>\n",
       "    <tr>\n",
       "      <th>3</th>\n",
       "      <td>1</td>\n",
       "      <td>4</td>\n",
       "      <td>eum et est occaecati</td>\n",
       "      <td>ullam et saepe reiciendis voluptatem adipisci\\...</td>\n",
       "    </tr>\n",
       "    <tr>\n",
       "      <th>4</th>\n",
       "      <td>1</td>\n",
       "      <td>5</td>\n",
       "      <td>nesciunt quas odio</td>\n",
       "      <td>repudiandae veniam quaerat sunt sed\\nalias aut...</td>\n",
       "    </tr>\n",
       "    <tr>\n",
       "      <th>...</th>\n",
       "      <td>...</td>\n",
       "      <td>...</td>\n",
       "      <td>...</td>\n",
       "      <td>...</td>\n",
       "    </tr>\n",
       "    <tr>\n",
       "      <th>95</th>\n",
       "      <td>10</td>\n",
       "      <td>96</td>\n",
       "      <td>quaerat velit veniam amet cupiditate aut numqu...</td>\n",
       "      <td>in non odio excepturi sint eum\\nlabore volupta...</td>\n",
       "    </tr>\n",
       "    <tr>\n",
       "      <th>96</th>\n",
       "      <td>10</td>\n",
       "      <td>97</td>\n",
       "      <td>quas fugiat ut perspiciatis vero provident</td>\n",
       "      <td>eum non blanditiis soluta porro quibusdam volu...</td>\n",
       "    </tr>\n",
       "    <tr>\n",
       "      <th>97</th>\n",
       "      <td>10</td>\n",
       "      <td>98</td>\n",
       "      <td>laboriosam dolor voluptates</td>\n",
       "      <td>doloremque ex facilis sit sint culpa\\nsoluta a...</td>\n",
       "    </tr>\n",
       "    <tr>\n",
       "      <th>98</th>\n",
       "      <td>10</td>\n",
       "      <td>99</td>\n",
       "      <td>temporibus sit alias delectus eligendi possimu...</td>\n",
       "      <td>quo deleniti praesentium dicta non quod\\naut e...</td>\n",
       "    </tr>\n",
       "    <tr>\n",
       "      <th>99</th>\n",
       "      <td>10</td>\n",
       "      <td>100</td>\n",
       "      <td>at nam consequatur ea labore ea harum</td>\n",
       "      <td>cupiditate quo est a modi nesciunt soluta\\nips...</td>\n",
       "    </tr>\n",
       "  </tbody>\n",
       "</table>\n",
       "<p>100 rows × 4 columns</p>\n",
       "</div>"
      ],
      "text/plain": [
       "    userId   id                                              title  \\\n",
       "0        1    1  sunt aut facere repellat provident occaecati e...   \n",
       "1        1    2                                       qui est esse   \n",
       "2        1    3  ea molestias quasi exercitationem repellat qui...   \n",
       "3        1    4                               eum et est occaecati   \n",
       "4        1    5                                 nesciunt quas odio   \n",
       "..     ...  ...                                                ...   \n",
       "95      10   96  quaerat velit veniam amet cupiditate aut numqu...   \n",
       "96      10   97         quas fugiat ut perspiciatis vero provident   \n",
       "97      10   98                        laboriosam dolor voluptates   \n",
       "98      10   99  temporibus sit alias delectus eligendi possimu...   \n",
       "99      10  100              at nam consequatur ea labore ea harum   \n",
       "\n",
       "                                                 body  \n",
       "0   quia et suscipit\\nsuscipit recusandae consequu...  \n",
       "1   est rerum tempore vitae\\nsequi sint nihil repr...  \n",
       "2   et iusto sed quo iure\\nvoluptatem occaecati om...  \n",
       "3   ullam et saepe reiciendis voluptatem adipisci\\...  \n",
       "4   repudiandae veniam quaerat sunt sed\\nalias aut...  \n",
       "..                                                ...  \n",
       "95  in non odio excepturi sint eum\\nlabore volupta...  \n",
       "96  eum non blanditiis soluta porro quibusdam volu...  \n",
       "97  doloremque ex facilis sit sint culpa\\nsoluta a...  \n",
       "98  quo deleniti praesentium dicta non quod\\naut e...  \n",
       "99  cupiditate quo est a modi nesciunt soluta\\nips...  \n",
       "\n",
       "[100 rows x 4 columns]"
      ]
     },
     "execution_count": 29,
     "metadata": {},
     "output_type": "execute_result"
    }
   ],
   "source": [
    "import pandas as pd\n",
    "import requests\n",
    "\n",
    "url = \"https://jsonplaceholder.typicode.com/posts\"\n",
    "\n",
    "response_data = requests.get(url).json()\n",
    "\n",
    "posts_df = pd.DataFrame(response_data)\n",
    "posts_df"
   ]
  },
  {
   "cell_type": "code",
   "execution_count": 30,
   "metadata": {},
   "outputs": [
    {
     "name": "stdout",
     "output_type": "stream",
     "text": [
      "+------+---+--------------------+--------------------+\n",
      "|userId| id|               title|                body|\n",
      "+------+---+--------------------+--------------------+\n",
      "|     1|  1|sunt aut facere r...|quia et suscipit\\...|\n",
      "|     1|  2|        qui est esse|est rerum tempore...|\n",
      "|     1|  3|ea molestias quas...|et iusto sed quo ...|\n",
      "|     1|  4|eum et est occaecati|ullam et saepe re...|\n",
      "|     1|  5|  nesciunt quas odio|repudiandae venia...|\n",
      "|     1|  6|dolorem eum magni...|ut aspernatur cor...|\n",
      "|     1|  7|magnam facilis autem|dolore placeat qu...|\n",
      "|     1|  8|dolorem dolore es...|dignissimos aperi...|\n",
      "|     1|  9|nesciunt iure omn...|consectetur animi...|\n",
      "|     1| 10|optio molestias i...|quo et expedita m...|\n",
      "|     2| 11|et ea vero quia l...|delectus reiciend...|\n",
      "|     2| 12|in quibusdam temp...|itaque id aut mag...|\n",
      "|     2| 13|dolorum ut in vol...|aut dicta possimu...|\n",
      "|     2| 14|voluptatem eligen...|fuga et accusamus...|\n",
      "|     2| 15|eveniet quod temp...|reprehenderit quo...|\n",
      "|     2| 16|sint suscipit per...|suscipit nam nisi...|\n",
      "|     2| 17|fugit voluptas se...|eos voluptas et a...|\n",
      "|     2| 18|voluptate et itaq...|eveniet quo quis\\...|\n",
      "|     2| 19|adipisci placeat ...|illum quis cupidi...|\n",
      "|     2| 20|doloribus ad prov...|qui consequuntur ...|\n",
      "+------+---+--------------------+--------------------+\n",
      "only showing top 20 rows\n",
      "\n"
     ]
    }
   ],
   "source": [
    "spark_df = spark.createDataFrame(posts_df)\n",
    "spark_df.show()"
   ]
  },
  {
   "cell_type": "code",
   "execution_count": 31,
   "metadata": {},
   "outputs": [
    {
     "name": "stderr",
     "output_type": "stream",
     "text": [
      "[Stage 30:==============>                                           (1 + 3) / 4]\r"
     ]
    },
    {
     "name": "stdout",
     "output_type": "stream",
     "text": [
      "+------+-----+\n",
      "|userId|count|\n",
      "+------+-----+\n",
      "|     1|   10|\n",
      "|     3|   10|\n",
      "|     2|   10|\n",
      "|     5|   10|\n",
      "|     4|   10|\n",
      "|     7|   10|\n",
      "|     6|   10|\n",
      "|     8|   10|\n",
      "|     9|   10|\n",
      "|    10|   10|\n",
      "+------+-----+\n",
      "\n"
     ]
    },
    {
     "name": "stderr",
     "output_type": "stream",
     "text": [
      "                                                                                \r"
     ]
    }
   ],
   "source": [
    "spark_df.groupBy(\"userId\").count().show()"
   ]
  },
  {
   "cell_type": "code",
   "execution_count": 32,
   "metadata": {},
   "outputs": [
    {
     "name": "stdout",
     "output_type": "stream",
     "text": [
      "+---+-----+---+--------------+\n",
      "| ID| Name|Age|    Occupation|\n",
      "+---+-----+---+--------------+\n",
      "|  1|Alice| 34|Data Scientist|\n",
      "|  2|  Bob| 45|      Engineer|\n",
      "|  3|Cathy| 29|       Analyst|\n",
      "|  4|David| 41|       Manager|\n",
      "|  5|  Eva| 35| Data Engineer|\n",
      "+---+-----+---+--------------+\n",
      "\n"
     ]
    }
   ],
   "source": [
    "data = [\n",
    "    (1, \"Alice\", 34, \"Data Scientist\"),\n",
    "    (2, \"Bob\", 45, \"Engineer\"),\n",
    "    (3, \"Cathy\", 29, \"Analyst\"),\n",
    "    (4, \"David\", 41, \"Manager\"),\n",
    "    (5, \"Eva\", 35, \"Data Engineer\")\n",
    "]\n",
    "columns = [\"ID\", \"Name\", \"Age\", \"Occupation\"]\n",
    "\n",
    "df_workers = spark.createDataFrame(data, columns)\n",
    "df_workers.show()"
   ]
  },
  {
   "cell_type": "code",
   "execution_count": 33,
   "metadata": {},
   "outputs": [
    {
     "name": "stderr",
     "output_type": "stream",
     "text": [
      "                                                                                \r"
     ]
    },
    {
     "name": "stdout",
     "output_type": "stream",
     "text": [
      "+---+-----+---+--------------+---------+\n",
      "| ID| Name|Age|    Occupation|Is_Senior|\n",
      "+---+-----+---+--------------+---------+\n",
      "|  1|Alice| 34|Data Scientist|    false|\n",
      "|  2|  Bob| 45|      Engineer|     true|\n",
      "|  3|Cathy| 29|       Analyst|    false|\n",
      "|  4|David| 41|       Manager|     true|\n",
      "|  5|  Eva| 35| Data Engineer|    false|\n",
      "+---+-----+---+--------------+---------+\n",
      "\n"
     ]
    }
   ],
   "source": [
    "df_custom = df_workers.withColumn(\"Is_Senior\", col(\"Age\") >= 40)\n",
    "df_custom.show()"
   ]
  },
  {
   "cell_type": "code",
   "execution_count": null,
   "metadata": {},
   "outputs": [],
   "source": []
  },
  {
   "cell_type": "code",
   "execution_count": 34,
   "metadata": {},
   "outputs": [
    {
     "name": "stdout",
     "output_type": "stream",
     "text": [
      "+---+-----+---+--------------+\n",
      "| ID| Name|Age|    Occupation|\n",
      "+---+-----+---+--------------+\n",
      "|  1|Alice| 34|Data Scientist|\n",
      "|  2|  Bob| 45|      Engineer|\n",
      "|  3|Cathy| 29|       Analyst|\n",
      "|  4|David| 41|       Manager|\n",
      "|  5|  Eva| 35| Data Engineer|\n",
      "+---+-----+---+--------------+\n",
      "\n"
     ]
    }
   ],
   "source": [
    "df_custom = df_custom.drop(\"Is_Senior\")\n",
    "df_custom.show()"
   ]
  },
  {
   "cell_type": "code",
   "execution_count": 35,
   "metadata": {},
   "outputs": [
    {
     "name": "stdout",
     "output_type": "stream",
     "text": [
      "+-------+-----+---+--------------+\n",
      "|work_ID| Name|Age|    Occupation|\n",
      "+-------+-----+---+--------------+\n",
      "|      1|Alice| 34|Data Scientist|\n",
      "|      2|  Bob| 45|      Engineer|\n",
      "|      3|Cathy| 29|       Analyst|\n",
      "|      4|David| 41|       Manager|\n",
      "|      5|  Eva| 35| Data Engineer|\n",
      "+-------+-----+---+--------------+\n",
      "\n"
     ]
    }
   ],
   "source": [
    "df_custom = df_custom.withColumnRenamed(\"ID\", \"work_ID\")\n",
    "df_custom.show()"
   ]
  },
  {
   "cell_type": "code",
   "execution_count": 36,
   "metadata": {},
   "outputs": [
    {
     "name": "stdout",
     "output_type": "stream",
     "text": [
      "+-------+-----+---+--------------+\n",
      "|work_ID| Name|Age|    Occupation|\n",
      "+-------+-----+---+--------------+\n",
      "|      1|Alice| 34|Data Scientist|\n",
      "|      5|  Eva| 35| Data Engineer|\n",
      "+-------+-----+---+--------------+\n",
      "\n"
     ]
    }
   ],
   "source": [
    "df_custom.filter((col(\"Age\") > 30) & (col(\"Occupation\").contains(\"Data\"))).show()"
   ]
  },
  {
   "cell_type": "code",
   "execution_count": null,
   "metadata": {},
   "outputs": [],
   "source": []
  }
 ],
 "metadata": {
  "kernelspec": {
   "display_name": "Python 3",
   "language": "python",
   "name": "python3"
  },
  "language_info": {
   "codemirror_mode": {
    "name": "ipython",
    "version": 3
   },
   "file_extension": ".py",
   "mimetype": "text/x-python",
   "name": "python",
   "nbconvert_exporter": "python",
   "pygments_lexer": "ipython3",
   "version": "3.11.0"
  }
 },
 "nbformat": 4,
 "nbformat_minor": 2
}
