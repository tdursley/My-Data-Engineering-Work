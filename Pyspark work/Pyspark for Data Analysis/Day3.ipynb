{
 "cells": [
  {
   "cell_type": "code",
   "execution_count": 1,
   "metadata": {},
   "outputs": [],
   "source": [
    "import os\n",
    "import sys\n",
    "\n",
    "os.environ[\"JAVA_HOME\"] = \"JDK 8/Contents/Home\"\n",
    "os.environ[\"PYSPARK_PYTHON\"] = sys.executable\n",
    "os.environ[\"PYSPARK_DRIVER_PYTHON\"] = sys.executable"
   ]
  },
  {
   "cell_type": "code",
   "execution_count": 17,
   "metadata": {},
   "outputs": [],
   "source": [
    "from pyspark.sql import SparkSession\n",
    "from pyspark.sql.functions import *\n",
    "from pyspark.sql.functions import col\n",
    "\n",
    "from pyspark.sql.types import IntegerType\n",
    "\n",
    "\n",
    "spark = SparkSession.builder.appName(\"Saving and Project\").getOrCreate()"
   ]
  },
  {
   "cell_type": "code",
   "execution_count": 6,
   "metadata": {},
   "outputs": [
    {
     "name": "stderr",
     "output_type": "stream",
     "text": [
      "                                                                                \r"
     ]
    },
    {
     "name": "stdout",
     "output_type": "stream",
     "text": [
      "+---+--------------------+--------------------+------------+\n",
      "| ID|           book_name|              author|publish_date|\n",
      "+---+--------------------+--------------------+------------+\n",
      "|  1|           Moby Dick|     Herman Melville|        1851|\n",
      "|  2|     Treasure Island|Robert Louis Stev...|        1883|\n",
      "|  3|     Robinson Crusoe|        Daniel Defoe|        1719|\n",
      "|  4|The Fellowship of...|    J. R. R. Tolkien|        1954|\n",
      "|  5|The Hitchhikers G...|       Douglas Adams|        1979|\n",
      "+---+--------------------+--------------------+------------+\n",
      "\n"
     ]
    }
   ],
   "source": [
    "data = [\n",
    "    (1, \"Moby Dick\", \"Herman Melville\", 1851),\n",
    "    (2, \"Treasure Island\", \"Robert Louis Stevenson\", 1883),\n",
    "    (3, \"Robinson Crusoe\", \"Daniel Defoe\", 1719),\n",
    "    (4, \"The Fellowship of the Ring\", \"J. R. R. Tolkien\", 1954),\n",
    "    (5, \"The Hitchhikers Guide to the Galaxy\", \"Douglas Adams\", 1979)\n",
    "    ]\n",
    "\n",
    "columns = [\"ID\", \"book_name\", \"author\", \"publish_date\"]\n",
    "\n",
    "df_books = spark.createDataFrame(data, columns)\n",
    "df_books.show()"
   ]
  },
  {
   "cell_type": "code",
   "execution_count": 8,
   "metadata": {},
   "outputs": [
    {
     "name": "stderr",
     "output_type": "stream",
     "text": [
      "                                                                                \r"
     ]
    }
   ],
   "source": [
    "output_path = \"./csv_out\"\n",
    "df_books.write.csv(output_path, header=True)"
   ]
  },
  {
   "cell_type": "code",
   "execution_count": 40,
   "metadata": {},
   "outputs": [],
   "source": [
    "import pandas as pd\n",
    "\n"
   ]
  },
  {
   "cell_type": "code",
   "execution_count": 41,
   "metadata": {},
   "outputs": [
    {
     "name": "stdout",
     "output_type": "stream",
     "text": [
      "+----------+-----------------+-----------------+\n",
      "|      date|number_of_strikes|center_point_geom|\n",
      "+----------+-----------------+-----------------+\n",
      "|2018-01-03|              194|    POINT(-75 27)|\n",
      "|2018-01-03|               41|  POINT(-78.4 29)|\n",
      "|2018-01-03|               33|  POINT(-73.9 27)|\n",
      "|2018-01-03|               38|  POINT(-73.8 27)|\n",
      "|2018-01-03|               92|    POINT(-79 28)|\n",
      "|2018-01-03|              119|    POINT(-78 28)|\n",
      "|2018-01-03|               35|  POINT(-79.3 28)|\n",
      "|2018-01-03|               60|  POINT(-79.1 28)|\n",
      "|2018-01-03|               41|  POINT(-78.7 28)|\n",
      "|2018-01-03|              119|  POINT(-78.6 28)|\n",
      "|2018-01-03|              107|  POINT(-78.5 28)|\n",
      "|2018-01-03|              158|  POINT(-78.4 28)|\n",
      "|2018-01-03|              168|  POINT(-78.3 28)|\n",
      "|2018-01-03|              167|  POINT(-78.2 28)|\n",
      "|2018-01-03|              121|  POINT(-78.1 28)|\n",
      "|2018-01-03|               47|  POINT(-77.9 28)|\n",
      "|2018-01-03|               33|  POINT(-75.3 27)|\n",
      "|2018-01-03|               84|  POINT(-75.2 27)|\n",
      "|2018-01-03|              235|  POINT(-75.1 27)|\n",
      "|2018-01-03|               98|  POINT(-74.9 27)|\n",
      "+----------+-----------------+-----------------+\n",
      "only showing top 20 rows\n",
      "\n"
     ]
    }
   ],
   "source": [
    "df = spark.read.csv(\"lightening strikes dataset.csv\", header=True)\n",
    "df.show()"
   ]
  },
  {
   "cell_type": "code",
   "execution_count": null,
   "metadata": {},
   "outputs": [],
   "source": []
  },
  {
   "cell_type": "code",
   "execution_count": 42,
   "metadata": {},
   "outputs": [
    {
     "name": "stdout",
     "output_type": "stream",
     "text": [
      "+----------+-----------------+-----------------+\n",
      "|      date|number_of_strikes|center_point_geom|\n",
      "+----------+-----------------+-----------------+\n",
      "|2018-01-03|              194|    POINT(-75 27)|\n",
      "|2018-01-03|               41|  POINT(-78.4 29)|\n",
      "|2018-01-03|               33|  POINT(-73.9 27)|\n",
      "|2018-01-03|               38|  POINT(-73.8 27)|\n",
      "|2018-01-03|               92|    POINT(-79 28)|\n",
      "|2018-01-03|              119|    POINT(-78 28)|\n",
      "|2018-01-03|               35|  POINT(-79.3 28)|\n",
      "|2018-01-03|               60|  POINT(-79.1 28)|\n",
      "|2018-01-03|               41|  POINT(-78.7 28)|\n",
      "|2018-01-03|              119|  POINT(-78.6 28)|\n",
      "|2018-01-03|              107|  POINT(-78.5 28)|\n",
      "|2018-01-03|              158|  POINT(-78.4 28)|\n",
      "|2018-01-03|              168|  POINT(-78.3 28)|\n",
      "|2018-01-03|              167|  POINT(-78.2 28)|\n",
      "|2018-01-03|              121|  POINT(-78.1 28)|\n",
      "|2018-01-03|               47|  POINT(-77.9 28)|\n",
      "|2018-01-03|               33|  POINT(-75.3 27)|\n",
      "|2018-01-03|               84|  POINT(-75.2 27)|\n",
      "|2018-01-03|              235|  POINT(-75.1 27)|\n",
      "|2018-01-03|               98|  POINT(-74.9 27)|\n",
      "+----------+-----------------+-----------------+\n",
      "only showing top 20 rows\n",
      "\n"
     ]
    }
   ],
   "source": [
    "df = df.withColumn(\"number_of_strikes\", col(\"number_of_strikes\").cast(IntegerType()))\n",
    "df = df.dropna()\n",
    "\n",
    "df.show()"
   ]
  },
  {
   "cell_type": "code",
   "execution_count": 43,
   "metadata": {},
   "outputs": [
    {
     "name": "stderr",
     "output_type": "stream",
     "text": [
      "[Stage 58:==============>                                           (1 + 3) / 4]\r"
     ]
    },
    {
     "name": "stdout",
     "output_type": "stream",
     "text": [
      "+----------+-----------------+-----------------+\n",
      "|      date|number_of_strikes|center_point_geom|\n",
      "+----------+-----------------+-----------------+\n",
      "|2018-08-20|             2211|POINT(-92.5 35.5)|\n",
      "|2018-08-16|             2142|POINT(-96.1 36.1)|\n",
      "|2018-08-17|             2061|POINT(-90.2 36.1)|\n",
      "|2018-08-17|             2031|POINT(-89.9 35.9)|\n",
      "|2018-08-16|             1902|POINT(-96.2 36.1)|\n",
      "|2018-02-10|             1899|POINT(-95.5 28.1)|\n",
      "|2018-08-16|             1878|POINT(-89.7 31.5)|\n",
      "|2018-02-25|             1833|POINT(-98.7 28.9)|\n",
      "|2018-08-17|             1767|  POINT(-90.1 36)|\n",
      "|2018-02-25|             1741|    POINT(-98 29)|\n",
      "|2018-02-11|             1686|  POINT(-88.7 29)|\n",
      "|2018-02-25|             1655|POINT(-98.6 28.9)|\n",
      "|2018-08-17|             1629|POINT(-89.4 35.7)|\n",
      "|2018-01-11|             1611|  POINT(-76 24.1)|\n",
      "|2018-02-22|             1559|POINT(-96.6 32.7)|\n",
      "|2018-02-11|             1513|POINT(-88.6 29.1)|\n",
      "|2018-08-25|             1497|POINT(-85.3 39.5)|\n",
      "|2018-08-28|             1494|POINT(-80.2 21.3)|\n",
      "|2018-08-16|             1485|POINT(-96.3 36.1)|\n",
      "|2018-08-17|             1476|POINT(-89.4 35.6)|\n",
      "+----------+-----------------+-----------------+\n",
      "only showing top 20 rows\n",
      "\n"
     ]
    },
    {
     "name": "stderr",
     "output_type": "stream",
     "text": [
      "                                                                                \r"
     ]
    }
   ],
   "source": [
    "df_sorted = df.orderBy(desc(\"number_of_strikes\"))\n",
    "df_sorted.show()"
   ]
  },
  {
   "cell_type": "code",
   "execution_count": 44,
   "metadata": {},
   "outputs": [
    {
     "name": "stderr",
     "output_type": "stream",
     "text": [
      "[Stage 59:==============>                                           (1 + 3) / 4]\r"
     ]
    },
    {
     "name": "stdout",
     "output_type": "stream",
     "text": [
      "+-----------------+-------------------------------------------------+\n",
      "|center_point_geom|round(avg(number_of_strikes) AS `Avg Strikes`, 2)|\n",
      "+-----------------+-------------------------------------------------+\n",
      "|POINT(-95.3 29.4)|                                            17.52|\n",
      "|POINT(-92.6 24.9)|                                             6.65|\n",
      "|POINT(-92.2 26.1)|                                             8.64|\n",
      "|POINT(-91.3 28.1)|                                            11.44|\n",
      "|POINT(-93.9 28.1)|                                             12.3|\n",
      "|POINT(-87.4 25.2)|                                             8.94|\n",
      "|POINT(-86.9 26.4)|                                            11.91|\n",
      "|POINT(-76.3 26.7)|                                            14.53|\n",
      "|  POINT(-85.5 26)|                                            10.03|\n",
      "|POINT(-76.1 25.7)|                                             11.0|\n",
      "|POINT(-99.9 33.6)|                                            26.79|\n",
      "|  POINT(-77 26.5)|                                             9.83|\n",
      "|POINT(-79.6 28.3)|                                            16.95|\n",
      "|POINT(-78.7 31.9)|                                            16.14|\n",
      "|POINT(-73.5 29.2)|                                             5.57|\n",
      "|POINT(-96.5 27.7)|                                            19.76|\n",
      "|POINT(-95.9 33.7)|                                            27.16|\n",
      "|POINT(-95.1 34.3)|                                             34.9|\n",
      "|POINT(-94.7 35.2)|                                            39.15|\n",
      "|  POINT(-92.8 31)|                                            25.78|\n",
      "+-----------------+-------------------------------------------------+\n",
      "only showing top 20 rows\n",
      "\n"
     ]
    },
    {
     "name": "stderr",
     "output_type": "stream",
     "text": [
      "                                                                                \r"
     ]
    }
   ],
   "source": [
    "avg_strikes_per_location = df.groupBy(\"center_point_geom\").agg(round(avg(\"number_of_strikes\").alias(\"Avg Strikes\"),2))\n",
    "avg_strikes_per_location.show()"
   ]
  },
  {
   "cell_type": "code",
   "execution_count": 45,
   "metadata": {},
   "outputs": [
    {
     "name": "stderr",
     "output_type": "stream",
     "text": [
      "                                                                                \r"
     ]
    },
    {
     "ename": "IsADirectoryError",
     "evalue": "[Errno 21] Is a directory: 'Ordered_lightning_strikes.csv'",
     "output_type": "error",
     "traceback": [
      "\u001b[0;31m---------------------------------------------------------------------------\u001b[0m",
      "\u001b[0;31mIsADirectoryError\u001b[0m                         Traceback (most recent call last)",
      "Cell \u001b[0;32mIn[45], line 3\u001b[0m\n\u001b[1;32m      1\u001b[0m pandas_df \u001b[38;5;241m=\u001b[39m avg_strikes_per_location\u001b[38;5;241m.\u001b[39mtoPandas()\n\u001b[0;32m----> 3\u001b[0m \u001b[43mpandas_df\u001b[49m\u001b[38;5;241;43m.\u001b[39;49m\u001b[43mto_csv\u001b[49m\u001b[43m(\u001b[49m\u001b[38;5;124;43m\"\u001b[39;49m\u001b[38;5;124;43mOrdered_lightning_strikes.csv\u001b[39;49m\u001b[38;5;124;43m\"\u001b[39;49m\u001b[43m)\u001b[49m\n\u001b[1;32m      4\u001b[0m \u001b[38;5;28mprint\u001b[39m(\u001b[38;5;124m\"\u001b[39m\u001b[38;5;124mCSV file saved successfully!\u001b[39m\u001b[38;5;124m\"\u001b[39m)\n",
      "File \u001b[0;32m/Library/Frameworks/Python.framework/Versions/3.11/lib/python3.11/site-packages/pandas/util/_decorators.py:333\u001b[0m, in \u001b[0;36mdeprecate_nonkeyword_arguments.<locals>.decorate.<locals>.wrapper\u001b[0;34m(*args, **kwargs)\u001b[0m\n\u001b[1;32m    327\u001b[0m \u001b[38;5;28;01mif\u001b[39;00m \u001b[38;5;28mlen\u001b[39m(args) \u001b[38;5;241m>\u001b[39m num_allow_args:\n\u001b[1;32m    328\u001b[0m     warnings\u001b[38;5;241m.\u001b[39mwarn(\n\u001b[1;32m    329\u001b[0m         msg\u001b[38;5;241m.\u001b[39mformat(arguments\u001b[38;5;241m=\u001b[39m_format_argument_list(allow_args)),\n\u001b[1;32m    330\u001b[0m         \u001b[38;5;167;01mFutureWarning\u001b[39;00m,\n\u001b[1;32m    331\u001b[0m         stacklevel\u001b[38;5;241m=\u001b[39mfind_stack_level(),\n\u001b[1;32m    332\u001b[0m     )\n\u001b[0;32m--> 333\u001b[0m \u001b[38;5;28;01mreturn\u001b[39;00m \u001b[43mfunc\u001b[49m\u001b[43m(\u001b[49m\u001b[38;5;241;43m*\u001b[39;49m\u001b[43margs\u001b[49m\u001b[43m,\u001b[49m\u001b[43m \u001b[49m\u001b[38;5;241;43m*\u001b[39;49m\u001b[38;5;241;43m*\u001b[39;49m\u001b[43mkwargs\u001b[49m\u001b[43m)\u001b[49m\n",
      "File \u001b[0;32m/Library/Frameworks/Python.framework/Versions/3.11/lib/python3.11/site-packages/pandas/core/generic.py:3967\u001b[0m, in \u001b[0;36mNDFrame.to_csv\u001b[0;34m(self, path_or_buf, sep, na_rep, float_format, columns, header, index, index_label, mode, encoding, compression, quoting, quotechar, lineterminator, chunksize, date_format, doublequote, escapechar, decimal, errors, storage_options)\u001b[0m\n\u001b[1;32m   3956\u001b[0m df \u001b[38;5;241m=\u001b[39m \u001b[38;5;28mself\u001b[39m \u001b[38;5;28;01mif\u001b[39;00m \u001b[38;5;28misinstance\u001b[39m(\u001b[38;5;28mself\u001b[39m, ABCDataFrame) \u001b[38;5;28;01melse\u001b[39;00m \u001b[38;5;28mself\u001b[39m\u001b[38;5;241m.\u001b[39mto_frame()\n\u001b[1;32m   3958\u001b[0m formatter \u001b[38;5;241m=\u001b[39m DataFrameFormatter(\n\u001b[1;32m   3959\u001b[0m     frame\u001b[38;5;241m=\u001b[39mdf,\n\u001b[1;32m   3960\u001b[0m     header\u001b[38;5;241m=\u001b[39mheader,\n\u001b[0;32m   (...)\u001b[0m\n\u001b[1;32m   3964\u001b[0m     decimal\u001b[38;5;241m=\u001b[39mdecimal,\n\u001b[1;32m   3965\u001b[0m )\n\u001b[0;32m-> 3967\u001b[0m \u001b[38;5;28;01mreturn\u001b[39;00m \u001b[43mDataFrameRenderer\u001b[49m\u001b[43m(\u001b[49m\u001b[43mformatter\u001b[49m\u001b[43m)\u001b[49m\u001b[38;5;241;43m.\u001b[39;49m\u001b[43mto_csv\u001b[49m\u001b[43m(\u001b[49m\n\u001b[1;32m   3968\u001b[0m \u001b[43m    \u001b[49m\u001b[43mpath_or_buf\u001b[49m\u001b[43m,\u001b[49m\n\u001b[1;32m   3969\u001b[0m \u001b[43m    \u001b[49m\u001b[43mlineterminator\u001b[49m\u001b[38;5;241;43m=\u001b[39;49m\u001b[43mlineterminator\u001b[49m\u001b[43m,\u001b[49m\n\u001b[1;32m   3970\u001b[0m \u001b[43m    \u001b[49m\u001b[43msep\u001b[49m\u001b[38;5;241;43m=\u001b[39;49m\u001b[43msep\u001b[49m\u001b[43m,\u001b[49m\n\u001b[1;32m   3971\u001b[0m \u001b[43m    \u001b[49m\u001b[43mencoding\u001b[49m\u001b[38;5;241;43m=\u001b[39;49m\u001b[43mencoding\u001b[49m\u001b[43m,\u001b[49m\n\u001b[1;32m   3972\u001b[0m \u001b[43m    \u001b[49m\u001b[43merrors\u001b[49m\u001b[38;5;241;43m=\u001b[39;49m\u001b[43merrors\u001b[49m\u001b[43m,\u001b[49m\n\u001b[1;32m   3973\u001b[0m \u001b[43m    \u001b[49m\u001b[43mcompression\u001b[49m\u001b[38;5;241;43m=\u001b[39;49m\u001b[43mcompression\u001b[49m\u001b[43m,\u001b[49m\n\u001b[1;32m   3974\u001b[0m \u001b[43m    \u001b[49m\u001b[43mquoting\u001b[49m\u001b[38;5;241;43m=\u001b[39;49m\u001b[43mquoting\u001b[49m\u001b[43m,\u001b[49m\n\u001b[1;32m   3975\u001b[0m \u001b[43m    \u001b[49m\u001b[43mcolumns\u001b[49m\u001b[38;5;241;43m=\u001b[39;49m\u001b[43mcolumns\u001b[49m\u001b[43m,\u001b[49m\n\u001b[1;32m   3976\u001b[0m \u001b[43m    \u001b[49m\u001b[43mindex_label\u001b[49m\u001b[38;5;241;43m=\u001b[39;49m\u001b[43mindex_label\u001b[49m\u001b[43m,\u001b[49m\n\u001b[1;32m   3977\u001b[0m \u001b[43m    \u001b[49m\u001b[43mmode\u001b[49m\u001b[38;5;241;43m=\u001b[39;49m\u001b[43mmode\u001b[49m\u001b[43m,\u001b[49m\n\u001b[1;32m   3978\u001b[0m \u001b[43m    \u001b[49m\u001b[43mchunksize\u001b[49m\u001b[38;5;241;43m=\u001b[39;49m\u001b[43mchunksize\u001b[49m\u001b[43m,\u001b[49m\n\u001b[1;32m   3979\u001b[0m \u001b[43m    \u001b[49m\u001b[43mquotechar\u001b[49m\u001b[38;5;241;43m=\u001b[39;49m\u001b[43mquotechar\u001b[49m\u001b[43m,\u001b[49m\n\u001b[1;32m   3980\u001b[0m \u001b[43m    \u001b[49m\u001b[43mdate_format\u001b[49m\u001b[38;5;241;43m=\u001b[39;49m\u001b[43mdate_format\u001b[49m\u001b[43m,\u001b[49m\n\u001b[1;32m   3981\u001b[0m \u001b[43m    \u001b[49m\u001b[43mdoublequote\u001b[49m\u001b[38;5;241;43m=\u001b[39;49m\u001b[43mdoublequote\u001b[49m\u001b[43m,\u001b[49m\n\u001b[1;32m   3982\u001b[0m \u001b[43m    \u001b[49m\u001b[43mescapechar\u001b[49m\u001b[38;5;241;43m=\u001b[39;49m\u001b[43mescapechar\u001b[49m\u001b[43m,\u001b[49m\n\u001b[1;32m   3983\u001b[0m \u001b[43m    \u001b[49m\u001b[43mstorage_options\u001b[49m\u001b[38;5;241;43m=\u001b[39;49m\u001b[43mstorage_options\u001b[49m\u001b[43m,\u001b[49m\n\u001b[1;32m   3984\u001b[0m \u001b[43m\u001b[49m\u001b[43m)\u001b[49m\n",
      "File \u001b[0;32m/Library/Frameworks/Python.framework/Versions/3.11/lib/python3.11/site-packages/pandas/io/formats/format.py:1014\u001b[0m, in \u001b[0;36mDataFrameRenderer.to_csv\u001b[0;34m(self, path_or_buf, encoding, sep, columns, index_label, mode, compression, quoting, quotechar, lineterminator, chunksize, date_format, doublequote, escapechar, errors, storage_options)\u001b[0m\n\u001b[1;32m    993\u001b[0m     created_buffer \u001b[38;5;241m=\u001b[39m \u001b[38;5;28;01mFalse\u001b[39;00m\n\u001b[1;32m    995\u001b[0m csv_formatter \u001b[38;5;241m=\u001b[39m CSVFormatter(\n\u001b[1;32m    996\u001b[0m     path_or_buf\u001b[38;5;241m=\u001b[39mpath_or_buf,\n\u001b[1;32m    997\u001b[0m     lineterminator\u001b[38;5;241m=\u001b[39mlineterminator,\n\u001b[0;32m   (...)\u001b[0m\n\u001b[1;32m   1012\u001b[0m     formatter\u001b[38;5;241m=\u001b[39m\u001b[38;5;28mself\u001b[39m\u001b[38;5;241m.\u001b[39mfmt,\n\u001b[1;32m   1013\u001b[0m )\n\u001b[0;32m-> 1014\u001b[0m \u001b[43mcsv_formatter\u001b[49m\u001b[38;5;241;43m.\u001b[39;49m\u001b[43msave\u001b[49m\u001b[43m(\u001b[49m\u001b[43m)\u001b[49m\n\u001b[1;32m   1016\u001b[0m \u001b[38;5;28;01mif\u001b[39;00m created_buffer:\n\u001b[1;32m   1017\u001b[0m     \u001b[38;5;28;01massert\u001b[39;00m \u001b[38;5;28misinstance\u001b[39m(path_or_buf, StringIO)\n",
      "File \u001b[0;32m/Library/Frameworks/Python.framework/Versions/3.11/lib/python3.11/site-packages/pandas/io/formats/csvs.py:251\u001b[0m, in \u001b[0;36mCSVFormatter.save\u001b[0;34m(self)\u001b[0m\n\u001b[1;32m    247\u001b[0m \u001b[38;5;250m\u001b[39m\u001b[38;5;124;03m\"\"\"\u001b[39;00m\n\u001b[1;32m    248\u001b[0m \u001b[38;5;124;03mCreate the writer & save.\u001b[39;00m\n\u001b[1;32m    249\u001b[0m \u001b[38;5;124;03m\"\"\"\u001b[39;00m\n\u001b[1;32m    250\u001b[0m \u001b[38;5;66;03m# apply compression and byte/text conversion\u001b[39;00m\n\u001b[0;32m--> 251\u001b[0m \u001b[38;5;28;01mwith\u001b[39;00m \u001b[43mget_handle\u001b[49m\u001b[43m(\u001b[49m\n\u001b[1;32m    252\u001b[0m \u001b[43m    \u001b[49m\u001b[38;5;28;43mself\u001b[39;49m\u001b[38;5;241;43m.\u001b[39;49m\u001b[43mfilepath_or_buffer\u001b[49m\u001b[43m,\u001b[49m\n\u001b[1;32m    253\u001b[0m \u001b[43m    \u001b[49m\u001b[38;5;28;43mself\u001b[39;49m\u001b[38;5;241;43m.\u001b[39;49m\u001b[43mmode\u001b[49m\u001b[43m,\u001b[49m\n\u001b[1;32m    254\u001b[0m \u001b[43m    \u001b[49m\u001b[43mencoding\u001b[49m\u001b[38;5;241;43m=\u001b[39;49m\u001b[38;5;28;43mself\u001b[39;49m\u001b[38;5;241;43m.\u001b[39;49m\u001b[43mencoding\u001b[49m\u001b[43m,\u001b[49m\n\u001b[1;32m    255\u001b[0m \u001b[43m    \u001b[49m\u001b[43merrors\u001b[49m\u001b[38;5;241;43m=\u001b[39;49m\u001b[38;5;28;43mself\u001b[39;49m\u001b[38;5;241;43m.\u001b[39;49m\u001b[43merrors\u001b[49m\u001b[43m,\u001b[49m\n\u001b[1;32m    256\u001b[0m \u001b[43m    \u001b[49m\u001b[43mcompression\u001b[49m\u001b[38;5;241;43m=\u001b[39;49m\u001b[38;5;28;43mself\u001b[39;49m\u001b[38;5;241;43m.\u001b[39;49m\u001b[43mcompression\u001b[49m\u001b[43m,\u001b[49m\n\u001b[1;32m    257\u001b[0m \u001b[43m    \u001b[49m\u001b[43mstorage_options\u001b[49m\u001b[38;5;241;43m=\u001b[39;49m\u001b[38;5;28;43mself\u001b[39;49m\u001b[38;5;241;43m.\u001b[39;49m\u001b[43mstorage_options\u001b[49m\u001b[43m,\u001b[49m\n\u001b[1;32m    258\u001b[0m \u001b[43m\u001b[49m\u001b[43m)\u001b[49m \u001b[38;5;28;01mas\u001b[39;00m handles:\n\u001b[1;32m    259\u001b[0m     \u001b[38;5;66;03m# Note: self.encoding is irrelevant here\u001b[39;00m\n\u001b[1;32m    260\u001b[0m     \u001b[38;5;28mself\u001b[39m\u001b[38;5;241m.\u001b[39mwriter \u001b[38;5;241m=\u001b[39m csvlib\u001b[38;5;241m.\u001b[39mwriter(\n\u001b[1;32m    261\u001b[0m         handles\u001b[38;5;241m.\u001b[39mhandle,\n\u001b[1;32m    262\u001b[0m         lineterminator\u001b[38;5;241m=\u001b[39m\u001b[38;5;28mself\u001b[39m\u001b[38;5;241m.\u001b[39mlineterminator,\n\u001b[0;32m   (...)\u001b[0m\n\u001b[1;32m    267\u001b[0m         quotechar\u001b[38;5;241m=\u001b[39m\u001b[38;5;28mself\u001b[39m\u001b[38;5;241m.\u001b[39mquotechar,\n\u001b[1;32m    268\u001b[0m     )\n\u001b[1;32m    270\u001b[0m     \u001b[38;5;28mself\u001b[39m\u001b[38;5;241m.\u001b[39m_save()\n",
      "File \u001b[0;32m/Library/Frameworks/Python.framework/Versions/3.11/lib/python3.11/site-packages/pandas/io/common.py:873\u001b[0m, in \u001b[0;36mget_handle\u001b[0;34m(path_or_buf, mode, encoding, compression, memory_map, is_text, errors, storage_options)\u001b[0m\n\u001b[1;32m    868\u001b[0m \u001b[38;5;28;01melif\u001b[39;00m \u001b[38;5;28misinstance\u001b[39m(handle, \u001b[38;5;28mstr\u001b[39m):\n\u001b[1;32m    869\u001b[0m     \u001b[38;5;66;03m# Check whether the filename is to be opened in binary mode.\u001b[39;00m\n\u001b[1;32m    870\u001b[0m     \u001b[38;5;66;03m# Binary mode does not support 'encoding' and 'newline'.\u001b[39;00m\n\u001b[1;32m    871\u001b[0m     \u001b[38;5;28;01mif\u001b[39;00m ioargs\u001b[38;5;241m.\u001b[39mencoding \u001b[38;5;129;01mand\u001b[39;00m \u001b[38;5;124m\"\u001b[39m\u001b[38;5;124mb\u001b[39m\u001b[38;5;124m\"\u001b[39m \u001b[38;5;129;01mnot\u001b[39;00m \u001b[38;5;129;01min\u001b[39;00m ioargs\u001b[38;5;241m.\u001b[39mmode:\n\u001b[1;32m    872\u001b[0m         \u001b[38;5;66;03m# Encoding\u001b[39;00m\n\u001b[0;32m--> 873\u001b[0m         handle \u001b[38;5;241m=\u001b[39m \u001b[38;5;28;43mopen\u001b[39;49m\u001b[43m(\u001b[49m\n\u001b[1;32m    874\u001b[0m \u001b[43m            \u001b[49m\u001b[43mhandle\u001b[49m\u001b[43m,\u001b[49m\n\u001b[1;32m    875\u001b[0m \u001b[43m            \u001b[49m\u001b[43mioargs\u001b[49m\u001b[38;5;241;43m.\u001b[39;49m\u001b[43mmode\u001b[49m\u001b[43m,\u001b[49m\n\u001b[1;32m    876\u001b[0m \u001b[43m            \u001b[49m\u001b[43mencoding\u001b[49m\u001b[38;5;241;43m=\u001b[39;49m\u001b[43mioargs\u001b[49m\u001b[38;5;241;43m.\u001b[39;49m\u001b[43mencoding\u001b[49m\u001b[43m,\u001b[49m\n\u001b[1;32m    877\u001b[0m \u001b[43m            \u001b[49m\u001b[43merrors\u001b[49m\u001b[38;5;241;43m=\u001b[39;49m\u001b[43merrors\u001b[49m\u001b[43m,\u001b[49m\n\u001b[1;32m    878\u001b[0m \u001b[43m            \u001b[49m\u001b[43mnewline\u001b[49m\u001b[38;5;241;43m=\u001b[39;49m\u001b[38;5;124;43m\"\u001b[39;49m\u001b[38;5;124;43m\"\u001b[39;49m\u001b[43m,\u001b[49m\n\u001b[1;32m    879\u001b[0m \u001b[43m        \u001b[49m\u001b[43m)\u001b[49m\n\u001b[1;32m    880\u001b[0m     \u001b[38;5;28;01melse\u001b[39;00m:\n\u001b[1;32m    881\u001b[0m         \u001b[38;5;66;03m# Binary mode\u001b[39;00m\n\u001b[1;32m    882\u001b[0m         handle \u001b[38;5;241m=\u001b[39m \u001b[38;5;28mopen\u001b[39m(handle, ioargs\u001b[38;5;241m.\u001b[39mmode)\n",
      "\u001b[0;31mIsADirectoryError\u001b[0m: [Errno 21] Is a directory: 'Ordered_lightning_strikes.csv'"
     ]
    }
   ],
   "source": [
    "pandas_df = avg_strikes_per_location.toPandas()\n",
    "\n",
    "pandas_df.to_csv(\"Ordered_lightning_strikes.csv\")\n",
    "print(\"CSV file saved successfully!\")"
   ]
  },
  {
   "cell_type": "code",
   "execution_count": null,
   "metadata": {},
   "outputs": [],
   "source": []
  },
  {
   "cell_type": "code",
   "execution_count": 56,
   "metadata": {},
   "outputs": [
    {
     "name": "stdout",
     "output_type": "stream",
     "text": [
      "+-----------+---------+--------------------+-------------------+----------+--------------------+\n",
      "|customer_id|branch_id|        custom_email|custom_phone_number|       dob|             address|\n",
      "+-----------+---------+--------------------+-------------------+----------+--------------------+\n",
      "|          1|        1|smathet0@wikimedi...|         3873521982|1982-07-25|   3956 Luster Court|\n",
      "|          2|        3|bradleigh1@elegan...|         4071191740|2001-02-21|   844 Crowley Plaza|\n",
      "|          3|        3|kwallington2@illi...|         6488849541|1985-02-11|65734 David Crossing|\n",
      "|          4|        2|sdelwater3@yahoo....|         5273621186|2001-04-03|  60 Jackson Terrace|\n",
      "|          5|        5|    bdreng4@admin.ch|         1149438413|1993-07-07|    252 Hintze Trail|\n",
      "|          6|        5|   lkerman5@usda.gov|         4062650274|2003-01-10|      190 Havey Lane|\n",
      "|          7|        1| bcastree6@youku.com|         7655139497|1975-04-14| 50 Pierstorff Alley|\n",
      "|          8|        3|   qwomack7@usda.gov|         4791645293|1997-06-15|    591 Hintze Court|\n",
      "|          9|        5|dmatteotti8@faceb...|         1884894971|1980-07-27|64058 Huxley Terrace|\n",
      "|         10|        3|   ehaborn9@fema.gov|         8083857433|1989-01-04|      616 Ilene Road|\n",
      "|         11|        5|mmackilpatricka@x...|         5309162717|1991-10-03|30 Morningstar Drive|\n",
      "|         12|        1|amacwhirterb@glob...|         7166593237|1980-11-19|  050 Everett Center|\n",
      "|         13|        1|  ivollethc@fema.gov|         1917629165|1996-11-30|     671 Welch Drive|\n",
      "|         14|        5| cpeverelld@cnet.com|         2454364979|1987-11-29|   0172 Helena Trail|\n",
      "|         15|        2|bgemlette@omnitur...|         6366765060|2002-09-10|  4470 Butternut Way|\n",
      "|         16|        5|plegrysf@vinaora.com|         2813419176|1986-07-23|51201 Summit Parkway|\n",
      "|         17|        3| mmattssong@xrea.com|         1231893183|1972-01-17|    93 Maple Terrace|\n",
      "|         18|        4|wcaldeiroh@opera.com|         2849322477|1980-02-17|   94848 Morrow Pass|\n",
      "|         19|        3|    gveeversi@wp.com|         6787429484|2003-10-24|    01 Bayside Trail|\n",
      "|         20|        1|tbillingtonj@nave...|         6262265705|1988-04-09|92162 Monica Parkway|\n",
      "+-----------+---------+--------------------+-------------------+----------+--------------------+\n",
      "only showing top 20 rows\n",
      "\n"
     ]
    }
   ],
   "source": [
    "url = \"jdbc:postgresql://localhost:5432/Bank\"\n",
    "\n",
    "properties = {\n",
    "    \"user\": \"postgres\",\n",
    "    \"password\": \"cd090264\"\n",
    "}\n",
    "\n",
    "df = spark.read.jdbc(url=url, table=\"customer\", properties=properties)\n",
    "df.show()"
   ]
  },
  {
   "cell_type": "code",
   "execution_count": 53,
   "metadata": {},
   "outputs": [
    {
     "name": "stdout",
     "output_type": "stream",
     "text": [
      "Name: pyspark\n",
      "Version: 3.5.4\n",
      "Summary: Apache Spark Python API\n",
      "Home-page: https://github.com/apache/spark/tree/master/python\n",
      "Author: Spark Developers\n",
      "Author-email: dev@spark.apache.org\n",
      "License: http://www.apache.org/licenses/LICENSE-2.0\n",
      "Location: /Library/Frameworks/Python.framework/Versions/3.11/lib/python3.11/site-packages\n",
      "Requires: py4j\n",
      "Required-by: \n",
      "Note: you may need to restart the kernel to use updated packages.\n"
     ]
    }
   ],
   "source": [
    "pip show pyspark"
   ]
  },
  {
   "cell_type": "code",
   "execution_count": null,
   "metadata": {},
   "outputs": [],
   "source": []
  }
 ],
 "metadata": {
  "kernelspec": {
   "display_name": "Python 3",
   "language": "python",
   "name": "python3"
  },
  "language_info": {
   "codemirror_mode": {
    "name": "ipython",
    "version": 3
   },
   "file_extension": ".py",
   "mimetype": "text/x-python",
   "name": "python",
   "nbconvert_exporter": "python",
   "pygments_lexer": "ipython3",
   "version": "3.11.0"
  }
 },
 "nbformat": 4,
 "nbformat_minor": 2
}
