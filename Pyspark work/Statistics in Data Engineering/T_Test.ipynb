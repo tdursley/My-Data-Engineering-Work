{
  "cells": [
    {
      "cell_type": "markdown",
      "metadata": {
        "id": "WHMxhWqn_Bzh"
      },
      "source": [
        "# Two-Sample T-Test\n",
        "\n",
        "You’re working in a machine learning team to evaluate the performance of a\n",
        "recommendation system. You have 2 versions of the model: the original version\n",
        "(Model A) deployed on dataset 1, and an updated version (Model B) on dataset 2.\n",
        "\n",
        "Each model was tested on different datasets with similar characteristics and accuracy was recorded. Find out if there’s a statistically significant difference in performance (or accuracy) between Model A and Model B using Python.\n",
        "\n",
        "1.   Are they related or independent? (Which T-Test are you using?)\n",
        "2.   What hypothesis are you testing?\n",
        "3.   Visualise the accuracy distributions for each model\n",
        "\n",
        "\n",
        "\n"
      ]
    },
    {
      "cell_type": "code",
      "execution_count": 3,
      "metadata": {
        "id": "FA-RSood-5l7"
      },
      "outputs": [],
      "source": [
        "import numpy as np\n",
        "from scipy.stats import ttest_ind # Your choice of T Test here!\n",
        "import matplotlib.pyplot as plt\n",
        "import seaborn as sns\n"
      ]
    },
    {
      "cell_type": "code",
      "execution_count": 4,
      "metadata": {
        "id": "7R3vS4X2_fOQ"
      },
      "outputs": [],
      "source": [
        "a_accuracy = [0.82, 0.85, 0.84, 0.81, 0.83, 0.82, 0.84, 0.85]\n",
        "b_accuracy = [0.78, 0.79, 0.77, 0.76, 0.80, 0.79, 0.78, 0.77]"
      ]
    },
    {
      "cell_type": "code",
      "execution_count": null,
      "metadata": {},
      "outputs": [],
      "source": []
    }
  ],
  "metadata": {
    "colab": {
      "provenance": []
    },
    "kernelspec": {
      "display_name": "Python 3",
      "name": "python3"
    },
    "language_info": {
      "codemirror_mode": {
        "name": "ipython",
        "version": 3
      },
      "file_extension": ".py",
      "mimetype": "text/x-python",
      "name": "python",
      "nbconvert_exporter": "python",
      "pygments_lexer": "ipython3",
      "version": "3.11.0"
    }
  },
  "nbformat": 4,
  "nbformat_minor": 0
}
