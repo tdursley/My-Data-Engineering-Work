{
  "cells": [
    {
      "cell_type": "markdown",
      "id": "92439e76",
      "metadata": {
        "id": "92439e76"
      },
      "source": [
        "# Advanced Statistical Methods for AI\n",
        "Let's have a look at the dataset from Classroom, and pick it apart using statistical tests"
      ]
    },
    {
      "cell_type": "code",
      "execution_count": 1,
      "id": "ea91f39f",
      "metadata": {
        "id": "ea91f39f"
      },
      "outputs": [
        {
          "name": "stdout",
          "output_type": "stream",
          "text": [
            "   Purchase_Amount  Discount_Applied  Sensor_Failures  Review_Sentiment  \\\n",
            "0        57.450712                 1                1          1.546404   \n",
            "1        47.926035                 0                1          3.606559   \n",
            "2        59.715328                 0                2          3.954390   \n",
            "3        72.845448                 1                3          2.262509   \n",
            "4        46.487699                 1                3          3.579330   \n",
            "\n",
            "   Daily_Visits  Bounce_Rate  Work_Hours  Productivity_Score  \n",
            "0    901.375436    31.622172   32.115018           29.156302  \n",
            "1   1288.726401    62.935882   35.985878           31.701559  \n",
            "2    748.698621    56.614594   39.630136           27.704406  \n",
            "3   1162.641037    35.163250   39.621672           22.157327  \n",
            "4    944.207414    38.626194   49.862711           37.924905  \n"
          ]
        }
      ],
      "source": [
        "import pandas as pd\n",
        "import numpy as np\n",
        "import scipy.stats as stats\n",
        "import matplotlib.pyplot as plt\n",
        "import seaborn as sns\n",
        "\n",
        "sns.set(style=\"whitegrid\")\n",
        "\n",
        "# Import your .csv here\n",
        "\n",
        "df = pd.read_csv(\"/Users/tomdursley/Downloads/Business_Analytics.csv\") #For example\n",
        "\n",
        "print(df.head())"
      ]
    },
    {
      "cell_type": "markdown",
      "id": "56a5d01d",
      "metadata": {
        "id": "56a5d01d"
      },
      "source": [
        "## Probability Distribution Analysis"
      ]
    },
    {
      "cell_type": "markdown",
      "id": "4f1d6cf8",
      "metadata": {
        "id": "4f1d6cf8"
      },
      "source": [
        "### What is the distribution of review sentiment scores being at least 4?"
      ]
    },
    {
      "cell_type": "code",
      "execution_count": 6,
      "id": "3415f656",
      "metadata": {},
      "outputs": [],
      "source": [
        "review_scores_4 = df[df[\"Review_Sentiment\"] >= 4][\"Review_Sentiment\"]\n"
      ]
    },
    {
      "cell_type": "code",
      "execution_count": 12,
      "id": "11ee8acf",
      "metadata": {
        "id": "11ee8acf"
      },
      "outputs": [
        {
          "data": {
            "image/png": "[encoded data removed]",
            "text/plain": [
              "<Figure size 800x500 with 1 Axes>"
            ]
          },
          "metadata": {},
          "output_type": "display_data"
        },
        {
          "name": "stdout",
          "output_type": "stream",
          "text": [
            "P(Review Sentiment > 4) = 0.2500\n"
          ]
        }
      ],
      "source": [
        "plt.figure(figsize=(8, 5))\n",
        "plt.hist(df[\"Review_Sentiment\"], bins=20)\n",
        "plt.title(\"Distribution of Review Sentiment Scores\")\n",
        "plt.show()\n",
        "\n",
        "review_scores_4 = 1 - stats.uniform.cdf(4, loc=1, scale=4)\n",
        "\n",
        "print(f\"P(Review Sentiment > 4) = {review_scores_4:.4f}\")"
      ]
    },
    {
      "cell_type": "markdown",
      "id": "e549bd00",
      "metadata": {
        "id": "e549bd00"
      },
      "source": [
        "What is the probability of at least one discount in 10 trials, assuming the probability of 1 discount applied = 0.4?"
      ]
    },
    {
      "cell_type": "code",
      "execution_count": 11,
      "id": "e8adcf78",
      "metadata": {
        "id": "e8adcf78"
      },
      "outputs": [
        {
          "name": "stdout",
          "output_type": "stream",
          "text": [
            "P(At least one discount in 10 trials) = 0.9940\n"
          ]
        }
      ],
      "source": [
        "n = 10    # Number of trials\n",
        "p = 0.4   # Probability of success per trial\n",
        "\n",
        "# Compute probability of at least one discount\n",
        "prob_at_least_one = 1 - stats.binom.pmf(0, n, p)\n",
        "\n",
        "print(f\"P(At least one discount in 10 trials) = {prob_at_least_one:.4f}\")"
      ]
    },
    {
      "cell_type": "markdown",
      "id": "ef06e732",
      "metadata": {
        "id": "ef06e732"
      },
      "source": [
        "\n",
        "### How often do sensors fail more than 3 times?"
      ]
    },
    {
      "cell_type": "code",
      "execution_count": 13,
      "id": "6ad0d290",
      "metadata": {
        "id": "6ad0d290"
      },
      "outputs": [
        {
          "name": "stdout",
          "output_type": "stream",
          "text": [
            "Proportion of sensor failures > 3: 0.1480\n"
          ]
        }
      ],
      "source": [
        "# Count total observations\n",
        "total_count = len(df)\n",
        "\n",
        "# Count cases where Sensor_Failures > 3\n",
        "failures_more_than_3 = df[df[\"Sensor_Failures\"] > 3].shape[0]\n",
        "\n",
        "# Compute proportion\n",
        "prob_failure_more_than_3 = failures_more_than_3 / total_count\n",
        "\n",
        "print(f\"Proportion of sensor failures > 3: {prob_failure_more_than_3:.4f}\")\n"
      ]
    },
    {
      "cell_type": "markdown",
      "id": "1b918261",
      "metadata": {
        "id": "1b918261"
      },
      "source": [
        "### What is the probability of a purchase being greater than £60?\n",
        "## What distribution does the purchasing follow?"
      ]
    },
    {
      "cell_type": "code",
      "execution_count": 16,
      "id": "e84bb1b7",
      "metadata": {},
      "outputs": [],
      "source": [
        "total_count = len(df)"
      ]
    },
    {
      "cell_type": "code",
      "execution_count": 17,
      "id": "6aa9fc7a",
      "metadata": {
        "id": "6aa9fc7a"
      },
      "outputs": [
        {
          "name": "stdout",
          "output_type": "stream",
          "text": [
            "Proportion of purchases > £60: 0.2400\n"
          ]
        }
      ],
      "source": [
        "purchases_over_60 = df[df[\"Purchase_Amount\"] > 60].shape[0]\n",
        "\n",
        "# Compute proportion\n",
        "prob_purchase_over_60 = purchases_over_60 / total_count\n",
        "\n",
        "print(f\"Proportion of purchases > £60: {prob_purchase_over_60:.4f}\")"
      ]
    },
    {
      "cell_type": "code",
      "execution_count": 18,
      "id": "19d7416b",
      "metadata": {},
      "outputs": [
        {
          "data": {
            "image/png": "[encoded data removed]",
            "text/plain": [
              "<Figure size 600x600 with 1 Axes>"
            ]
          },
          "metadata": {},
          "output_type": "display_data"
        }
      ],
      "source": [
        "plt.figure(figsize=(6, 6))\n",
        "stats.probplot(df[\"Purchase_Amount\"], dist=\"norm\", plot=plt)\n",
        "plt.title(\"QQ Plot of Purchase Amount\")\n",
        "plt.show()"
      ]
    },
    {
      "cell_type": "markdown",
      "id": "7aed7cc6",
      "metadata": {
        "id": "7aed7cc6"
      },
      "source": [
        "## Hypothesis Testing"
      ]
    },
    {
      "cell_type": "markdown",
      "id": "18b05aca",
      "metadata": {
        "id": "18b05aca"
      },
      "source": [
        "### Are purchase amounts normally distributed?"
      ]
    },
    {
      "cell_type": "code",
      "execution_count": 16,
      "id": "8f5e152c",
      "metadata": {
        "id": "8f5e152c"
      },
      "outputs": [],
      "source": []
    },
    {
      "cell_type": "markdown",
      "id": "08aacf42",
      "metadata": {
        "id": "08aacf42"
      },
      "source": [
        "### Does applying a discount affect the purchase amount?"
      ]
    },
    {
      "cell_type": "code",
      "execution_count": 16,
      "id": "41e0b7ac",
      "metadata": {
        "id": "41e0b7ac"
      },
      "outputs": [],
      "source": []
    },
    {
      "cell_type": "markdown",
      "id": "178563c0",
      "metadata": {
        "id": "178563c0"
      },
      "source": [
        "## Correlation Analysis"
      ]
    },
    {
      "cell_type": "markdown",
      "id": "f1d19bde",
      "metadata": {
        "id": "f1d19bde"
      },
      "source": [
        "### How strong is the relationship between work hours and productivity?"
      ]
    },
    {
      "cell_type": "code",
      "execution_count": 16,
      "id": "2bb2ce4e",
      "metadata": {
        "id": "2bb2ce4e"
      },
      "outputs": [],
      "source": []
    },
    {
      "cell_type": "code",
      "execution_count": 16,
      "id": "11d72bea",
      "metadata": {
        "id": "11d72bea"
      },
      "outputs": [],
      "source": []
    },
    {
      "cell_type": "markdown",
      "id": "16dd7cdc",
      "metadata": {
        "id": "16dd7cdc"
      },
      "source": [
        "### Is there a correlation between daily visits and bounce rate?"
      ]
    },
    {
      "cell_type": "code",
      "execution_count": 16,
      "id": "a5c235f3",
      "metadata": {
        "id": "a5c235f3"
      },
      "outputs": [],
      "source": []
    }
  ],
  "metadata": {
    "colab": {
      "provenance": []
    },
    "kernelspec": {
      "display_name": "Python 3",
      "name": "python3"
    },
    "language_info": {
      "codemirror_mode": {
        "name": "ipython",
        "version": 3
      },
      "file_extension": ".py",
      "mimetype": "text/x-python",
      "name": "python",
      "nbconvert_exporter": "python",
      "pygments_lexer": "ipython3",
      "version": "3.11.0"
    }
  },
  "nbformat": 4,
  "nbformat_minor": 5
}
