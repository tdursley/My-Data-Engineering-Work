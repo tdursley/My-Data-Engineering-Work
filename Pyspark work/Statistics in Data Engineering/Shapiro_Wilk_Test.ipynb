{
  "cells": [
    {
      "cell_type": "code",
      "execution_count": 2,
      "metadata": {
        "colab": {
          "base_uri": "https://localhost:8080/"
        },
        "id": "i9uxX1Utgsac",
        "outputId": "fa9b0dec-4c70-40c1-99cd-feceda54644b"
      },
      "outputs": [
        {
          "name": "stdout",
          "output_type": "stream",
          "text": [
            "Requirement already satisfied: numpy in /Library/Frameworks/Python.framework/Versions/3.11/lib/python3.11/site-packages (2.2.2)\n",
            "Requirement already satisfied: matplotlib in /Library/Frameworks/Python.framework/Versions/3.11/lib/python3.11/site-packages (3.10.0)\n",
            "Requirement already satisfied: seaborn in /Library/Frameworks/Python.framework/Versions/3.11/lib/python3.11/site-packages (0.13.2)\n",
            "Requirement already satisfied: scipy in /Library/Frameworks/Python.framework/Versions/3.11/lib/python3.11/site-packages (1.15.1)\n",
            "Requirement already satisfied: contourpy>=1.0.1 in /Library/Frameworks/Python.framework/Versions/3.11/lib/python3.11/site-packages (from matplotlib) (1.3.1)\n",
            "Requirement already satisfied: cycler>=0.10 in /Library/Frameworks/Python.framework/Versions/3.11/lib/python3.11/site-packages (from matplotlib) (0.12.1)\n",
            "Requirement already satisfied: fonttools>=4.22.0 in /Library/Frameworks/Python.framework/Versions/3.11/lib/python3.11/site-packages (from matplotlib) (4.55.8)\n",
            "Requirement already satisfied: kiwisolver>=1.3.1 in /Library/Frameworks/Python.framework/Versions/3.11/lib/python3.11/site-packages (from matplotlib) (1.4.8)\n",
            "Requirement already satisfied: packaging>=20.0 in /Users/tomdursley/Library/Python/3.11/lib/python/site-packages (from matplotlib) (24.2)\n",
            "Requirement already satisfied: pillow>=8 in /Library/Frameworks/Python.framework/Versions/3.11/lib/python3.11/site-packages (from matplotlib) (11.1.0)\n",
            "Requirement already satisfied: pyparsing>=2.3.1 in /Library/Frameworks/Python.framework/Versions/3.11/lib/python3.11/site-packages (from matplotlib) (3.2.1)\n",
            "Requirement already satisfied: python-dateutil>=2.7 in /Users/tomdursley/Library/Python/3.11/lib/python/site-packages (from matplotlib) (2.9.0.post0)\n",
            "Requirement already satisfied: pandas>=1.2 in /Library/Frameworks/Python.framework/Versions/3.11/lib/python3.11/site-packages (from seaborn) (2.2.3)\n",
            "Requirement already satisfied: pytz>=2020.1 in /Library/Frameworks/Python.framework/Versions/3.11/lib/python3.11/site-packages (from pandas>=1.2->seaborn) (2024.2)\n",
            "Requirement already satisfied: tzdata>=2022.7 in /Library/Frameworks/Python.framework/Versions/3.11/lib/python3.11/site-packages (from pandas>=1.2->seaborn) (2025.1)\n",
            "Requirement already satisfied: six>=1.5 in /Users/tomdursley/Library/Python/3.11/lib/python/site-packages (from python-dateutil>=2.7->matplotlib) (1.17.0)\n",
            "\n",
            "\u001b[1m[\u001b[0m\u001b[34;49mnotice\u001b[0m\u001b[1;39;49m]\u001b[0m\u001b[39;49m A new release of pip available: \u001b[0m\u001b[31;49m22.3\u001b[0m\u001b[39;49m -> \u001b[0m\u001b[32;49m25.0.1\u001b[0m\n",
            "\u001b[1m[\u001b[0m\u001b[34;49mnotice\u001b[0m\u001b[1;39;49m]\u001b[0m\u001b[39;49m To update, run: \u001b[0m\u001b[32;49mpip3 install --upgrade pip\u001b[0m\n",
            "Note: you may need to restart the kernel to use updated packages.\n"
          ]
        }
      ],
      "source": [
        "pip install numpy matplotlib seaborn scipy"
      ]
    },
    {
      "cell_type": "code",
      "execution_count": 3,
      "metadata": {
        "id": "ughJCkfN3NRL"
      },
      "outputs": [],
      "source": [
        "import numpy as np\n",
        "from scipy.stats import shapiro\n",
        "import matplotlib.pyplot as plt\n",
        "import seaborn as sns\n",
        "from scipy.stats import probplot\n"
      ]
    },
    {
      "cell_type": "markdown",
      "metadata": {
        "id": "Wj8Q4qOkUbHI"
      },
      "source": [
        "# Average Temperature of Bristol in October 2024\n",
        "Have a look at the temperature data below. We want to observe a normal distribution in real data."
      ]
    },
    {
      "cell_type": "code",
      "execution_count": 7,
      "metadata": {
        "id": "knM5U5_WEzYB"
      },
      "outputs": [
        {
          "data": {
            "text/plain": [
              "[14.3,\n",
              " 13.8,\n",
              " 14.1,\n",
              " 13.5,\n",
              " 12.9,\n",
              " 13.2,\n",
              " 14.4,\n",
              " 14.0,\n",
              " 13.7,\n",
              " 13.9,\n",
              " 13.1,\n",
              " 13.3,\n",
              " 14.2,\n",
              " 14.0,\n",
              " 13.8,\n",
              " 13.5,\n",
              " 13.9,\n",
              " 13.6,\n",
              " 13.4,\n",
              " 13.7,\n",
              " 13.8,\n",
              " 13.6,\n",
              " 14.1,\n",
              " 13.9,\n",
              " 13.4,\n",
              " 13.7,\n",
              " 13.5,\n",
              " 13.3,\n",
              " 13.2,\n",
              " 13.9]"
            ]
          },
          "execution_count": 7,
          "metadata": {},
          "output_type": "execute_result"
        }
      ],
      "source": [
        "temperature_data = [14.3, 13.8, 14.1, 13.5, 12.9, 13.2, 14.4, 14.0, 13.7, 13.9,\n",
        "                    13.1, 13.3, 14.2, 14.0, 13.8, 13.5, 13.9, 13.6, 13.4, 13.7,\n",
        "                    13.8, 13.6, 14.1, 13.9, 13.4, 13.7, 13.5, 13.3, 13.2, 13.9]\n",
        "\n",
        "temperature_data"
      ]
    },
    {
      "cell_type": "markdown",
      "metadata": {
        "id": "WGUBmmprUbZQ"
      },
      "source": [
        "# Test for Normality\n",
        "Perform the Shapiro-Wilk Test and print the test stat and the p-value"
      ]
    },
    {
      "cell_type": "code",
      "execution_count": 8,
      "metadata": {
        "id": "panbFzskE07D"
      },
      "outputs": [
        {
          "data": {
            "text/plain": [
              "ShapiroResult(statistic=np.float64(0.9877256682550642), pvalue=np.float64(0.9741873365342916))"
            ]
          },
          "execution_count": 8,
          "metadata": {},
          "output_type": "execute_result"
        }
      ],
      "source": [
        "shapiro(temperature_data)"
      ]
    },
    {
      "cell_type": "code",
      "execution_count": 9,
      "metadata": {},
      "outputs": [],
      "source": [
        "shapiro_stat, shapiro_p = shapiro(temperature_data)"
      ]
    },
    {
      "cell_type": "markdown",
      "metadata": {
        "id": "u0zcGlo8UM-x"
      },
      "source": [
        "# Visualisation\n",
        "Create a histogram and a Q-Q plot for this data"
      ]
    },
    {
      "cell_type": "code",
      "execution_count": 10,
      "metadata": {
        "id": "dqAHF_DrVFM5"
      },
      "outputs": [
        {
          "data": {
            "image/png": "[encoded data removed]",
            "text/plain": [
              "<Figure size 600x600 with 1 Axes>"
            ]
          },
          "metadata": {},
          "output_type": "display_data"
        }
      ],
      "source": [
        "plt.figure(figsize=(6, 6))\n",
        "probplot(temperature_data, dist=\"norm\", plot=plt)\n",
        "plt.title(\"Dist of daily average temps in bristol in oct 2024\")\n",
        "plt.xlabel(\"Temp C\")\n",
        "plt.ylabel(\"Count\")\n",
        "plt.show()"
      ]
    },
    {
      "cell_type": "code",
      "execution_count": null,
      "metadata": {},
      "outputs": [],
      "source": []
    }
  ],
  "metadata": {
    "colab": {
      "provenance": []
    },
    "kernelspec": {
      "display_name": "Python 3",
      "name": "python3"
    },
    "language_info": {
      "codemirror_mode": {
        "name": "ipython",
        "version": 3
      },
      "file_extension": ".py",
      "mimetype": "text/x-python",
      "name": "python",
      "nbconvert_exporter": "python",
      "pygments_lexer": "ipython3",
      "version": "3.11.0"
    }
  },
  "nbformat": 4,
  "nbformat_minor": 0
}
