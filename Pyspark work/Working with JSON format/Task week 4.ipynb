{
 "cells": [
  {
   "cell_type": "code",
   "execution_count": null,
   "metadata": {},
   "outputs": [
    {
     "name": "stdout",
     "output_type": "stream",
     "text": [
      "<_io.TextIOWrapper name='my_new_file.txt' mode='r' encoding='UTF-8'>\n"
     ]
    }
   ],
   "source": [
    "with open('my_new_file.txt', 'w') as outfile:\n",
    "#creates the file 'my_new_file.txt'\n",
    "   outfile.write('Hello World\\nThis is a text file')\n",
    "#writes the text in the file"
   ]
  },
  {
   "cell_type": "markdown",
   "metadata": {},
   "source": []
  },
  {
   "cell_type": "code",
   "execution_count": null,
   "metadata": {},
   "outputs": [
    {
     "name": "stdout",
     "output_type": "stream",
     "text": [
      "['Hello World\\n', 'This is a text file']\n"
     ]
    }
   ],
   "source": [
    "with open('my_new_file.txt', 'r') as infile:\n",
    "#opens the file and reads it\n",
    "    file_content = infile.readlines()\n",
    "#reads the lines and creates file content\n",
    "\n",
    "print(file_content)\n",
    "#file content is then printed in python"
   ]
  },
  {
   "cell_type": "code",
   "execution_count": 8,
   "metadata": {},
   "outputs": [],
   "source": [
    "with open('my_new_file.txt', 'r') as infile:\n",
    "        infile.readlines(1)\n",
    "\n",
    "with open('my_new_file.txt', 'a') as infile:\n",
    "        infile.write('This line was appended using python')"
   ]
  },
  {
   "cell_type": "code",
   "execution_count": null,
   "metadata": {},
   "outputs": [],
   "source": []
  }
 ],
 "metadata": {
  "kernelspec": {
   "display_name": "Python 3",
   "language": "python",
   "name": "python3"
  },
  "language_info": {
   "codemirror_mode": {
    "name": "ipython",
    "version": 3
   },
   "file_extension": ".py",
   "mimetype": "text/x-python",
   "name": "python",
   "nbconvert_exporter": "python",
   "pygments_lexer": "ipython3",
   "version": "3.9.6"
  }
 },
 "nbformat": 4,
 "nbformat_minor": 2
}
