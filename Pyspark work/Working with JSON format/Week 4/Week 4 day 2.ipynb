{
 "cells": [
  {
   "cell_type": "code",
   "execution_count": null,
   "metadata": {},
   "outputs": [
    {
     "name": "stdout",
     "output_type": "stream",
     "text": [
      "{'bananas': 3, 'butter_g': 76, 'baking_soda_teaspoons': 'half', 'sugar_g': 150, 'eggs': 1, 'vanilla_extract_teaspoons': 1, 'all_purpose_flour_g': 205}\n"
     ]
    }
   ],
   "source": [
    "Banana_bread_recipe = [\n",
    "    {\n",
    "        \"very_ripe_bananas\" : 2,\n",
    "        \"butter_g\" : 140,\n",
    "        \"caster_sugar_g\" : 140,\n",
    "        \"self_raising_flour_g\" : 140,\n",
    "        \"eggs_l\" : 2,\n",
    "        \"baking_powder_teaspoons\" : 1,\n",
    "        \"icing_sugar_g\" : 50\n",
    "    }\n",
    "    print(\"Step 1\\nHeat oven to 180C/160C fan/gas 4.\\n\\nStep 2\\nButter a 2lb load tin and line the base and sides with baking parchment.\\n\\nStep 3\\nCream 140g softened butter and 140g caster sugar until light and fluffy, then slowly add 2 beaten large eggs with a little of the 140g flour.\")\n",
    "\n",
    "print(Banana_bread_recipe)"
   ]
  },
  {
   "cell_type": "markdown",
   "metadata": {},
   "source": [
    "<h4>JSON - Javascript Object Notation</h4>"
   ]
  },
  {
   "cell_type": "code",
   "execution_count": 20,
   "metadata": {},
   "outputs": [],
   "source": [
    "import json\n",
    "\n",
    "with open(\"Banana_bread_recipe.json\", \"w\") as outfile:\n",
    "    json.dump(Banana_bread_recipe, outfile, indent=4)\n",
    "\n"
   ]
  },
  {
   "cell_type": "code",
   "execution_count": null,
   "metadata": {},
   "outputs": [],
   "source": [
    "with open(\"Banana_bread_recipe.json\", \"r\") as infile:\n",
    "    Banana_bread_recipe = json.load(infile)\n",
    "\n"
   ]
  },
  {
   "cell_type": "code",
   "execution_count": null,
   "metadata": {},
   "outputs": [
    {
     "name": "stdout",
     "output_type": "stream",
     "text": [
      "Tom is a Data Engineer\n",
      "Dan is a Data Analyst\n"
     ]
    }
   ],
   "source": [
    "\n",
    "\n",
    "\n",
    "with open(\"employees.json\", \"r\") as infile:\n",
    "    employee_data = json.load(infile)\n",
    "\n",
    "for employee_id in range(200, 1000):\n",
    "    print(employee[\"name\"], \"is a\", employee[\"title\"])\n",
    "\n"
   ]
  },
  {
   "cell_type": "code",
   "execution_count": null,
   "metadata": {},
   "outputs": [
    {
     "ename": "SyntaxError",
     "evalue": "invalid syntax (2499417817.py, line 7)",
     "output_type": "error",
     "traceback": [
      "\u001b[0;36m  Cell \u001b[0;32mIn[41], line 7\u001b[0;36m\u001b[0m\n\u001b[0;31m    else\u001b[0m\n\u001b[0m        ^\u001b[0m\n\u001b[0;31mSyntaxError\u001b[0m\u001b[0;31m:\u001b[0m invalid syntax\n"
     ]
    }
   ],
   "source": [
    "with open(\"employees.json\", \"r\") as infile:\n",
    "    employee_data = json.load(infile)\n",
    "\n",
    "for employee in employee_data:\n",
    "    if employee[\"employee_id\"] in range(200, 1000):\n",
    "        print(employee[\"last_name\"])\n",
    "    \n",
    "\n"
   ]
  },
  {
   "cell_type": "code",
   "execution_count": null,
   "metadata": {},
   "outputs": [],
   "source": [
    "import json\n",
    "\n",
    "with open(\"employees.json\", \"r\") as infile:\n",
    "    employee_data = json.load(infile)\n",
    "\n",
    "for employee in employee_data:\n",
    "    employee[\"email\"] = f\"{employee['first_name'].lower()}.{employee['last_name'].lower()}@datapocalypse.com\"\n",
    "\n",
    "with open(\"employees_with_emails.json\", \"w\") as outfile:\n",
    "    json.dump(employee_data, outfile, indent=4)\n",
    "\n",
    "for employee in employee_data:\n",
    "    if employee['department'] == \"Marketing\":\n",
    "        employee['salary'] += int(employee['salary'] * 1.10)\n",
    "       "
   ]
  },
  {
   "cell_type": "code",
   "execution_count": null,
   "metadata": {},
   "outputs": [],
   "source": [
    "import json\n",
    "\n",
    "with open(\"exam_results.json\", \"r\") as infile:\n",
    "    exam_data = json.load(infile)\n",
    "\n",
    "def grade_calculation(score):\n",
    "    if score >= 80:\n",
    "        return 'A'\n",
    "    elif score in range(65, 79):\n",
    "        return 'B'\n",
    "    elif score in range(45, 64):\n",
    "        return 'C'\n",
    "    elif score in range(20, 44):\n",
    "        return 'D'\n",
    "    else:\n",
    "        return 'U'\n",
    "\n",
    "\n",
    "filtered_data = [\n",
    "    {\n",
    "        'name': f\"{student['first_name']} {student['last_name']}\",\n",
    "        'score': student['score'],\n",
    "        'grade': grade_calculation(student['score'])\n",
    "    }\n",
    "    for student in exam_data\n",
    "]\n",
    "\n",
    "\n",
    "with open(\"student_grades.json\", \"w\") as outfile:\n",
    "    json.dump(filtered_data, outfile, indent=4)\n",
    "\n",
    "\n",
    "\n",
    "\n"
   ]
  },
  {
   "cell_type": "code",
   "execution_count": null,
   "metadata": {},
   "outputs": [],
   "source": []
  }
 ],
 "metadata": {
  "kernelspec": {
   "display_name": "Python 3",
   "language": "python",
   "name": "python3"
  },
  "language_info": {
   "codemirror_mode": {
    "name": "ipython",
    "version": 3
   },
   "file_extension": ".py",
   "mimetype": "text/x-python",
   "name": "python",
   "nbconvert_exporter": "python",
   "pygments_lexer": "ipython3",
   "version": "3.9.6"
  }
 },
 "nbformat": 4,
 "nbformat_minor": 2
}
