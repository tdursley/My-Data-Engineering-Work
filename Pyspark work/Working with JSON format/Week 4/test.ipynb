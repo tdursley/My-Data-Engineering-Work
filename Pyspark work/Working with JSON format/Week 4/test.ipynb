{
 "cells": [
  {
   "cell_type": "code",
   "execution_count": 1,
   "metadata": {},
   "outputs": [
    {
     "ename": "SyntaxError",
     "evalue": "f-string: unmatched '[' (966155983.py, line 7)",
     "output_type": "error",
     "traceback": [
      "\u001b[0;36m  Cell \u001b[0;32mIn[1], line 7\u001b[0;36m\u001b[0m\n\u001b[0;31m    employee[\"email\"] = f\"{employee[\"first_name\"].lower()}.{employee[\"last_name\"]}@datapocalypse.com\"\u001b[0m\n\u001b[0m                                     ^\u001b[0m\n\u001b[0;31mSyntaxError\u001b[0m\u001b[0;31m:\u001b[0m f-string: unmatched '['\n"
     ]
    }
   ],
   "source": [
    "import json\n",
    "\n",
    "with open(\"employees.json\", \"r\") as infile:\n",
    "    employee_data = json.load(infile)\n",
    "\n",
    "for employee in employee_data:\n",
    "    employee[\"email\"] = f\"{employee[\"first_name\"].lower()}.{employee[\"last_name\"]}@datapocalypse.com\"\n",
    "\n",
    "with open(\"employees_with_emails.json\", \"w\") as outfile:\n",
    "    json.dump(employee_data, outfile, indent=4)"
   ]
  }
 ],
 "metadata": {
  "kernelspec": {
   "display_name": "Python 3",
   "language": "python",
   "name": "python3"
  },
  "language_info": {
   "codemirror_mode": {
    "name": "ipython",
    "version": 3
   },
   "file_extension": ".py",
   "mimetype": "text/x-python",
   "name": "python",
   "nbconvert_exporter": "python",
   "pygments_lexer": "ipython3",
   "version": "3.9.6"
  }
 },
 "nbformat": 4,
 "nbformat_minor": 2
}
