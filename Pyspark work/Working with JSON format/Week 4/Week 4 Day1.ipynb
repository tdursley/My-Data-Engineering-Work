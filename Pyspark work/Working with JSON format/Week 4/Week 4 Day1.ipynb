{
 "cells": [
  {
   "cell_type": "code",
   "execution_count": 66,
   "metadata": {},
   "outputs": [
    {
     "name": "stdout",
     "output_type": "stream",
     "text": [
      "13 x 1 = 13\n",
      "13 x 2 = 26\n",
      "13 x 3 = 39\n",
      "13 x 4 = 52\n",
      "13 x 5 = 65\n",
      "13 x 6 = 78\n",
      "13 x 7 = 91\n",
      "13 x 8 = 104\n",
      "13 x 9 = 117\n",
      "13 x 10 = 130\n",
      "13 x 11 = 143\n",
      "13 x 12 = 156\n"
     ]
    }
   ],
   "source": [
    "def print_times_table(num):\n",
    "    for i in range(1, 13):\n",
    "        print(f\"{num} x {i} = {num * i}\")\n",
    "\n",
    "\n",
    "print_times_table(13)\n",
    "\n",
    "\n"
   ]
  },
  {
   "cell_type": "code",
   "execution_count": 67,
   "metadata": {},
   "outputs": [],
   "source": [
    "with open(\"first_text_file.txt\", \"w\") as outfile:\n",
    "    outfile.write(\"Hellow World!\")"
   ]
  },
  {
   "cell_type": "code",
   "execution_count": 68,
   "metadata": {},
   "outputs": [],
   "source": [
    "with open(\"story.txt\", \"a\") as outfile:\n",
    "      outfile.write(input + (\"\\n\\nEnter a story: \"))"
   ]
  },
  {
   "cell_type": "code",
   "execution_count": 1,
   "metadata": {},
   "outputs": [],
   "source": [
    "with open(\"story.txt\", \"r\") as infile:\n",
    "    file_content = infile.readlines()\n",
    " \n",
    "file_content[1] += \" Some more text\""
   ]
  },
  {
   "cell_type": "markdown",
   "metadata": {},
   "source": [
    "Dictionaries"
   ]
  },
  {
   "cell_type": "code",
   "execution_count": 79,
   "metadata": {},
   "outputs": [
    {
     "name": "stdout",
     "output_type": "stream",
     "text": [
      "Data Analyst Data thief\n"
     ]
    }
   ],
   "source": [
    "employee_1 = {\n",
    "    \"name\" : \"Tom\",\n",
    "    \"age\" : 23,\n",
    "    \"title\" : \"Data Engineer\",\n",
    "    \"salary\" : 27000,\n",
    "    \"department\" : \"Data\"\n",
    "}\n",
    "\n",
    "employee_2 = {\n",
    "    \"name\" : \"Dan\",\n",
    "    \"age\" : 27,\n",
    "    \"title\" : \"Data Analyst\",\n",
    "    \"salary\" : 23000,\n",
    "    \"department\" : \"Data\"\n",
    "}\n",
    "\n",
    "employee_2[\"title\"] += \" Data thief\"\n",
    "\n",
    "print(employee_2[\"title\"])"
   ]
  },
  {
   "cell_type": "code",
   "execution_count": 97,
   "metadata": {},
   "outputs": [
    {
     "name": "stdout",
     "output_type": "stream",
     "text": [
      "{'friends': 5, 'friend_names': ['Dan', 'Hugh', 'Ben', 'Dylan', 'Tom']}\n"
     ]
    }
   ],
   "source": [
    "Toms_instagram = {\n",
    "    \"friends\" : 4,\n",
    "    \"friend_names\" : [\"Dan\", \"Hugh\", \"Ben\", \"Dylan\"]\n",
    "}\n",
    "\n",
    "\n",
    "\n",
    "def add_friend(friend_names):\n",
    "    Toms_instagram[\"friend_names\"].append(friend_names)\n",
    "    Toms_instagram[\"friends\"] = len(Toms_instagram[\"friend_names\"])\n",
    "\n",
    "\n",
    "add_friend(\"Tom\")\n",
    "\n",
    "\n",
    "print(Toms_instagram)\n",
    "\n"
   ]
  },
  {
   "cell_type": "code",
   "execution_count": 101,
   "metadata": {},
   "outputs": [
    {
     "ename": "SyntaxError",
     "evalue": "invalid syntax (4156050409.py, line 5)",
     "output_type": "error",
     "traceback": [
      "\u001b[0;36m  Cell \u001b[0;32mIn[101], line 5\u001b[0;36m\u001b[0m\n\u001b[0;31m    Toms_instagram[\"score\"].append(\"score\" == 80):\u001b[0m\n\u001b[0m                                                  ^\u001b[0m\n\u001b[0;31mSyntaxError\u001b[0m\u001b[0;31m:\u001b[0m invalid syntax\n"
     ]
    }
   ],
   "source": [
    "Student = {\n",
    "    \"score\" : 80\n",
    "}\n",
    "\n",
    "Toms_instagram[\"score\"].append(\"score\" == 80):\n",
    "    print(\"A grade\")"
   ]
  },
  {
   "cell_type": "code",
   "execution_count": null,
   "metadata": {},
   "outputs": [],
   "source": [
    "Bananna_bread_recipe = {\n",
    "    \n",
    "\n",
    "}"
   ]
  }
 ],
 "metadata": {
  "kernelspec": {
   "display_name": "Python 3",
   "language": "python",
   "name": "python3"
  },
  "language_info": {
   "codemirror_mode": {
    "name": "ipython",
    "version": 3
   },
   "file_extension": ".py",
   "mimetype": "text/x-python",
   "name": "python",
   "nbconvert_exporter": "python",
   "pygments_lexer": "ipython3",
   "version": "3.9.6"
  }
 },
 "nbformat": 4,
 "nbformat_minor": 2
}
