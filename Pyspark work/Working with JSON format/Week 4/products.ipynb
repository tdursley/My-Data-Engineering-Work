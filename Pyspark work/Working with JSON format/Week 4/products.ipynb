{
 "cells": [
  {
   "cell_type": "code",
   "execution_count": 1,
   "metadata": {},
   "outputs": [],
   "source": [
    "import csv\n",
    "\n",
    "productID=1\n",
    "\n",
    "products = {\n",
    "    \"category\": \"Awesome stuff\",\n",
    "    \"hashtags\": [\"electronics\", \"nerdish\", \"intergalactic_warfare\", \"scifi\"],\n",
    "    \"price\": 256,\n",
    "    \"title\": \"Ultimate Laser Blaster\",\n",
    "    \"description\": \"Unleash unparalleled precision with the QuantumStrike X-9, a futuristic laser weapon engineered for speed and accuracy. Powered by next-gen photon fusion tech, it delivers blazing beams capable of cutting through steel with ease. Ergonomic design, rechargeable power cells, and a sleek alloy finish make it perfect for elite missions or your sci-fi collection!\",\n",
    "    \"supplier\": [\"Laser Whacker Co\", \"Amazon\"],\n",
    "    \"color\": [\"cosmic cobalt\", \"titanium cool\", \"spaceship grey\"],\n",
    "    \"productID\": productID\n",
    "}\n",
    "\n",
    "with open(\"products.csv\", \"w\") as outfile:\n",
    "    header_names = products.keys()\n",
    "    writer = csv.DictWriter(outfile, header_names)\n",
    "\n",
    "    writer.writeheader()\n",
    "    writer.writerow(products)"
   ]
  },
  {
   "cell_type": "code",
   "execution_count": 18,
   "metadata": {},
   "outputs": [],
   "source": [
    "import json\n",
    "import csv\n",
    "\n",
    "\n",
    "\n",
    "with open('employees.json', 'r') as infile:\n",
    "   employee_data = json.load(infile)\n",
    "\n",
    "\n",
    "with open(\"employees.csv\", \"w\") as outfile:\n",
    "   field_names = employee_data[0].keys()\n",
    "   writer = csv.DictWriter(outfile, field_names)\n",
    "   writer.writeheader()\n",
    "   writer.writerows(employee_data)\n",
    "\n",
    "\n",
    "\n"
   ]
  },
  {
   "cell_type": "code",
   "execution_count": null,
   "metadata": {},
   "outputs": [
    {
     "ename": "NameError",
     "evalue": "name 'nothing' is not defined",
     "output_type": "error",
     "traceback": [
      "\u001b[0;31m---------------------------------------------------------------------------\u001b[0m",
      "\u001b[0;31mNameError\u001b[0m                                 Traceback (most recent call last)",
      "Cell \u001b[0;32mIn[25], line 3\u001b[0m\n\u001b[1;32m      1\u001b[0m \u001b[38;5;28;01mimport\u001b[39;00m \u001b[38;5;21;01mcsv\u001b[39;00m\n\u001b[0;32m----> 3\u001b[0m filtered \u001b[38;5;241m=\u001b[39m \u001b[43mnothing\u001b[49m\n\u001b[1;32m      5\u001b[0m \u001b[38;5;28;01mwith\u001b[39;00m \u001b[38;5;28mopen\u001b[39m(\u001b[38;5;124m'\u001b[39m\u001b[38;5;124memployees.csv\u001b[39m\u001b[38;5;124m'\u001b[39m, \u001b[38;5;124m'\u001b[39m\u001b[38;5;124mr\u001b[39m\u001b[38;5;124m'\u001b[39m) \u001b[38;5;28;01mas\u001b[39;00m infile:\n\u001b[1;32m      6\u001b[0m     \u001b[38;5;28;01mfor\u001b[39;00m employee \u001b[38;5;129;01min\u001b[39;00m employee_data:\n",
      "\u001b[0;31mNameError\u001b[0m: name 'nothing' is not defined"
     ]
    }
   ],
   "source": [
    "import csv\n",
    "\n",
    "with open('employees.csv', 'r') as infile:\n",
    "    for employee in employee_data:\n",
    "        if ['department'] != 'Engineering - Front_End':\n",
    "        "
   ]
  },
  {
   "cell_type": "code",
   "execution_count": 3,
   "metadata": {},
   "outputs": [],
   "source": [
    "import requests\n",
    "from bs4 import BeautifulSoup"
   ]
  },
  {
   "cell_type": "code",
   "execution_count": 16,
   "metadata": {},
   "outputs": [],
   "source": [
    "import requests\n",
    "from bs4 import BeautifulSoup\n",
    "\n",
    "url = \"https://webscraper.io/test-sites/e-commerce/allinone\"\n",
    "response = requests.get(url)\n",
    "\n",
    "soup = BeautifulSoup(response.text, 'html')\n",
    "\n",
    "\n",
    "# print(soup.find(\"h4\").text)\n",
    "\n",
    "# print(soup.find(\"p\", {\"class\" : \"description card-text\"}))\n",
    "\n",
    "# print(soup('h4', {\"class\" : \"price float-end card-title pull-right\"}))\n",
    "\n",
    "\n",
    "\n",
    "# print = soup.find(\"a\")\n",
    "# title = price(\"title\")\n",
    "# print(\"title\")\n",
    "\n",
    "import json\n",
    "\n",
    "items = {\n",
    "    \"name\" : soup.find(\"a\", {\"class\" : \"title\"}).text,\n",
    "    \"description\" : soup.find(\"p\", {\"class\" : \"description card-text\"}).text,\n",
    "    \"price\" : soup.find(\"h4\", {\"class\" : \"price float-end card-title pull-right\"}).text\n",
    "    }\n",
    "\n",
    "with open(\"item_data.json\", \"w\") as outfile:\n",
    "    json.dump(items, outfile, indent=4)\n",
    "    \n",
    "\n"
   ]
  }
 ],
 "metadata": {
  "kernelspec": {
   "display_name": "Python 3",
   "language": "python",
   "name": "python3"
  },
  "language_info": {
   "codemirror_mode": {
    "name": "ipython",
    "version": 3
   },
   "file_extension": ".py",
   "mimetype": "text/x-python",
   "name": "python",
   "nbconvert_exporter": "python",
   "pygments_lexer": "ipython3",
   "version": "3.9.6"
  }
 },
 "nbformat": 4,
 "nbformat_minor": 2
}
