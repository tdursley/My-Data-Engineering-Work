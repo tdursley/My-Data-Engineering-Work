{
 "cells": [
  {
   "cell_type": "code",
   "execution_count": 4,
   "metadata": {},
   "outputs": [],
   "source": [
    "import os\n",
    "import sys\n",
    "\n",
    "os.environ[\"JAVA_HOME\"] = \"JDK 8/Contents/Home\"\n",
    "os.environ[\"PYSPARK_PYTHON\"] = sys.executable\n",
    "os.environ[\"PYSPARK_DRIVER_PYTHON\"] = sys.executable"
   ]
  },
  {
   "cell_type": "code",
   "execution_count": 3,
   "metadata": {},
   "outputs": [],
   "source": [
    "from pyspark.sql import SparkSession\n",
    "from pyspark.sql.functions import *\n",
    "from pyspark.sql.window import Window\n",
    "import seaborn as sns\n",
    "import matplotlib.pyplot as plt\n",
    "import requests\n",
    "import pandas as pd\n",
    "from pyspark.sql.types import StructType, StructField, StringType, IntegerType"
   ]
  },
  {
   "cell_type": "code",
   "execution_count": 5,
   "metadata": {},
   "outputs": [
    {
     "name": "stderr",
     "output_type": "stream",
     "text": [
      "Setting default log level to \"WARN\".\n",
      "To adjust logging level use sc.setLogLevel(newLevel). For SparkR, use setLogLevel(newLevel).\n",
      "25/02/15 01:47:18 WARN NativeCodeLoader: Unable to load native-hadoop library for your platform... using builtin-java classes where applicable\n",
      "25/02/15 01:47:30 WARN SparkStringUtils: Truncated the string representation of a plan since it was too large. This behavior can be adjusted by setting 'spark.sql.debug.maxToStringFields'.\n"
     ]
    },
    {
     "name": "stdout",
     "output_type": "stream",
     "text": [
      "+---+---------+-----------------+---------+--------------------+----------------+---------+--------------+-------------+--------------+-----------------------+------+----------+--------------+--------+--------------------+---------------+-------------+-------------+-----------+------------------+------+--------+-----------------+-----------------+------------------------+-------------+----------------+-----------------+---------------------+---------------+--------------+------------------+-----------------------+--------------------+\n",
      "|Age|Attrition|   BusinessTravel|DailyRate|          Department|DistanceFromHome|Education|EducationField|EmployeeCount|EmployeeNumber|EnvironmentSatisfaction|Gender|HourlyRate|JobInvolvement|JobLevel|             JobRole|JobSatisfaction|MaritalStatus|MonthlyIncome|MonthlyRate|NumCompaniesWorked|Over18|OverTime|PercentSalaryHike|PerformanceRating|RelationshipSatisfaction|StandardHours|StockOptionLevel|TotalWorkingYears|TrainingTimesLastYear|WorkLifeBalance|YearsAtCompany|YearsInCurrentRole|YearsSinceLastPromotion|YearsWithCurrManager|\n",
      "+---+---------+-----------------+---------+--------------------+----------------+---------+--------------+-------------+--------------+-----------------------+------+----------+--------------+--------+--------------------+---------------+-------------+-------------+-----------+------------------+------+--------+-----------------+-----------------+------------------------+-------------+----------------+-----------------+---------------------+---------------+--------------+------------------+-----------------------+--------------------+\n",
      "| 41|      Yes|    Travel_Rarely|     1102|               Sales|               1|        2| Life Sciences|            1|             1|                      2|Female|        94|             3|       2|     Sales Executive|              4|       Single|         5993|      19479|                 8|     Y|     Yes|               11|                3|                       1|           80|               0|                8|                    0|              1|             6|                 4|                      0|                   5|\n",
      "| 49|       No|Travel_Frequently|      279|Research & Develo...|               8|        1| Life Sciences|            1|             2|                      3|  Male|        61|             2|       2|  Research Scientist|              2|      Married|         5130|      24907|                 1|     Y|      No|               23|                4|                       4|           80|               1|               10|                    3|              3|            10|                 7|                      1|                   7|\n",
      "| 37|      Yes|    Travel_Rarely|     1373|Research & Develo...|               2|        2|         Other|            1|             4|                      4|  Male|        92|             2|       1|Laboratory Techni...|              3|       Single|         2090|       2396|                 6|     Y|     Yes|               15|                3|                       2|           80|               0|                7|                    3|              3|             0|                 0|                      0|                   0|\n",
      "| 33|       No|Travel_Frequently|     1392|Research & Develo...|               3|        4| Life Sciences|            1|             5|                      4|Female|        56|             3|       1|  Research Scientist|              3|      Married|         2909|      23159|                 1|     Y|     Yes|               11|                3|                       3|           80|               0|                8|                    3|              3|             8|                 7|                      3|                   0|\n",
      "| 27|       No|    Travel_Rarely|      591|Research & Develo...|               2|        1|       Medical|            1|             7|                      1|  Male|        40|             3|       1|Laboratory Techni...|              2|      Married|         3468|      16632|                 9|     Y|      No|               12|                3|                       4|           80|               1|                6|                    3|              3|             2|                 2|                      2|                   2|\n",
      "| 32|       No|Travel_Frequently|     1005|Research & Develo...|               2|        2| Life Sciences|            1|             8|                      4|  Male|        79|             3|       1|Laboratory Techni...|              4|       Single|         3068|      11864|                 0|     Y|      No|               13|                3|                       3|           80|               0|                8|                    2|              2|             7|                 7|                      3|                   6|\n",
      "| 59|       No|    Travel_Rarely|     1324|Research & Develo...|               3|        3|       Medical|            1|            10|                      3|Female|        81|             4|       1|Laboratory Techni...|              1|      Married|         2670|       9964|                 4|     Y|     Yes|               20|                4|                       1|           80|               3|               12|                    3|              2|             1|                 0|                      0|                   0|\n",
      "| 30|       No|    Travel_Rarely|     1358|Research & Develo...|              24|        1| Life Sciences|            1|            11|                      4|  Male|        67|             3|       1|Laboratory Techni...|              3|     Divorced|         2693|      13335|                 1|     Y|      No|               22|                4|                       2|           80|               1|                1|                    2|              3|             1|                 0|                      0|                   0|\n",
      "| 38|       No|Travel_Frequently|      216|Research & Develo...|              23|        3| Life Sciences|            1|            12|                      4|  Male|        44|             2|       3|Manufacturing Dir...|              3|       Single|         9526|       8787|                 0|     Y|      No|               21|                4|                       2|           80|               0|               10|                    2|              3|             9|                 7|                      1|                   8|\n",
      "| 36|       No|    Travel_Rarely|     1299|Research & Develo...|              27|        3|       Medical|            1|            13|                      3|  Male|        94|             3|       2|Healthcare Repres...|              3|      Married|         5237|      16577|                 6|     Y|      No|               13|                3|                       2|           80|               2|               17|                    3|              2|             7|                 7|                      7|                   7|\n",
      "| 35|       No|    Travel_Rarely|      809|Research & Develo...|              16|        3|       Medical|            1|            14|                      1|  Male|        84|             4|       1|Laboratory Techni...|              2|      Married|         2426|      16479|                 0|     Y|      No|               13|                3|                       3|           80|               1|                6|                    5|              3|             5|                 4|                      0|                   3|\n",
      "| 29|       No|    Travel_Rarely|      153|Research & Develo...|              15|        2| Life Sciences|            1|            15|                      4|Female|        49|             2|       2|Laboratory Techni...|              3|       Single|         4193|      12682|                 0|     Y|     Yes|               12|                3|                       4|           80|               0|               10|                    3|              3|             9|                 5|                      0|                   8|\n",
      "| 31|       No|    Travel_Rarely|      670|Research & Develo...|              26|        1| Life Sciences|            1|            16|                      1|  Male|        31|             3|       1|  Research Scientist|              3|     Divorced|         2911|      15170|                 1|     Y|      No|               17|                3|                       4|           80|               1|                5|                    1|              2|             5|                 2|                      4|                   3|\n",
      "| 34|       No|    Travel_Rarely|     1346|Research & Develo...|              19|        2|       Medical|            1|            18|                      2|  Male|        93|             3|       1|Laboratory Techni...|              4|     Divorced|         2661|       8758|                 0|     Y|      No|               11|                3|                       3|           80|               1|                3|                    2|              3|             2|                 2|                      1|                   2|\n",
      "| 28|      Yes|    Travel_Rarely|      103|Research & Develo...|              24|        3| Life Sciences|            1|            19|                      3|  Male|        50|             2|       1|Laboratory Techni...|              3|       Single|         2028|      12947|                 5|     Y|     Yes|               14|                3|                       2|           80|               0|                6|                    4|              3|             4|                 2|                      0|                   3|\n",
      "| 29|       No|    Travel_Rarely|     1389|Research & Develo...|              21|        4| Life Sciences|            1|            20|                      2|Female|        51|             4|       3|Manufacturing Dir...|              1|     Divorced|         9980|      10195|                 1|     Y|      No|               11|                3|                       3|           80|               1|               10|                    1|              3|            10|                 9|                      8|                   8|\n",
      "| 32|       No|    Travel_Rarely|      334|Research & Develo...|               5|        2| Life Sciences|            1|            21|                      1|  Male|        80|             4|       1|  Research Scientist|              2|     Divorced|         3298|      15053|                 0|     Y|     Yes|               12|                3|                       4|           80|               2|                7|                    5|              2|             6|                 2|                      0|                   5|\n",
      "| 22|       No|       Non-Travel|     1123|Research & Develo...|              16|        2|       Medical|            1|            22|                      4|  Male|        96|             4|       1|Laboratory Techni...|              4|     Divorced|         2935|       7324|                 1|     Y|     Yes|               13|                3|                       2|           80|               2|                1|                    2|              2|             1|                 0|                      0|                   0|\n",
      "| 53|       No|    Travel_Rarely|     1219|               Sales|               2|        4| Life Sciences|            1|            23|                      1|Female|        78|             2|       4|             Manager|              4|      Married|        15427|      22021|                 2|     Y|      No|               16|                3|                       3|           80|               0|               31|                    3|              3|            25|                 8|                      3|                   7|\n",
      "| 38|       No|    Travel_Rarely|      371|Research & Develo...|               2|        3| Life Sciences|            1|            24|                      4|  Male|        45|             3|       1|  Research Scientist|              4|       Single|         3944|       4306|                 5|     Y|     Yes|               11|                3|                       3|           80|               0|                6|                    3|              3|             3|                 2|                      1|                   2|\n",
      "+---+---------+-----------------+---------+--------------------+----------------+---------+--------------+-------------+--------------+-----------------------+------+----------+--------------+--------+--------------------+---------------+-------------+-------------+-----------+------------------+------+--------+-----------------+-----------------+------------------------+-------------+----------------+-----------------+---------------------+---------------+--------------+------------------+-----------------------+--------------------+\n",
      "only showing top 20 rows\n",
      "\n"
     ]
    }
   ],
   "source": [
    "spark = SparkSession.builder.appName(\"Assessment\").getOrCreate()\n",
    "\n",
    "\n",
    "path = \"/Users/tomdursley/Downloads/HR-Employee-Attrition.csv\" \n",
    "\n",
    "Emp_spark_df = spark.read.csv(path, header=True, inferSchema=True)\n",
    "\n",
    "Emp_spark_df.show()"
   ]
  },
  {
   "cell_type": "code",
   "execution_count": 6,
   "metadata": {},
   "outputs": [
    {
     "name": "stdout",
     "output_type": "stream",
     "text": [
      "+---+---------+-----------------+---------+--------------------+----------------+---------+--------------+-----------------------+------+----------+--------------+--------+--------------------+---------------+-------------+-------------+-----------+------------------+--------+-----------------+-----------------+------------------------+----------------+-----------------+---------------------+---------------+--------------+------------------+-----------------------+--------------------+\n",
      "|Age|Attrition|   BusinessTravel|DailyRate|          Department|DistanceFromHome|Education|EducationField|EnvironmentSatisfaction|Gender|HourlyRate|JobInvolvement|JobLevel|             JobRole|JobSatisfaction|MaritalStatus|MonthlyIncome|MonthlyRate|NumCompaniesWorked|OverTime|PercentSalaryHike|PerformanceRating|RelationshipSatisfaction|StockOptionLevel|TotalWorkingYears|TrainingTimesLastYear|WorkLifeBalance|YearsAtCompany|YearsInCurrentRole|YearsSinceLastPromotion|YearsWithCurrManager|\n",
      "+---+---------+-----------------+---------+--------------------+----------------+---------+--------------+-----------------------+------+----------+--------------+--------+--------------------+---------------+-------------+-------------+-----------+------------------+--------+-----------------+-----------------+------------------------+----------------+-----------------+---------------------+---------------+--------------+------------------+-----------------------+--------------------+\n",
      "| 41|      Yes|    Travel_Rarely|     1102|               Sales|               1|        2| Life Sciences|                      2|Female|        94|             3|       2|     Sales Executive|              4|       Single|         5993|      19479|                 8|     Yes|               11|                3|                       1|               0|                8|                    0|              1|             6|                 4|                      0|                   5|\n",
      "| 49|       No|Travel_Frequently|      279|Research & Develo...|               8|        1| Life Sciences|                      3|  Male|        61|             2|       2|  Research Scientist|              2|      Married|         5130|      24907|                 1|      No|               23|                4|                       4|               1|               10|                    3|              3|            10|                 7|                      1|                   7|\n",
      "| 37|      Yes|    Travel_Rarely|     1373|Research & Develo...|               2|        2|         Other|                      4|  Male|        92|             2|       1|Laboratory Techni...|              3|       Single|         2090|       2396|                 6|     Yes|               15|                3|                       2|               0|                7|                    3|              3|             0|                 0|                      0|                   0|\n",
      "| 33|       No|Travel_Frequently|     1392|Research & Develo...|               3|        4| Life Sciences|                      4|Female|        56|             3|       1|  Research Scientist|              3|      Married|         2909|      23159|                 1|     Yes|               11|                3|                       3|               0|                8|                    3|              3|             8|                 7|                      3|                   0|\n",
      "| 27|       No|    Travel_Rarely|      591|Research & Develo...|               2|        1|       Medical|                      1|  Male|        40|             3|       1|Laboratory Techni...|              2|      Married|         3468|      16632|                 9|      No|               12|                3|                       4|               1|                6|                    3|              3|             2|                 2|                      2|                   2|\n",
      "| 32|       No|Travel_Frequently|     1005|Research & Develo...|               2|        2| Life Sciences|                      4|  Male|        79|             3|       1|Laboratory Techni...|              4|       Single|         3068|      11864|                 0|      No|               13|                3|                       3|               0|                8|                    2|              2|             7|                 7|                      3|                   6|\n",
      "| 59|       No|    Travel_Rarely|     1324|Research & Develo...|               3|        3|       Medical|                      3|Female|        81|             4|       1|Laboratory Techni...|              1|      Married|         2670|       9964|                 4|     Yes|               20|                4|                       1|               3|               12|                    3|              2|             1|                 0|                      0|                   0|\n",
      "| 30|       No|    Travel_Rarely|     1358|Research & Develo...|              24|        1| Life Sciences|                      4|  Male|        67|             3|       1|Laboratory Techni...|              3|     Divorced|         2693|      13335|                 1|      No|               22|                4|                       2|               1|                1|                    2|              3|             1|                 0|                      0|                   0|\n",
      "| 38|       No|Travel_Frequently|      216|Research & Develo...|              23|        3| Life Sciences|                      4|  Male|        44|             2|       3|Manufacturing Dir...|              3|       Single|         9526|       8787|                 0|      No|               21|                4|                       2|               0|               10|                    2|              3|             9|                 7|                      1|                   8|\n",
      "| 36|       No|    Travel_Rarely|     1299|Research & Develo...|              27|        3|       Medical|                      3|  Male|        94|             3|       2|Healthcare Repres...|              3|      Married|         5237|      16577|                 6|      No|               13|                3|                       2|               2|               17|                    3|              2|             7|                 7|                      7|                   7|\n",
      "| 35|       No|    Travel_Rarely|      809|Research & Develo...|              16|        3|       Medical|                      1|  Male|        84|             4|       1|Laboratory Techni...|              2|      Married|         2426|      16479|                 0|      No|               13|                3|                       3|               1|                6|                    5|              3|             5|                 4|                      0|                   3|\n",
      "| 29|       No|    Travel_Rarely|      153|Research & Develo...|              15|        2| Life Sciences|                      4|Female|        49|             2|       2|Laboratory Techni...|              3|       Single|         4193|      12682|                 0|     Yes|               12|                3|                       4|               0|               10|                    3|              3|             9|                 5|                      0|                   8|\n",
      "| 31|       No|    Travel_Rarely|      670|Research & Develo...|              26|        1| Life Sciences|                      1|  Male|        31|             3|       1|  Research Scientist|              3|     Divorced|         2911|      15170|                 1|      No|               17|                3|                       4|               1|                5|                    1|              2|             5|                 2|                      4|                   3|\n",
      "| 34|       No|    Travel_Rarely|     1346|Research & Develo...|              19|        2|       Medical|                      2|  Male|        93|             3|       1|Laboratory Techni...|              4|     Divorced|         2661|       8758|                 0|      No|               11|                3|                       3|               1|                3|                    2|              3|             2|                 2|                      1|                   2|\n",
      "| 28|      Yes|    Travel_Rarely|      103|Research & Develo...|              24|        3| Life Sciences|                      3|  Male|        50|             2|       1|Laboratory Techni...|              3|       Single|         2028|      12947|                 5|     Yes|               14|                3|                       2|               0|                6|                    4|              3|             4|                 2|                      0|                   3|\n",
      "| 29|       No|    Travel_Rarely|     1389|Research & Develo...|              21|        4| Life Sciences|                      2|Female|        51|             4|       3|Manufacturing Dir...|              1|     Divorced|         9980|      10195|                 1|      No|               11|                3|                       3|               1|               10|                    1|              3|            10|                 9|                      8|                   8|\n",
      "| 32|       No|    Travel_Rarely|      334|Research & Develo...|               5|        2| Life Sciences|                      1|  Male|        80|             4|       1|  Research Scientist|              2|     Divorced|         3298|      15053|                 0|     Yes|               12|                3|                       4|               2|                7|                    5|              2|             6|                 2|                      0|                   5|\n",
      "| 22|       No|       Non-Travel|     1123|Research & Develo...|              16|        2|       Medical|                      4|  Male|        96|             4|       1|Laboratory Techni...|              4|     Divorced|         2935|       7324|                 1|     Yes|               13|                3|                       2|               2|                1|                    2|              2|             1|                 0|                      0|                   0|\n",
      "| 53|       No|    Travel_Rarely|     1219|               Sales|               2|        4| Life Sciences|                      1|Female|        78|             2|       4|             Manager|              4|      Married|        15427|      22021|                 2|      No|               16|                3|                       3|               0|               31|                    3|              3|            25|                 8|                      3|                   7|\n",
      "| 38|       No|    Travel_Rarely|      371|Research & Develo...|               2|        3| Life Sciences|                      4|  Male|        45|             3|       1|  Research Scientist|              4|       Single|         3944|       4306|                 5|     Yes|               11|                3|                       3|               0|                6|                    3|              3|             3|                 2|                      1|                   2|\n",
      "+---+---------+-----------------+---------+--------------------+----------------+---------+--------------+-----------------------+------+----------+--------------+--------+--------------------+---------------+-------------+-------------+-----------+------------------+--------+-----------------+-----------------+------------------------+----------------+-----------------+---------------------+---------------+--------------+------------------+-----------------------+--------------------+\n",
      "only showing top 20 rows\n",
      "\n"
     ]
    }
   ],
   "source": [
    "Emp_spark_df = Emp_spark_df.drop(\"EmployeeCount\", \"StandardHours\", \"Over18\", \"EmployeeNumber\")\n",
    "\n",
    "Emp_spark_df.show()"
   ]
  },
  {
   "cell_type": "code",
   "execution_count": 9,
   "metadata": {},
   "outputs": [
    {
     "name": "stdout",
     "output_type": "stream",
     "text": [
      "+---+---------+-----------------+----------+--------------------+----------------+---------+--------------+-----------------------+------+----------+--------------+--------+--------------------+---------------+-------------+--------------+-----------+------------------+--------+-----------------+-----------------+------------------------+----------------+-------------------+---------------------+---------------+----------------+------------------+-----------------------+--------------------------+\n",
      "|Age|Attrition|   BusinessTravel|daily_rate|          Department|DistanceFromHome|Education|EducationField|EnvironmentSatisfaction|Gender|HourlyRate|JobInvolvement|JobLevel|             JobRole|JobSatisfaction|MaritalStatus|monthly_income|MonthlyRate|NumCompaniesWorked|OverTime|PercentSalaryHike|PerformanceRating|RelationshipSatisfaction|StockOptionLevel|total_working_years|TrainingTimesLastYear|WorkLifeBalance|years_at_company|YearsInCurrentRole|YearsSinceLastPromotion|years_with_current_manager|\n",
      "+---+---------+-----------------+----------+--------------------+----------------+---------+--------------+-----------------------+------+----------+--------------+--------+--------------------+---------------+-------------+--------------+-----------+------------------+--------+-----------------+-----------------+------------------------+----------------+-------------------+---------------------+---------------+----------------+------------------+-----------------------+--------------------------+\n",
      "| 41|      Yes|    Travel_Rarely|      1102|               Sales|               1|        2| Life Sciences|                      2|Female|        94|             3|       2|     Sales Executive|              4|       Single|          5993|      19479|                 8|     Yes|               11|                3|                       1|               0|                  8|                    0|              1|               6|                 4|                      0|                         5|\n",
      "| 49|       No|Travel_Frequently|       279|Research & Develo...|               8|        1| Life Sciences|                      3|  Male|        61|             2|       2|  Research Scientist|              2|      Married|          5130|      24907|                 1|      No|               23|                4|                       4|               1|                 10|                    3|              3|              10|                 7|                      1|                         7|\n",
      "| 37|      Yes|    Travel_Rarely|      1373|Research & Develo...|               2|        2|         Other|                      4|  Male|        92|             2|       1|Laboratory Techni...|              3|       Single|          2090|       2396|                 6|     Yes|               15|                3|                       2|               0|                  7|                    3|              3|               0|                 0|                      0|                         0|\n",
      "| 33|       No|Travel_Frequently|      1392|Research & Develo...|               3|        4| Life Sciences|                      4|Female|        56|             3|       1|  Research Scientist|              3|      Married|          2909|      23159|                 1|     Yes|               11|                3|                       3|               0|                  8|                    3|              3|               8|                 7|                      3|                         0|\n",
      "| 27|       No|    Travel_Rarely|       591|Research & Develo...|               2|        1|       Medical|                      1|  Male|        40|             3|       1|Laboratory Techni...|              2|      Married|          3468|      16632|                 9|      No|               12|                3|                       4|               1|                  6|                    3|              3|               2|                 2|                      2|                         2|\n",
      "| 32|       No|Travel_Frequently|      1005|Research & Develo...|               2|        2| Life Sciences|                      4|  Male|        79|             3|       1|Laboratory Techni...|              4|       Single|          3068|      11864|                 0|      No|               13|                3|                       3|               0|                  8|                    2|              2|               7|                 7|                      3|                         6|\n",
      "| 59|       No|    Travel_Rarely|      1324|Research & Develo...|               3|        3|       Medical|                      3|Female|        81|             4|       1|Laboratory Techni...|              1|      Married|          2670|       9964|                 4|     Yes|               20|                4|                       1|               3|                 12|                    3|              2|               1|                 0|                      0|                         0|\n",
      "| 30|       No|    Travel_Rarely|      1358|Research & Develo...|              24|        1| Life Sciences|                      4|  Male|        67|             3|       1|Laboratory Techni...|              3|     Divorced|          2693|      13335|                 1|      No|               22|                4|                       2|               1|                  1|                    2|              3|               1|                 0|                      0|                         0|\n",
      "| 38|       No|Travel_Frequently|       216|Research & Develo...|              23|        3| Life Sciences|                      4|  Male|        44|             2|       3|Manufacturing Dir...|              3|       Single|          9526|       8787|                 0|      No|               21|                4|                       2|               0|                 10|                    2|              3|               9|                 7|                      1|                         8|\n",
      "| 36|       No|    Travel_Rarely|      1299|Research & Develo...|              27|        3|       Medical|                      3|  Male|        94|             3|       2|Healthcare Repres...|              3|      Married|          5237|      16577|                 6|      No|               13|                3|                       2|               2|                 17|                    3|              2|               7|                 7|                      7|                         7|\n",
      "| 35|       No|    Travel_Rarely|       809|Research & Develo...|              16|        3|       Medical|                      1|  Male|        84|             4|       1|Laboratory Techni...|              2|      Married|          2426|      16479|                 0|      No|               13|                3|                       3|               1|                  6|                    5|              3|               5|                 4|                      0|                         3|\n",
      "| 29|       No|    Travel_Rarely|       153|Research & Develo...|              15|        2| Life Sciences|                      4|Female|        49|             2|       2|Laboratory Techni...|              3|       Single|          4193|      12682|                 0|     Yes|               12|                3|                       4|               0|                 10|                    3|              3|               9|                 5|                      0|                         8|\n",
      "| 31|       No|    Travel_Rarely|       670|Research & Develo...|              26|        1| Life Sciences|                      1|  Male|        31|             3|       1|  Research Scientist|              3|     Divorced|          2911|      15170|                 1|      No|               17|                3|                       4|               1|                  5|                    1|              2|               5|                 2|                      4|                         3|\n",
      "| 34|       No|    Travel_Rarely|      1346|Research & Develo...|              19|        2|       Medical|                      2|  Male|        93|             3|       1|Laboratory Techni...|              4|     Divorced|          2661|       8758|                 0|      No|               11|                3|                       3|               1|                  3|                    2|              3|               2|                 2|                      1|                         2|\n",
      "| 28|      Yes|    Travel_Rarely|       103|Research & Develo...|              24|        3| Life Sciences|                      3|  Male|        50|             2|       1|Laboratory Techni...|              3|       Single|          2028|      12947|                 5|     Yes|               14|                3|                       2|               0|                  6|                    4|              3|               4|                 2|                      0|                         3|\n",
      "| 29|       No|    Travel_Rarely|      1389|Research & Develo...|              21|        4| Life Sciences|                      2|Female|        51|             4|       3|Manufacturing Dir...|              1|     Divorced|          9980|      10195|                 1|      No|               11|                3|                       3|               1|                 10|                    1|              3|              10|                 9|                      8|                         8|\n",
      "| 32|       No|    Travel_Rarely|       334|Research & Develo...|               5|        2| Life Sciences|                      1|  Male|        80|             4|       1|  Research Scientist|              2|     Divorced|          3298|      15053|                 0|     Yes|               12|                3|                       4|               2|                  7|                    5|              2|               6|                 2|                      0|                         5|\n",
      "| 22|       No|       Non-Travel|      1123|Research & Develo...|              16|        2|       Medical|                      4|  Male|        96|             4|       1|Laboratory Techni...|              4|     Divorced|          2935|       7324|                 1|     Yes|               13|                3|                       2|               2|                  1|                    2|              2|               1|                 0|                      0|                         0|\n",
      "| 53|       No|    Travel_Rarely|      1219|               Sales|               2|        4| Life Sciences|                      1|Female|        78|             2|       4|             Manager|              4|      Married|         15427|      22021|                 2|      No|               16|                3|                       3|               0|                 31|                    3|              3|              25|                 8|                      3|                         7|\n",
      "| 38|       No|    Travel_Rarely|       371|Research & Develo...|               2|        3| Life Sciences|                      4|  Male|        45|             3|       1|  Research Scientist|              4|       Single|          3944|       4306|                 5|     Yes|               11|                3|                       3|               0|                  6|                    3|              3|               3|                 2|                      1|                         2|\n",
      "+---+---------+-----------------+----------+--------------------+----------------+---------+--------------+-----------------------+------+----------+--------------+--------+--------------------+---------------+-------------+--------------+-----------+------------------+--------+-----------------+-----------------+------------------------+----------------+-------------------+---------------------+---------------+----------------+------------------+-----------------------+--------------------------+\n",
      "only showing top 20 rows\n",
      "\n"
     ]
    }
   ],
   "source": [
    "Emp_spark_df = Emp_spark_df.withColumnRenamed(\"DailyRate\", \"Daily_Rate\") \\\n",
    "                           .withColumnRenamed(\"MonthlyIncome\", \"Monthly_Income\") \\\n",
    "                           .withColumnRenamed(\"TotalWorkingYears\", \"Total_Working_Years\") \\\n",
    "                           .withColumnRenamed(\"YearsAtCompany\", \"Years_At_Company\") \\\n",
    "                           .withColumnRenamed(\"YearsWithCurrManager\", \"Years_With_Current_Manager\")\n",
    "\n",
    "Emp_spark_df.show()"
   ]
  },
  {
   "cell_type": "code",
   "execution_count": 10,
   "metadata": {},
   "outputs": [],
   "source": [
    "from pyspark.sql.functions import col,isnan, when, count"
   ]
  },
  {
   "cell_type": "code",
   "execution_count": 11,
   "metadata": {},
   "outputs": [
    {
     "name": "stdout",
     "output_type": "stream",
     "text": [
      "+---+---------+--------------+----------+----------+----------------+---------+--------------+-----------------------+------+----------+--------------+--------+-------+---------------+-------------+--------------+-----------+------------------+--------+-----------------+-----------------+------------------------+----------------+-------------------+---------------------+---------------+----------------+------------------+-----------------------+--------------------------+\n",
      "|Age|Attrition|BusinessTravel|daily_rate|Department|DistanceFromHome|Education|EducationField|EnvironmentSatisfaction|Gender|HourlyRate|JobInvolvement|JobLevel|JobRole|JobSatisfaction|MaritalStatus|monthly_income|MonthlyRate|NumCompaniesWorked|OverTime|PercentSalaryHike|PerformanceRating|RelationshipSatisfaction|StockOptionLevel|total_working_years|TrainingTimesLastYear|WorkLifeBalance|years_at_company|YearsInCurrentRole|YearsSinceLastPromotion|years_with_current_manager|\n",
      "+---+---------+--------------+----------+----------+----------------+---------+--------------+-----------------------+------+----------+--------------+--------+-------+---------------+-------------+--------------+-----------+------------------+--------+-----------------+-----------------+------------------------+----------------+-------------------+---------------------+---------------+----------------+------------------+-----------------------+--------------------------+\n",
      "|  0|        0|             0|         0|         0|               0|        0|             0|                      0|     0|         0|             0|       0|      0|              0|            0|             0|          0|                 0|       0|                0|                0|                       0|               0|                  0|                    0|              0|               0|                 0|                      0|                         0|\n",
      "+---+---------+--------------+----------+----------+----------------+---------+--------------+-----------------------+------+----------+--------------+--------+-------+---------------+-------------+--------------+-----------+------------------+--------+-----------------+-----------------+------------------------+----------------+-------------------+---------------------+---------------+----------------+------------------+-----------------------+--------------------------+\n",
      "\n"
     ]
    }
   ],
   "source": [
    "Emp_spark_df.select([count(when(col(c).isNull(), c)).alias(c) for c in Emp_spark_df.columns]).show()"
   ]
  },
  {
   "cell_type": "code",
   "execution_count": 14,
   "metadata": {},
   "outputs": [
    {
     "name": "stdout",
     "output_type": "stream",
     "text": [
      "+---+---------+-----------------+----------+--------------------+----------------+---------+----------------+-----------------------+------+----------+--------------+--------+--------------------+---------------+-------------+--------------+-----------+------------------+--------+-----------------+-----------------+------------------------+----------------+-------------------+---------------------+---------------+----------------+------------------+-----------------------+--------------------------+\n",
      "|Age|Attrition|   BusinessTravel|daily_rate|          Department|DistanceFromHome|Education|  EducationField|EnvironmentSatisfaction|Gender|HourlyRate|JobInvolvement|JobLevel|             JobRole|JobSatisfaction|MaritalStatus|monthly_income|MonthlyRate|NumCompaniesWorked|OverTime|PercentSalaryHike|PerformanceRating|RelationshipSatisfaction|StockOptionLevel|total_working_years|TrainingTimesLastYear|WorkLifeBalance|years_at_company|YearsInCurrentRole|YearsSinceLastPromotion|years_with_current_manager|\n",
      "+---+---------+-----------------+----------+--------------------+----------------+---------+----------------+-----------------------+------+----------+--------------+--------+--------------------+---------------+-------------+--------------+-----------+------------------+--------+-----------------+-----------------+------------------------+----------------+-------------------+---------------------+---------------+----------------+------------------+-----------------------+--------------------------+\n",
      "| 55|       No|    Travel_Rarely|       111|               Sales|               1|        2|   Life Sciences|                      1|  Male|        70|             3|       3|     Sales Executive|              4|      Married|         10239|      18092|                 3|      No|               14|                3|                       4|               1|                 24|                    4|              3|               1|                 0|                      1|                         0|\n",
      "| 34|       No|    Travel_Rarely|      1031|Research & Develo...|               6|        4|   Life Sciences|                      3|Female|        45|             2|       2|  Research Scientist|              2|     Divorced|          4505|      15000|                 6|      No|               15|                3|                       3|               1|                 12|                    3|              3|               1|                 0|                      0|                         0|\n",
      "| 33|       No|    Travel_Rarely|       147|Research & Develo...|               4|        4|         Medical|                      3|Female|        47|             2|       1|  Research Scientist|              2|      Married|          2622|      13248|                 6|      No|               21|                4|                       4|               0|                  7|                    3|              3|               3|                 2|                      1|                         1|\n",
      "| 41|       No|       Non-Travel|       267|               Sales|              10|        2|   Life Sciences|                      4|  Male|        56|             3|       2|     Sales Executive|              4|       Single|          6230|      13430|                 7|      No|               14|                3|                       4|               0|                 16|                    3|              3|              14|                 3|                      1|                        10|\n",
      "| 38|       No|    Travel_Rarely|       362|Research & Develo...|               1|        1|   Life Sciences|                      3|Female|        43|             3|       1|  Research Scientist|              1|       Single|          2619|      14561|                 3|      No|               17|                3|                       4|               0|                  8|                    3|              2|               0|                 0|                      0|                         0|\n",
      "| 26|       No|    Travel_Rarely|       991|Research & Develo...|               6|        3|   Life Sciences|                      3|Female|        71|             3|       1|Laboratory Techni...|              4|      Married|          2659|      17759|                 1|     Yes|               13|                3|                       3|               1|                  3|                    2|              3|               3|                 2|                      0|                         2|\n",
      "| 39|       No|    Travel_Rarely|      1462|               Sales|               6|        3|         Medical|                      4|  Male|        38|             4|       3|     Sales Executive|              3|      Married|          8237|       4658|                 2|      No|               11|                3|                       1|               1|                 11|                    3|              3|               7|                 6|                      7|                         6|\n",
      "| 23|      Yes|    Travel_Rarely|       427|               Sales|               7|        3|   Life Sciences|                      3|  Male|        99|             3|       1|Sales Representative|              4|     Divorced|          2275|      25103|                 1|     Yes|               21|                4|                       2|               1|                  3|                    2|              3|               3|                 2|                      0|                         2|\n",
      "| 38|       No|    Travel_Rarely|       723|               Sales|               2|        4|       Marketing|                      2|Female|        77|             1|       2|Sales Representative|              4|      Married|          5405|       4244|                 2|     Yes|               20|                4|                       1|               2|                 20|                    4|              2|               4|                 2|                      0|                         3|\n",
      "| 58|       No|    Travel_Rarely|      1145|Research & Develo...|               9|        3|         Medical|                      2|Female|        75|             2|       1|  Research Scientist|              2|      Married|          3346|      11873|                 4|     Yes|               20|                4|                       2|               1|                  9|                    3|              2|               1|                 0|                      0|                         0|\n",
      "| 36|       No|    Travel_Rarely|       506|Research & Develo...|               3|        3|Technical Degree|                      3|  Male|        30|             3|       2|  Research Scientist|              2|       Single|          4485|      26285|                 4|      No|               12|                3|                       4|               0|                 10|                    2|              3|               8|                 0|                      7|                         7|\n",
      "| 49|      Yes|Travel_Frequently|      1475|Research & Develo...|              28|        2|   Life Sciences|                      1|  Male|        97|             2|       2|Laboratory Techni...|              1|       Single|          4284|      22710|                 3|      No|               20|                4|                       1|               0|                 20|                    2|              3|               4|                 3|                      1|                         3|\n",
      "| 36|       No|    Travel_Rarely|      1040|Research & Develo...|               3|        2|   Life Sciences|                      4|  Male|        79|             4|       2|Healthcare Repres...|              1|     Divorced|          6842|      26308|                 6|      No|               20|                4|                       1|               1|                 13|                    3|              3|               5|                 4|                      0|                         4|\n",
      "| 28|       No|Travel_Frequently|       783|               Sales|               1|        2|   Life Sciences|                      3|  Male|        42|             2|       2|     Sales Executive|              4|      Married|          6834|      19255|                 1|     Yes|               12|                3|                       3|               1|                  7|                    2|              3|               7|                 7|                      0|                         7|\n",
      "| 49|       No|Travel_Frequently|      1023|               Sales|               2|        3|         Medical|                      4|  Male|        63|             2|       2|     Sales Executive|              2|      Married|          5390|      13243|                 2|      No|               14|                3|                       4|               0|                 17|                    3|              2|               9|                 6|                      0|                         8|\n",
      "| 28|       No|    Travel_Rarely|      1117|Research & Develo...|               8|        2|   Life Sciences|                      4|Female|        66|             3|       1|  Research Scientist|              4|       Single|          3310|       4488|                 1|      No|               21|                4|                       4|               0|                  5|                    3|              3|               5|                 3|                      0|                         2|\n",
      "| 48|       No|    Travel_Rarely|       277|Research & Develo...|               6|        3|   Life Sciences|                      1|  Male|        97|             2|       2|Healthcare Repres...|              3|       Single|          4240|      13119|                 2|      No|               13|                3|                       4|               0|                 19|                    0|              3|               2|                 2|                      2|                         2|\n",
      "| 33|       No|       Non-Travel|       530|               Sales|              16|        3|   Life Sciences|                      3|Female|        36|             3|       2|     Sales Executive|              4|     Divorced|          5368|      16130|                 1|     Yes|               25|                4|                       3|               1|                  7|                    2|              3|               6|                 5|                      1|                         2|\n",
      "| 33|       No|       Non-Travel|      1313|Research & Develo...|               1|        2|         Medical|                      2|  Male|        59|             2|       1|Laboratory Techni...|              3|     Divorced|          2008|      20439|                 1|      No|               12|                3|                       3|               3|                  1|                    2|              2|               1|                 1|                      0|                         0|\n",
      "| 42|       No|    Travel_Rarely|       557|Research & Develo...|              18|        4|   Life Sciences|                      4|  Male|        35|             3|       2|  Research Scientist|              1|     Divorced|          5410|      11189|                 6|     Yes|               17|                3|                       3|               1|                  9|                    3|              2|               4|                 3|                      1|                         2|\n",
      "+---+---------+-----------------+----------+--------------------+----------------+---------+----------------+-----------------------+------+----------+--------------+--------+--------------------+---------------+-------------+--------------+-----------+------------------+--------+-----------------+-----------------+------------------------+----------------+-------------------+---------------------+---------------+----------------+------------------+-----------------------+--------------------------+\n",
      "only showing top 20 rows\n",
      "\n"
     ]
    }
   ],
   "source": [
    "Emp_spark_df = Emp_spark_df.dropDuplicates()\n",
    "\n",
    "Emp_spark_df.show()"
   ]
  },
  {
   "cell_type": "code",
   "execution_count": 19,
   "metadata": {},
   "outputs": [],
   "source": [
    "pandas_df = Emp_spark_df.toPandas()"
   ]
  },
  {
   "cell_type": "code",
   "execution_count": 20,
   "metadata": {},
   "outputs": [],
   "source": [
    "pandas_df.to_csv(\"employee_data_csv.csv\")"
   ]
  },
  {
   "cell_type": "code",
   "execution_count": 30,
   "metadata": {},
   "outputs": [
    {
     "name": "stderr",
     "output_type": "stream",
     "text": [
      "                                                                                \r"
     ]
    }
   ],
   "source": [
    "\n",
    "db_url = \"jdbc:postgresql://localhost:5432/hr_db\"\n",
    "db_properties = {\n",
    "    \"user\": \"postgres\",\n",
    "    \"password\": \"cd090264\",\n",
    "    \"driver\": \"org.postgresql.Driver\"\n",
    "}\n",
    "\n",
    "\n",
    "Emp_spark_df.write.jdbc(\n",
    "    url=db_url, \n",
    "    table=\"employee_data\", \n",
    "    mode=\"overwrite\",  \n",
    "    properties=db_properties\n",
    ")\n"
   ]
  },
  {
   "cell_type": "code",
   "execution_count": 31,
   "metadata": {},
   "outputs": [
    {
     "name": "stdout",
     "output_type": "stream",
     "text": [
      "+---+---------+-----------------+----------+--------------------+----------------+---------+----------------+-----------------------+------+----------+--------------+--------+--------------------+---------------+-------------+--------------+-----------+------------------+--------+-----------------+-----------------+------------------------+----------------+-------------------+---------------------+---------------+----------------+------------------+-----------------------+--------------------------+\n",
      "|Age|Attrition|   BusinessTravel|daily_rate|          Department|DistanceFromHome|Education|  EducationField|EnvironmentSatisfaction|Gender|HourlyRate|JobInvolvement|JobLevel|             JobRole|JobSatisfaction|MaritalStatus|monthly_income|MonthlyRate|NumCompaniesWorked|OverTime|PercentSalaryHike|PerformanceRating|RelationshipSatisfaction|StockOptionLevel|total_working_years|TrainingTimesLastYear|WorkLifeBalance|years_at_company|YearsInCurrentRole|YearsSinceLastPromotion|years_with_current_manager|\n",
      "+---+---------+-----------------+----------+--------------------+----------------+---------+----------------+-----------------------+------+----------+--------------+--------+--------------------+---------------+-------------+--------------+-----------+------------------+--------+-----------------+-----------------+------------------------+----------------+-------------------+---------------------+---------------+----------------+------------------+-----------------------+--------------------------+\n",
      "| 55|       No|    Travel_Rarely|       111|               Sales|               1|        2|   Life Sciences|                      1|  Male|        70|             3|       3|     Sales Executive|              4|      Married|         10239|      18092|                 3|      No|               14|                3|                       4|               1|                 24|                    4|              3|               1|                 0|                      1|                         0|\n",
      "| 34|       No|    Travel_Rarely|      1031|Research & Develo...|               6|        4|   Life Sciences|                      3|Female|        45|             2|       2|  Research Scientist|              2|     Divorced|          4505|      15000|                 6|      No|               15|                3|                       3|               1|                 12|                    3|              3|               1|                 0|                      0|                         0|\n",
      "| 33|       No|    Travel_Rarely|       147|Research & Develo...|               4|        4|         Medical|                      3|Female|        47|             2|       1|  Research Scientist|              2|      Married|          2622|      13248|                 6|      No|               21|                4|                       4|               0|                  7|                    3|              3|               3|                 2|                      1|                         1|\n",
      "| 41|       No|       Non-Travel|       267|               Sales|              10|        2|   Life Sciences|                      4|  Male|        56|             3|       2|     Sales Executive|              4|       Single|          6230|      13430|                 7|      No|               14|                3|                       4|               0|                 16|                    3|              3|              14|                 3|                      1|                        10|\n",
      "| 38|       No|    Travel_Rarely|       362|Research & Develo...|               1|        1|   Life Sciences|                      3|Female|        43|             3|       1|  Research Scientist|              1|       Single|          2619|      14561|                 3|      No|               17|                3|                       4|               0|                  8|                    3|              2|               0|                 0|                      0|                         0|\n",
      "| 26|       No|    Travel_Rarely|       991|Research & Develo...|               6|        3|   Life Sciences|                      3|Female|        71|             3|       1|Laboratory Techni...|              4|      Married|          2659|      17759|                 1|     Yes|               13|                3|                       3|               1|                  3|                    2|              3|               3|                 2|                      0|                         2|\n",
      "| 39|       No|    Travel_Rarely|      1462|               Sales|               6|        3|         Medical|                      4|  Male|        38|             4|       3|     Sales Executive|              3|      Married|          8237|       4658|                 2|      No|               11|                3|                       1|               1|                 11|                    3|              3|               7|                 6|                      7|                         6|\n",
      "| 23|      Yes|    Travel_Rarely|       427|               Sales|               7|        3|   Life Sciences|                      3|  Male|        99|             3|       1|Sales Representative|              4|     Divorced|          2275|      25103|                 1|     Yes|               21|                4|                       2|               1|                  3|                    2|              3|               3|                 2|                      0|                         2|\n",
      "| 38|       No|    Travel_Rarely|       723|               Sales|               2|        4|       Marketing|                      2|Female|        77|             1|       2|Sales Representative|              4|      Married|          5405|       4244|                 2|     Yes|               20|                4|                       1|               2|                 20|                    4|              2|               4|                 2|                      0|                         3|\n",
      "| 58|       No|    Travel_Rarely|      1145|Research & Develo...|               9|        3|         Medical|                      2|Female|        75|             2|       1|  Research Scientist|              2|      Married|          3346|      11873|                 4|     Yes|               20|                4|                       2|               1|                  9|                    3|              2|               1|                 0|                      0|                         0|\n",
      "| 36|       No|    Travel_Rarely|       506|Research & Develo...|               3|        3|Technical Degree|                      3|  Male|        30|             3|       2|  Research Scientist|              2|       Single|          4485|      26285|                 4|      No|               12|                3|                       4|               0|                 10|                    2|              3|               8|                 0|                      7|                         7|\n",
      "| 49|      Yes|Travel_Frequently|      1475|Research & Develo...|              28|        2|   Life Sciences|                      1|  Male|        97|             2|       2|Laboratory Techni...|              1|       Single|          4284|      22710|                 3|      No|               20|                4|                       1|               0|                 20|                    2|              3|               4|                 3|                      1|                         3|\n",
      "| 36|       No|    Travel_Rarely|      1040|Research & Develo...|               3|        2|   Life Sciences|                      4|  Male|        79|             4|       2|Healthcare Repres...|              1|     Divorced|          6842|      26308|                 6|      No|               20|                4|                       1|               1|                 13|                    3|              3|               5|                 4|                      0|                         4|\n",
      "| 28|       No|Travel_Frequently|       783|               Sales|               1|        2|   Life Sciences|                      3|  Male|        42|             2|       2|     Sales Executive|              4|      Married|          6834|      19255|                 1|     Yes|               12|                3|                       3|               1|                  7|                    2|              3|               7|                 7|                      0|                         7|\n",
      "| 49|       No|Travel_Frequently|      1023|               Sales|               2|        3|         Medical|                      4|  Male|        63|             2|       2|     Sales Executive|              2|      Married|          5390|      13243|                 2|      No|               14|                3|                       4|               0|                 17|                    3|              2|               9|                 6|                      0|                         8|\n",
      "| 28|       No|    Travel_Rarely|      1117|Research & Develo...|               8|        2|   Life Sciences|                      4|Female|        66|             3|       1|  Research Scientist|              4|       Single|          3310|       4488|                 1|      No|               21|                4|                       4|               0|                  5|                    3|              3|               5|                 3|                      0|                         2|\n",
      "| 48|       No|    Travel_Rarely|       277|Research & Develo...|               6|        3|   Life Sciences|                      1|  Male|        97|             2|       2|Healthcare Repres...|              3|       Single|          4240|      13119|                 2|      No|               13|                3|                       4|               0|                 19|                    0|              3|               2|                 2|                      2|                         2|\n",
      "| 33|       No|       Non-Travel|       530|               Sales|              16|        3|   Life Sciences|                      3|Female|        36|             3|       2|     Sales Executive|              4|     Divorced|          5368|      16130|                 1|     Yes|               25|                4|                       3|               1|                  7|                    2|              3|               6|                 5|                      1|                         2|\n",
      "| 33|       No|       Non-Travel|      1313|Research & Develo...|               1|        2|         Medical|                      2|  Male|        59|             2|       1|Laboratory Techni...|              3|     Divorced|          2008|      20439|                 1|      No|               12|                3|                       3|               3|                  1|                    2|              2|               1|                 1|                      0|                         0|\n",
      "| 42|       No|    Travel_Rarely|       557|Research & Develo...|              18|        4|   Life Sciences|                      4|  Male|        35|             3|       2|  Research Scientist|              1|     Divorced|          5410|      11189|                 6|     Yes|               17|                3|                       3|               1|                  9|                    3|              2|               4|                 3|                      1|                         2|\n",
      "+---+---------+-----------------+----------+--------------------+----------------+---------+----------------+-----------------------+------+----------+--------------+--------+--------------------+---------------+-------------+--------------+-----------+------------------+--------+-----------------+-----------------+------------------------+----------------+-------------------+---------------------+---------------+----------------+------------------+-----------------------+--------------------------+\n",
      "only showing top 20 rows\n",
      "\n"
     ]
    }
   ],
   "source": [
    "Emp_spark_df.show()"
   ]
  },
  {
   "cell_type": "code",
   "execution_count": 32,
   "metadata": {},
   "outputs": [
    {
     "name": "stdout",
     "output_type": "stream",
     "text": [
      "+------------------+\n",
      "|           avg_age|\n",
      "+------------------+\n",
      "|36.923809523809524|\n",
      "+------------------+\n",
      "\n"
     ]
    }
   ],
   "source": [
    "spark.sql(\"SELECT AVG(Age) AS avg_age FROM employee_view\").show()\n"
   ]
  },
  {
   "cell_type": "code",
   "execution_count": 41,
   "metadata": {},
   "outputs": [
    {
     "name": "stdout",
     "output_type": "stream",
     "text": [
      "+--------------------+-----+\n",
      "|          Department|count|\n",
      "+--------------------+-----+\n",
      "|Research & Develo...|  961|\n",
      "|               Sales|  446|\n",
      "|     Human Resources|   63|\n",
      "+--------------------+-----+\n",
      "\n"
     ]
    }
   ],
   "source": [
    "spark.sql(\"SELECT Department, COUNT(*) AS count \\\n",
    "    FROM employee_view \\\n",
    "    GROUP BY Department \\\n",
    "    ORDER BY count DESC \").show()\n"
   ]
  },
  {
   "cell_type": "code",
   "execution_count": 37,
   "metadata": {},
   "outputs": [
    {
     "name": "stdout",
     "output_type": "stream",
     "text": [
      "+---------------+\n",
      "|median_distance|\n",
      "+---------------+\n",
      "|              7|\n",
      "+---------------+\n",
      "\n"
     ]
    }
   ],
   "source": [
    "spark.sql(\"SELECT PERCENTILE_APPROX(DistanceFromHome, 0.5) AS median_distance \\\n",
    "    FROM employee_view\").show()\n"
   ]
  },
  {
   "cell_type": "code",
   "execution_count": 38,
   "metadata": {},
   "outputs": [
    {
     "name": "stdout",
     "output_type": "stream",
     "text": [
      "+---+---------+-----------------+----------+--------------------+---------------------+---------+----------------+-----------------------+------+----------+--------------+--------+--------------------+---------------+-------------+--------------+-----------+------------------+--------+-----------------+-----------------+------------------------+----------------+-------------------+---------------------+---------------+----------------+------------------+-----------------------+--------------------------+\n",
      "|Age|Attrition|   BusinessTravel|daily_rate|          Department|DistanceFromHome_(km)|Education|  EducationField|EnvironmentSatisfaction|Gender|HourlyRate|JobInvolvement|JobLevel|             JobRole|JobSatisfaction|MaritalStatus|monthly_income|MonthlyRate|NumCompaniesWorked|OverTime|PercentSalaryHike|PerformanceRating|RelationshipSatisfaction|StockOptionLevel|total_working_years|TrainingTimesLastYear|WorkLifeBalance|years_at_company|YearsInCurrentRole|YearsSinceLastPromotion|years_with_current_manager|\n",
      "+---+---------+-----------------+----------+--------------------+---------------------+---------+----------------+-----------------------+------+----------+--------------+--------+--------------------+---------------+-------------+--------------+-----------+------------------+--------+-----------------+-----------------+------------------------+----------------+-------------------+---------------------+---------------+----------------+------------------+-----------------------+--------------------------+\n",
      "| 55|       No|    Travel_Rarely|       111|               Sales|                    1|        2|   Life Sciences|                      1|  Male|        70|             3|       3|     Sales Executive|              4|      Married|         10239|      18092|                 3|      No|               14|                3|                       4|               1|                 24|                    4|              3|               1|                 0|                      1|                         0|\n",
      "| 34|       No|    Travel_Rarely|      1031|Research & Develo...|                    6|        4|   Life Sciences|                      3|Female|        45|             2|       2|  Research Scientist|              2|     Divorced|          4505|      15000|                 6|      No|               15|                3|                       3|               1|                 12|                    3|              3|               1|                 0|                      0|                         0|\n",
      "| 33|       No|    Travel_Rarely|       147|Research & Develo...|                    4|        4|         Medical|                      3|Female|        47|             2|       1|  Research Scientist|              2|      Married|          2622|      13248|                 6|      No|               21|                4|                       4|               0|                  7|                    3|              3|               3|                 2|                      1|                         1|\n",
      "| 41|       No|       Non-Travel|       267|               Sales|                   10|        2|   Life Sciences|                      4|  Male|        56|             3|       2|     Sales Executive|              4|       Single|          6230|      13430|                 7|      No|               14|                3|                       4|               0|                 16|                    3|              3|              14|                 3|                      1|                        10|\n",
      "| 38|       No|    Travel_Rarely|       362|Research & Develo...|                    1|        1|   Life Sciences|                      3|Female|        43|             3|       1|  Research Scientist|              1|       Single|          2619|      14561|                 3|      No|               17|                3|                       4|               0|                  8|                    3|              2|               0|                 0|                      0|                         0|\n",
      "| 26|       No|    Travel_Rarely|       991|Research & Develo...|                    6|        3|   Life Sciences|                      3|Female|        71|             3|       1|Laboratory Techni...|              4|      Married|          2659|      17759|                 1|     Yes|               13|                3|                       3|               1|                  3|                    2|              3|               3|                 2|                      0|                         2|\n",
      "| 39|       No|    Travel_Rarely|      1462|               Sales|                    6|        3|         Medical|                      4|  Male|        38|             4|       3|     Sales Executive|              3|      Married|          8237|       4658|                 2|      No|               11|                3|                       1|               1|                 11|                    3|              3|               7|                 6|                      7|                         6|\n",
      "| 23|      Yes|    Travel_Rarely|       427|               Sales|                    7|        3|   Life Sciences|                      3|  Male|        99|             3|       1|Sales Representative|              4|     Divorced|          2275|      25103|                 1|     Yes|               21|                4|                       2|               1|                  3|                    2|              3|               3|                 2|                      0|                         2|\n",
      "| 38|       No|    Travel_Rarely|       723|               Sales|                    2|        4|       Marketing|                      2|Female|        77|             1|       2|Sales Representative|              4|      Married|          5405|       4244|                 2|     Yes|               20|                4|                       1|               2|                 20|                    4|              2|               4|                 2|                      0|                         3|\n",
      "| 58|       No|    Travel_Rarely|      1145|Research & Develo...|                    9|        3|         Medical|                      2|Female|        75|             2|       1|  Research Scientist|              2|      Married|          3346|      11873|                 4|     Yes|               20|                4|                       2|               1|                  9|                    3|              2|               1|                 0|                      0|                         0|\n",
      "| 36|       No|    Travel_Rarely|       506|Research & Develo...|                    3|        3|Technical Degree|                      3|  Male|        30|             3|       2|  Research Scientist|              2|       Single|          4485|      26285|                 4|      No|               12|                3|                       4|               0|                 10|                    2|              3|               8|                 0|                      7|                         7|\n",
      "| 49|      Yes|Travel_Frequently|      1475|Research & Develo...|                   28|        2|   Life Sciences|                      1|  Male|        97|             2|       2|Laboratory Techni...|              1|       Single|          4284|      22710|                 3|      No|               20|                4|                       1|               0|                 20|                    2|              3|               4|                 3|                      1|                         3|\n",
      "| 36|       No|    Travel_Rarely|      1040|Research & Develo...|                    3|        2|   Life Sciences|                      4|  Male|        79|             4|       2|Healthcare Repres...|              1|     Divorced|          6842|      26308|                 6|      No|               20|                4|                       1|               1|                 13|                    3|              3|               5|                 4|                      0|                         4|\n",
      "| 28|       No|Travel_Frequently|       783|               Sales|                    1|        2|   Life Sciences|                      3|  Male|        42|             2|       2|     Sales Executive|              4|      Married|          6834|      19255|                 1|     Yes|               12|                3|                       3|               1|                  7|                    2|              3|               7|                 7|                      0|                         7|\n",
      "| 49|       No|Travel_Frequently|      1023|               Sales|                    2|        3|         Medical|                      4|  Male|        63|             2|       2|     Sales Executive|              2|      Married|          5390|      13243|                 2|      No|               14|                3|                       4|               0|                 17|                    3|              2|               9|                 6|                      0|                         8|\n",
      "| 28|       No|    Travel_Rarely|      1117|Research & Develo...|                    8|        2|   Life Sciences|                      4|Female|        66|             3|       1|  Research Scientist|              4|       Single|          3310|       4488|                 1|      No|               21|                4|                       4|               0|                  5|                    3|              3|               5|                 3|                      0|                         2|\n",
      "| 48|       No|    Travel_Rarely|       277|Research & Develo...|                    6|        3|   Life Sciences|                      1|  Male|        97|             2|       2|Healthcare Repres...|              3|       Single|          4240|      13119|                 2|      No|               13|                3|                       4|               0|                 19|                    0|              3|               2|                 2|                      2|                         2|\n",
      "| 33|       No|       Non-Travel|       530|               Sales|                   16|        3|   Life Sciences|                      3|Female|        36|             3|       2|     Sales Executive|              4|     Divorced|          5368|      16130|                 1|     Yes|               25|                4|                       3|               1|                  7|                    2|              3|               6|                 5|                      1|                         2|\n",
      "| 33|       No|       Non-Travel|      1313|Research & Develo...|                    1|        2|         Medical|                      2|  Male|        59|             2|       1|Laboratory Techni...|              3|     Divorced|          2008|      20439|                 1|      No|               12|                3|                       3|               3|                  1|                    2|              2|               1|                 1|                      0|                         0|\n",
      "| 42|       No|    Travel_Rarely|       557|Research & Develo...|                   18|        4|   Life Sciences|                      4|  Male|        35|             3|       2|  Research Scientist|              1|     Divorced|          5410|      11189|                 6|     Yes|               17|                3|                       3|               1|                  9|                    3|              2|               4|                 3|                      1|                         2|\n",
      "+---+---------+-----------------+----------+--------------------+---------------------+---------+----------------+-----------------------+------+----------+--------------+--------+--------------------+---------------+-------------+--------------+-----------+------------------+--------+-----------------+-----------------+------------------------+----------------+-------------------+---------------------+---------------+----------------+------------------+-----------------------+--------------------------+\n",
      "only showing top 20 rows\n",
      "\n"
     ]
    }
   ],
   "source": [
    "Emp_spark_df = Emp_spark_df.withColumnRenamed(\"DistanceFromHome\", \"DistanceFromHome_(km)\")\n",
    "\n",
    "Emp_spark_df.show()"
   ]
  },
  {
   "cell_type": "code",
   "execution_count": 40,
   "metadata": {},
   "outputs": [
    {
     "name": "stdout",
     "output_type": "stream",
     "text": [
      "+---------+-----+\n",
      "|Education|count|\n",
      "+---------+-----+\n",
      "|        3|  572|\n",
      "|        4|  398|\n",
      "|        2|  282|\n",
      "|        1|  170|\n",
      "|        5|   48|\n",
      "+---------+-----+\n",
      "\n"
     ]
    }
   ],
   "source": [
    "spark.sql(\"SELECT Education, COUNT(*) AS count \\\n",
    "    FROM employee_view \\\n",
    "    GROUP BY Education \\\n",
    "    ORDER BY count DESC\").show()\n"
   ]
  }
 ],
 "metadata": {
  "kernelspec": {
   "display_name": "Python 3",
   "language": "python",
   "name": "python3"
  },
  "language_info": {
   "codemirror_mode": {
    "name": "ipython",
    "version": 3
   },
   "file_extension": ".py",
   "mimetype": "text/x-python",
   "name": "python",
   "nbconvert_exporter": "python",
   "pygments_lexer": "ipython3",
   "version": "3.11.0"
  }
 },
 "nbformat": 4,
 "nbformat_minor": 2
}
