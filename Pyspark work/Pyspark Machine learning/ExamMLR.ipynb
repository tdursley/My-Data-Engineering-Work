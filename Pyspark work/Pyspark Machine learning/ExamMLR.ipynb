{
 "cells": [
  {
   "cell_type": "code",
   "execution_count": 1,
   "metadata": {},
   "outputs": [],
   "source": [
    "import os\n",
    "import sys\n",
    "\n",
    "os.environ[\"JAVA_HOME\"] = \"JDK 8/Contents/Home\"\n",
    "os.environ[\"PYSPARK_PYTHON\"] = sys.executable\n",
    "os.environ[\"PYSPARK_DRIVER_PYTHON\"] = sys.executable"
   ]
  },
  {
   "cell_type": "code",
   "execution_count": 2,
   "metadata": {},
   "outputs": [],
   "source": [
    "import pandas as pd\n",
    "import matplotlib.pyplot as plt\n",
    "import seaborn as sns\n",
    "from pyspark.sql import SparkSession\n",
    "import pyspark.sql.functions as F\n",
    "import pyspark.sql.types as T\n",
    "from pyspark.ml.feature import VectorAssembler\n",
    "from pyspark.ml.regression import LinearRegression\n",
    "from pyspark.ml.evaluation import RegressionEvaluator"
   ]
  },
  {
   "cell_type": "markdown",
   "metadata": {},
   "source": [
    "**Step 1:** Load Data and Initialize Spark Session"
   ]
  },
  {
   "cell_type": "code",
   "execution_count": 3,
   "metadata": {},
   "outputs": [
    {
     "name": "stderr",
     "output_type": "stream",
     "text": [
      "25/03/22 13:49:33 WARN Utils: Your hostname, Toms-MacBook-Pro.local resolves to a loopback address: 127.0.0.1; using 10.180.174.193 instead (on interface en0)\n",
      "25/03/22 13:49:33 WARN Utils: Set SPARK_LOCAL_IP if you need to bind to another address\n",
      "Setting default log level to \"WARN\".\n",
      "To adjust logging level use sc.setLogLevel(newLevel). For SparkR, use setLogLevel(newLevel).\n",
      "25/03/22 13:49:34 WARN NativeCodeLoader: Unable to load native-hadoop library for your platform... using builtin-java classes where applicable\n"
     ]
    }
   ],
   "source": [
    "# Create SparkSession\n",
    "spark = SparkSession \\\n",
    "    .builder \\\n",
    "        .appName(\"MultipleLinearRegression\") \\\n",
    "            .getOrCreate()"
   ]
  },
  {
   "cell_type": "markdown",
   "metadata": {},
   "source": [
    "**Step 2:** Data Preparation\n",
    "\n",
    "+ **Select Relevant Columns:** We will filter only the relevant columns for the regression model.\n",
    "+ **Handle Missing Values:** We gonna drop rows or fill missing values in predictors or input columns.\n",
    "+ **Assemble Features:** We'll combine predictors into a single features vector using VectorAssembler."
   ]
  },
  {
   "cell_type": "code",
   "execution_count": null,
   "metadata": {},
   "outputs": [
    {
     "name": "stderr",
     "output_type": "stream",
     "text": [
      "                                                                                \r"
     ]
    },
    {
     "name": "stdout",
     "output_type": "stream",
     "text": [
      "+---------+-----+----------+------------+----------+---------+------------+--------+--------------------+-------------------+--------------------+------------------------+------------+\n",
      "|MODELYEAR| MAKE|     MODEL|VEHICLECLASS|ENGINESIZE|CYLINDERS|TRANSMISSION|FUELTYPE|FUELCONSUMPTION_CITY|FUELCONSUMPTION_HWY|FUELCONSUMPTION_COMB|FUELCONSUMPTION_COMB_MPG|CO2EMISSIONS|\n",
      "+---------+-----+----------+------------+----------+---------+------------+--------+--------------------+-------------------+--------------------+------------------------+------------+\n",
      "|     2014|ACURA|       ILX|     COMPACT|       2.0|        4|         AS5|       Z|                 9.9|                6.7|                 8.5|                      33|         196|\n",
      "|     2014|ACURA|       ILX|     COMPACT|       2.4|        4|          M6|       Z|                11.2|                7.7|                 9.6|                      29|         221|\n",
      "|     2014|ACURA|ILX HYBRID|     COMPACT|       1.5|        4|         AV7|       Z|                 6.0|                5.8|                 5.9|                      48|         136|\n",
      "|     2014|ACURA|   MDX 4WD| SUV - SMALL|       3.5|        6|         AS6|       Z|                12.7|                9.1|                11.1|                      25|         255|\n",
      "|     2014|ACURA|   RDX AWD| SUV - SMALL|       3.5|        6|         AS6|       Z|                12.1|                8.7|                10.6|                      27|         244|\n",
      "+---------+-----+----------+------------+----------+---------+------------+--------+--------------------+-------------------+--------------------+------------------------+------------+\n",
      "only showing top 5 rows\n",
      "\n"
     ]
    }
   ],
   "source": [
    "#Find and read the file and show the table in pyspark\n",
    "path = \"/Users/tomdursley/Downloads/FuelConsumption.csv\"\n",
    "\n",
    "Fuel_sparkdf = spark.read.csv(path, header=True, inferSchema=True)\n",
    "\n",
    "Fuel_sparkdf.show(5)"
   ]
  },
  {
   "cell_type": "code",
   "execution_count": 5,
   "metadata": {},
   "outputs": [
    {
     "name": "stdout",
     "output_type": "stream",
     "text": [
      "+--------------------+----------+------------+---------+\n",
      "|FUELCONSUMPTION_COMB|ENGINESIZE|CO2EMISSIONS|CYLINDERS|\n",
      "+--------------------+----------+------------+---------+\n",
      "|                 8.5|       2.0|         196|        4|\n",
      "|                 9.6|       2.4|         221|        4|\n",
      "|                 5.9|       1.5|         136|        4|\n",
      "|                11.1|       3.5|         255|        6|\n",
      "|                10.6|       3.5|         244|        6|\n",
      "+--------------------+----------+------------+---------+\n",
      "only showing top 5 rows\n",
      "\n"
     ]
    }
   ],
   "source": [
    "# Select relevant features for predicting CO2EMISSIONS\n",
    "\n",
    "#ENGINESIZE, FUELCONSUMPTION_COMB, CO2EMISSIONS, CYLINDERS\n",
    "\n",
    "Fuel_dfMLR = Fuel_sparkdf.select(\"FUELCONSUMPTION_COMB\", \"ENGINESIZE\", \"CO2EMISSIONS\", \"CYLINDERS\")\n",
    "\n",
    "Fuel_dfMLR.show(5)"
   ]
  },
  {
   "cell_type": "code",
   "execution_count": 6,
   "metadata": {},
   "outputs": [
    {
     "name": "stdout",
     "output_type": "stream",
     "text": [
      "the number of null values is: \n",
      "+--------------------+----------+------------+---------+\n",
      "|FUELCONSUMPTION_COMB|ENGINESIZE|CO2EMISSIONS|CYLINDERS|\n",
      "+--------------------+----------+------------+---------+\n",
      "|                   0|         0|           0|        0|\n",
      "+--------------------+----------+------------+---------+\n",
      "\n"
     ]
    }
   ],
   "source": [
    "# Handle missing values (if any)\n",
    "\n",
    "null_count = Fuel_dfMLR.select([F.sum(F.col(c).isNull().cast(\"int\")).alias(c) for c in Fuel_dfMLR.columns])\n",
    "\n",
    "print(\"the number of null values is: \")\n",
    "\n",
    "null_count.show()"
   ]
  },
  {
   "cell_type": "code",
   "execution_count": null,
   "metadata": {},
   "outputs": [
    {
     "name": "stdout",
     "output_type": "stream",
     "text": [
      "+--------------------+----------+------------+---------+--------------+\n",
      "|FUELCONSUMPTION_COMB|ENGINESIZE|CO2EMISSIONS|CYLINDERS|features      |\n",
      "+--------------------+----------+------------+---------+--------------+\n",
      "|8.5                 |2.0       |196         |4        |[8.5,2.0,4.0] |\n",
      "|9.6                 |2.4       |221         |4        |[9.6,2.4,4.0] |\n",
      "|5.9                 |1.5       |136         |4        |[5.9,1.5,4.0] |\n",
      "|11.1                |3.5       |255         |6        |[11.1,3.5,6.0]|\n",
      "|10.6                |3.5       |244         |6        |[10.6,3.5,6.0]|\n",
      "+--------------------+----------+------------+---------+--------------+\n",
      "only showing top 5 rows\n",
      "\n"
     ]
    }
   ],
   "source": [
    "#combine the data from all tables and create new table with that data\n",
    "\n",
    "assembler = VectorAssembler(inputCols=[\"FUELCONSUMPTION_COMB\", \"ENGINESIZE\",\"CYLINDERS\"], outputCol=\"features\")\n",
    "\n",
    "assembled_data = assembler.transform(Fuel_dfMLR)\n",
    "\n",
    "assembled_data.show(5, truncate=False)"
   ]
  },
  {
   "cell_type": "markdown",
   "metadata": {},
   "source": [
    "**Step 3:** Train-Test Split"
   ]
  },
  {
   "cell_type": "code",
   "execution_count": null,
   "metadata": {},
   "outputs": [],
   "source": [
    "#create a random split of 80 - 20 ratio for testing\n",
    "train_data, test_data = assembled_data.randomSplit([0.8, 0.2], seed=42)"
   ]
  },
  {
   "cell_type": "markdown",
   "metadata": {},
   "source": [
    "**Step 4:** Train the Multiple Linear Regression Model"
   ]
  },
  {
   "cell_type": "code",
   "execution_count": 9,
   "metadata": {},
   "outputs": [
    {
     "name": "stderr",
     "output_type": "stream",
     "text": [
      "25/03/22 13:52:38 WARN Instrumentation: [bf4cfd3c] regParam is zero, which might cause numerical instability and overfitting.\n",
      "25/03/22 13:52:39 WARN InstanceBuilder: Failed to load implementation from:dev.ludovic.netlib.blas.JNIBLAS\n",
      "25/03/22 13:52:39 WARN InstanceBuilder: Failed to load implementation from:dev.ludovic.netlib.lapack.JNILAPACK\n"
     ]
    }
   ],
   "source": [
    "MLR = LinearRegression(featuresCol=\"features\", labelCol=\"CO2EMISSIONS\")\n",
    "\n",
    "MLR_MODEL = MLR.fit(train_data)"
   ]
  },
  {
   "cell_type": "code",
   "execution_count": 10,
   "metadata": {},
   "outputs": [
    {
     "name": "stdout",
     "output_type": "stream",
     "text": [
      "Coefficients:  [9.583022473094907,11.457425902199605,7.164466396524107]\n",
      "Intercept:  65.61437182897156\n"
     ]
    }
   ],
   "source": [
    "print(\"Coefficients: \", MLR_MODEL.coefficients)\n",
    "print(\"Intercept: \", MLR_MODEL.intercept)"
   ]
  },
  {
   "cell_type": "markdown",
   "metadata": {},
   "source": [
    "CO2EMISSIONS = 52.1313 + (10.7770 × FUELCONSUMPTION_COMB) + (13.7017 × CYLINDERS)"
   ]
  },
  {
   "cell_type": "markdown",
   "metadata": {},
   "source": [
    "**Step 5:** Make Predictions"
   ]
  },
  {
   "cell_type": "code",
   "execution_count": 11,
   "metadata": {},
   "outputs": [
    {
     "name": "stdout",
     "output_type": "stream",
     "text": [
      "+--------------------+----------+------------+---------+-------------+------------------+\n",
      "|FUELCONSUMPTION_COMB|ENGINESIZE|CO2EMISSIONS|CYLINDERS|     features|        prediction|\n",
      "+--------------------+----------+------------+---------+-------------+------------------+\n",
      "|                 4.8|       2.0|         110|        4|[4.8,2.0,4.0]|163.18559709032274|\n",
      "|                 5.6|       1.8|         129|        4|[5.6,1.8,4.0]|168.56052988835876|\n",
      "|                 5.9|       1.5|         136|        4|[5.9,1.5,4.0]|167.99820885962737|\n",
      "|                 6.2|       1.3|         143|        4|[6.2,1.3,4.0]| 168.5816304211159|\n",
      "|                 6.4|       1.0|         147|        3|[6.4,1.0,3.0]|159.89654074855088|\n",
      "+--------------------+----------+------------+---------+-------------+------------------+\n",
      "only showing top 5 rows\n",
      "\n"
     ]
    }
   ],
   "source": [
    "MLR_predictions = MLR_MODEL.transform(test_data)\n",
    "\n",
    "MLR_predictions.show(5)"
   ]
  },
  {
   "cell_type": "markdown",
   "metadata": {},
   "source": [
    "MLR evaluation"
   ]
  },
  {
   "cell_type": "code",
   "execution_count": 12,
   "metadata": {},
   "outputs": [
    {
     "name": "stdout",
     "output_type": "stream",
     "text": [
      "The Coefficient of Determination is: 0.83913128544792\n"
     ]
    }
   ],
   "source": [
    "MLR_evaluator_r2 = RegressionEvaluator(labelCol=\"CO2EMISSIONS\",\n",
    "                                       predictionCol=\"prediction\",\n",
    "                                       metricName=\"r2\")\n",
    "\n",
    "\n",
    "MLR_r2 = MLR_evaluator_r2.evaluate(MLR_predictions)\n",
    "\n",
    "print(\"The Coefficient of Determination is:\", MLR_r2)"
   ]
  },
  {
   "cell_type": "code",
   "execution_count": 13,
   "metadata": {},
   "outputs": [
    {
     "name": "stdout",
     "output_type": "stream",
     "text": [
      "The Coefficient of Determination is: 26.853368115055336\n"
     ]
    }
   ],
   "source": [
    "MLR_evaluator_rmse = RegressionEvaluator(labelCol=\"CO2EMISSIONS\",\n",
    "                                       predictionCol=\"prediction\",\n",
    "                                       metricName=\"rmse\")\n",
    "\n",
    "\n",
    "MLR_rmse = MLR_evaluator_rmse.evaluate(MLR_predictions)\n",
    "\n",
    "print(\"The Coefficient of Determination is:\", MLR_rmse)"
   ]
  }
 ],
 "metadata": {
  "kernelspec": {
   "display_name": "Python 3",
   "language": "python",
   "name": "python3"
  },
  "language_info": {
   "codemirror_mode": {
    "name": "ipython",
    "version": 3
   },
   "file_extension": ".py",
   "mimetype": "text/x-python",
   "name": "python",
   "nbconvert_exporter": "python",
   "pygments_lexer": "ipython3",
   "version": "3.11.0"
  }
 },
 "nbformat": 4,
 "nbformat_minor": 2
}
