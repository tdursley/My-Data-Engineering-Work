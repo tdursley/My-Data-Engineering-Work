{
 "cells": [
  {
   "cell_type": "code",
   "execution_count": 1,
   "metadata": {},
   "outputs": [],
   "source": [
    "import os\n",
    "import sys\n",
    "\n",
    "os.environ[\"JAVA_HOME\"] = \"JDK 8/Contents/Home\"\n",
    "os.environ[\"PYSPARK_PYTHON\"] = sys.executable\n",
    "os.environ[\"PYSPARK_DRIVER_PYTHON\"] = sys.executable"
   ]
  },
  {
   "cell_type": "code",
   "execution_count": 2,
   "metadata": {},
   "outputs": [],
   "source": [
    "import pandas as pd\n",
    "import matplotlib.pyplot as plt\n",
    "import seaborn as sns\n",
    "from pyspark.sql import SparkSession\n",
    "import pyspark.sql.functions as F\n",
    "import pyspark.sql.types as T\n",
    "from pyspark.ml.feature import VectorAssembler\n",
    "from pyspark.ml.regression import LinearRegression\n",
    "from pyspark.ml.evaluation import RegressionEvaluator"
   ]
  },
  {
   "cell_type": "code",
   "execution_count": 3,
   "metadata": {},
   "outputs": [],
   "source": [
    "from pyspark.sql import SparkSession\n",
    "from pyspark.sql.functions import udf\n",
    "import pyspark.sql.functions as F\n",
    "import pyspark.sql.types as T\n",
    "from pyspark.sql.types import IntegerType\n",
    "from pyspark.ml.feature import Tokenizer, StopWordsRemover, CountVectorizer, OneHotEncoder, VectorAssembler, StringIndexer, IDF,HashingTF\n",
    "from pyspark.ml.classification import LogisticRegression\n",
    "from pyspark.ml.regression import LinearRegression\n",
    "from pyspark.ml.evaluation import BinaryClassificationEvaluator, RegressionEvaluator\n",
    "from pyspark.ml import Pipeline\n",
    "from pyspark.ml.tuning import CrossValidator,TrainValidationSplit, ParamGridBuilder"
   ]
  },
  {
   "cell_type": "code",
   "execution_count": 4,
   "metadata": {},
   "outputs": [
    {
     "name": "stderr",
     "output_type": "stream",
     "text": [
      "25/02/22 16:24:07 WARN Utils: Your hostname, Toms-MacBook-Pro.local resolves to a loopback address: 127.0.0.1; using 10.180.174.193 instead (on interface en0)\n",
      "25/02/22 16:24:07 WARN Utils: Set SPARK_LOCAL_IP if you need to bind to another address\n",
      "Setting default log level to \"WARN\".\n",
      "To adjust logging level use sc.setLogLevel(newLevel). For SparkR, use setLogLevel(newLevel).\n",
      "25/02/22 16:24:08 WARN NativeCodeLoader: Unable to load native-hadoop library for your platform... using builtin-java classes where applicable\n"
     ]
    }
   ],
   "source": [
    "# Create a new Sparksession\n",
    "spark = SparkSession\\\n",
    "    .builder\\\n",
    "    .appName('Credit_Linear_Regression_Model')\\\n",
    "    .getOrCreate()"
   ]
  },
  {
   "cell_type": "code",
   "execution_count": 5,
   "metadata": {},
   "outputs": [
    {
     "name": "stderr",
     "output_type": "stream",
     "text": [
      "                                                                                \r"
     ]
    },
    {
     "name": "stdout",
     "output_type": "stream",
     "text": [
      "+-------+------+---------+-------------+--------+-------------+--------------------+--------------------+--------------------+-----------------+--------------+-------------+------------+----------+-----+--------+---------------+--------------+\n",
      "| Ind_ID|GENDER|Car_Owner|Propert_Owner|CHILDREN|Annual_income|         Type_Income|           EDUCATION|      Marital_status|     Housing_type|Birthday_count|Employed_days|Mobile_phone|Work_Phone|Phone|EMAIL_ID|Type_Occupation|Family_Members|\n",
      "+-------+------+---------+-------------+--------+-------------+--------------------+--------------------+--------------------+-----------------+--------------+-------------+------------+----------+-----+--------+---------------+--------------+\n",
      "|5008827|     M|        Y|            Y|       0|     180000.0|           Pensioner|    Higher education|             Married|House / apartment|        -18772|       365243|           1|         0|    0|       0|           NULL|             2|\n",
      "|5009744|     F|        Y|            N|       0|     315000.0|Commercial associate|    Higher education|             Married|House / apartment|        -13557|         -586|           1|         1|    1|       0|           NULL|             2|\n",
      "|5009746|     F|        Y|            N|       0|     315000.0|Commercial associate|    Higher education|             Married|House / apartment|          NULL|         -586|           1|         1|    1|       0|           NULL|             2|\n",
      "|5009749|     F|        Y|            N|       0|         NULL|Commercial associate|    Higher education|             Married|House / apartment|        -13557|         -586|           1|         1|    1|       0|           NULL|             2|\n",
      "|5009752|     F|        Y|            N|       0|     315000.0|Commercial associate|    Higher education|             Married|House / apartment|        -13557|         -586|           1|         1|    1|       0|           NULL|             2|\n",
      "|5009753|  NULL|        Y|            N|       0|     315000.0|           Pensioner|    Higher education|             Married|House / apartment|        -13557|         -586|           1|         1|    1|       0|           NULL|             2|\n",
      "|5009754|     F|        Y|            N|       0|     315000.0|Commercial associate|    Higher education|             Married|House / apartment|        -13557|         -586|           1|         1|    1|       0|           NULL|             2|\n",
      "|5009894|     F|        N|            N|       0|     180000.0|           Pensioner|Secondary / secon...|             Married|House / apartment|        -22134|       365243|           1|         0|    0|       0|           NULL|             2|\n",
      "|5010864|     M|        Y|            Y|       1|     450000.0|Commercial associate|Secondary / secon...|             Married|House / apartment|        -18173|         -678|           1|         0|    1|       1|     Core staff|             3|\n",
      "|5010868|     M|        Y|            Y|       1|     450000.0|           Pensioner|Secondary / secon...|             Married|House / apartment|        -18173|         -678|           1|         0|    1|       1|     Core staff|             3|\n",
      "|5010869|     M|        Y|            Y|       1|     450000.0|Commercial associate|Secondary / secon...|Single / not married|House / apartment|        -18173|         -678|           1|         0|    1|       1|     Core staff|             1|\n",
      "|5018498|     F|        Y|            Y|       0|      90000.0|             Working|Secondary / secon...|             Married|House / apartment|        -18950|        -1002|           1|         1|    1|       0|  Cooking staff|             2|\n",
      "|5018501|     F|        Y|            Y|       0|         NULL|             Working|Secondary / secon...|             Married|House / apartment|        -18950|        -1002|           1|         1|    1|       0|  Cooking staff|             2|\n",
      "|5018503|     F|        Y|            Y|       0|      90000.0|             Working|Secondary / secon...|             Married|House / apartment|        -18950|        -1002|           1|         1|    1|       0|  Cooking staff|             2|\n",
      "|5021303|     M|        N|            N|       1|     472500.0|           Pensioner|    Higher education|             Married|     With parents|         -8907|         -913|           1|         0|    0|       1|           NULL|             3|\n",
      "|5021310|     M|        N|            Y|       0|     270000.0|             Working|Secondary / secon...|             Married|House / apartment|        -16896|         -248|           1|         0|    0|       0|       Laborers|             2|\n",
      "|5021314|     M|        N|            Y|       0|     270000.0|             Working|Secondary / secon...|Single / not married|House / apartment|        -16896|         -248|           1|         0|    0|       0|       Laborers|             2|\n",
      "|5021430|     F|        N|            Y|       0|     126000.0|Commercial associate|    Higher education|Single / not married|House / apartment|        -18907|        -2470|           1|         0|    0|       0|    Sales staff|             1|\n",
      "|5021431|     F|        N|            Y|       0|     126000.0|Commercial associate|    Higher education|Single / not married|House / apartment|        -18907|        -2470|           1|         0|    0|       0|    Sales staff|             1|\n",
      "|5021998|     M|        N|            Y|       0|      90000.0|           Pensioner|Secondary / secon...|             Married|House / apartment|        -18863|        -1644|           1|         0|    0|       1|           NULL|             2|\n",
      "+-------+------+---------+-------------+--------+-------------+--------------------+--------------------+--------------------+-----------------+--------------+-------------+------------+----------+-----+--------+---------------+--------------+\n",
      "only showing top 20 rows\n",
      "\n"
     ]
    }
   ],
   "source": [
    "path = \"/Users/tomdursley/Downloads/Credit_card.csv\"\n",
    "\n",
    "Credit_sparkdf = spark.read.csv(path, header=True, inferSchema=True)\n",
    "\n",
    "Credit_sparkdf.show()"
   ]
  },
  {
   "cell_type": "code",
   "execution_count": 6,
   "metadata": {},
   "outputs": [
    {
     "name": "stdout",
     "output_type": "stream",
     "text": [
      "the number of null values is: \n",
      "+------+------+---------+-------------+--------+-------------+-----------+---------+--------------+------------+--------------+-------------+------------+----------+-----+--------+---------------+--------------+\n",
      "|Ind_ID|GENDER|Car_Owner|Propert_Owner|CHILDREN|Annual_income|Type_Income|EDUCATION|Marital_status|Housing_type|Birthday_count|Employed_days|Mobile_phone|Work_Phone|Phone|EMAIL_ID|Type_Occupation|Family_Members|\n",
      "+------+------+---------+-------------+--------+-------------+-----------+---------+--------------+------------+--------------+-------------+------------+----------+-----+--------+---------------+--------------+\n",
      "|     0|     7|        0|            0|       0|           23|          0|        0|             0|           0|            22|            0|           0|         0|    0|       0|            488|             0|\n",
      "+------+------+---------+-------------+--------+-------------+-----------+---------+--------------+------------+--------------+-------------+------------+----------+-----+--------+---------------+--------------+\n",
      "\n"
     ]
    }
   ],
   "source": [
    "null_count = Credit_sparkdf.select([F.sum(F.col(c).isNull().cast(\"int\")).alias(c) for c in Credit_sparkdf.columns])\n",
    "\n",
    "print(\"the number of null values is: \")\n",
    "\n",
    "null_count.show()"
   ]
  },
  {
   "cell_type": "code",
   "execution_count": 7,
   "metadata": {},
   "outputs": [
    {
     "name": "stdout",
     "output_type": "stream",
     "text": [
      "1.4857881136950903\n"
     ]
    }
   ],
   "source": [
    "print((23/1548)*100)"
   ]
  },
  {
   "cell_type": "markdown",
   "metadata": {},
   "source": [
    "Looked at the null values and realised we can replace the type occupation nulls as N/A as the column is very useful for analysis. We then rmeoved the individuals who have nulls after which is like 50."
   ]
  },
  {
   "cell_type": "code",
   "execution_count": 8,
   "metadata": {},
   "outputs": [
    {
     "name": "stdout",
     "output_type": "stream",
     "text": [
      "After handling missing values:\n",
      "+------+------+---------+-------------+--------+-------------+-----------+---------+--------------+------------+--------------+-------------+------------+----------+-----+--------+---------------+--------------+\n",
      "|Ind_ID|GENDER|Car_Owner|Propert_Owner|CHILDREN|Annual_income|Type_Income|EDUCATION|Marital_status|Housing_type|Birthday_count|Employed_days|Mobile_phone|Work_Phone|Phone|EMAIL_ID|Type_Occupation|Family_Members|\n",
      "+------+------+---------+-------------+--------+-------------+-----------+---------+--------------+------------+--------------+-------------+------------+----------+-----+--------+---------------+--------------+\n",
      "|     0|     0|        0|            0|       0|            0|          0|        0|             0|           0|             0|            0|           0|         0|    0|       0|              0|             0|\n",
      "+------+------+---------+-------------+--------+-------------+-----------+---------+--------------+------------+--------------+-------------+------------+----------+-----+--------+---------------+--------------+\n",
      "\n"
     ]
    }
   ],
   "source": [
    "Credit_sparkdf = Credit_sparkdf.fillna({\"Type_Occupation\": \"N/A\"})\n",
    "\n",
    "Credit_sparkdf = Credit_sparkdf.dropna()\n",
    "\n",
    "null_count = Credit_sparkdf.select([F.sum(F.col(c).isNull().cast(\"int\")).alias(c) for c in Credit_sparkdf.columns])\n",
    "print(\"After handling missing values:\")\n",
    "null_count.show()"
   ]
  },
  {
   "cell_type": "code",
   "execution_count": 9,
   "metadata": {},
   "outputs": [],
   "source": [
    "Credit_sparkdf = Credit_sparkdf.withColumn(\"Age_Years\", F.round(F.abs(F.col(\"Birthday_count\")) / 365).cast(\"int\"))\n",
    "\n",
    "# Convert Employed_days to employment status\n",
    "Credit_sparkdf = Credit_sparkdf.withColumn(\"Employment_Status\", \n",
    "    F.when(F.col(\"Employed_days\") > 0, \"Unemployed\")\n",
    "     .when(F.col(\"Employed_days\") < 0, F.concat(F.lit(\"Employed for \"), F.abs(F.col(\"Employed_days\")) / 365, F.lit(\" years\")))\n",
    "     .otherwise(\"Currently Employed\")\n",
    ")"
   ]
  },
  {
   "cell_type": "code",
   "execution_count": 16,
   "metadata": {},
   "outputs": [
    {
     "name": "stdout",
     "output_type": "stream",
     "text": [
      "+-------+------+---------+-------------+--------+-------------+--------------------+--------------------+--------------+-----------------+---------------+--------------+---------+--------------------+\n",
      "| Ind_ID|GENDER|Car_Owner|Propert_Owner|CHILDREN|Annual_income|         Type_Income|           EDUCATION|Marital_status|     Housing_type|Type_Occupation|Family_Members|Age_Years|   Employment_Status|\n",
      "+-------+------+---------+-------------+--------+-------------+--------------------+--------------------+--------------+-----------------+---------------+--------------+---------+--------------------+\n",
      "|5008827|     M|        Y|            Y|       0|     180000.0|           Pensioner|    Higher education|       Married|House / apartment|            N/A|             2|       51|          Unemployed|\n",
      "|5009744|     F|        Y|            N|       0|     315000.0|Commercial associate|    Higher education|       Married|House / apartment|            N/A|             2|       37|Employed for 1.60...|\n",
      "|5009752|     F|        Y|            N|       0|     315000.0|Commercial associate|    Higher education|       Married|House / apartment|            N/A|             2|       37|Employed for 1.60...|\n",
      "|5009754|     F|        Y|            N|       0|     315000.0|Commercial associate|    Higher education|       Married|House / apartment|            N/A|             2|       37|Employed for 1.60...|\n",
      "|5009894|     F|        N|            N|       0|     180000.0|           Pensioner|Secondary / secon...|       Married|House / apartment|            N/A|             2|       61|          Unemployed|\n",
      "+-------+------+---------+-------------+--------+-------------+--------------------+--------------------+--------------+-----------------+---------------+--------------+---------+--------------------+\n",
      "only showing top 5 rows\n",
      "\n"
     ]
    }
   ],
   "source": [
    "columns_to_drop = [\"Mobile_phone\", \"Work_Phone\", \"Phone\", \"EMAIL_ID\", \"Birthday_count\", \"Employed_days\"]\n",
    "cleaned_data = Credit_sparkdf.drop(*columns_to_drop)\n",
    "\n",
    "# Show the cleaned data\n",
    "cleaned_data.show(5)"
   ]
  },
  {
   "cell_type": "code",
   "execution_count": 11,
   "metadata": {},
   "outputs": [],
   "source": [
    "categorical_features = [\"GENDER\", \"Car_Owner\", \"Propert_Owner\", \"Type_Income\", \"Housing_type\", \"Type_Occupation\", \"EDUCATION\"]\n",
    "numeric_features = [\"Ind_ID\", \"CHILDREN\", \"Annual_income\", \"Age_Years\", \"Employed_days\", \"Family_Members\"]\n"
   ]
  },
  {
   "cell_type": "code",
   "execution_count": 12,
   "metadata": {},
   "outputs": [],
   "source": [
    "stages = []\n",
    "for cat_feature in categorical_features:\n",
    "    string_indexer = StringIndexer(inputCol=cat_feature, outputCol=f\"{cat_feature} Index\")\n",
    "    encoder = OneHotEncoder(inputCol=f\"{cat_feature} Index\", outputCol=f\"{cat_feature} Vec\")\n",
    "    stages += [string_indexer, encoder]"
   ]
  },
  {
   "cell_type": "code",
   "execution_count": 13,
   "metadata": {},
   "outputs": [],
   "source": [
    "all_features = numeric_features + [f\"{cat} Vec\" for cat in categorical_features]\n",
    "\n",
    "assembler = VectorAssembler(inputCols=all_features, outputCol=\"features\")\n",
    "stages += [assembler]"
   ]
  },
  {
   "cell_type": "code",
   "execution_count": 14,
   "metadata": {},
   "outputs": [],
   "source": [
    "pipeline = Pipeline(stages = stages)"
   ]
  },
  {
   "cell_type": "code",
   "execution_count": 15,
   "metadata": {},
   "outputs": [
    {
     "name": "stderr",
     "output_type": "stream",
     "text": [
      "25/02/22 16:24:26 WARN SparkStringUtils: Truncated the string representation of a plan since it was too large. This behavior can be adjusted by setting 'spark.sql.debug.maxToStringFields'.\n"
     ]
    },
    {
     "name": "stdout",
     "output_type": "stream",
     "text": [
      "+-------+------+---------+-------------+--------+-------------+--------------------+--------------------+--------------+-----------------+--------------+-------------+------------+----------+-----+--------+---------------+--------------+---------+--------------------+------------+-------------+---------------+-------------+-------------------+-----------------+-----------------+---------------+------------------+----------------+---------------------+-------------------+---------------+-------------+--------------------+\n",
      "| Ind_ID|GENDER|Car_Owner|Propert_Owner|CHILDREN|Annual_income|         Type_Income|           EDUCATION|Marital_status|     Housing_type|Birthday_count|Employed_days|Mobile_phone|Work_Phone|Phone|EMAIL_ID|Type_Occupation|Family_Members|Age_Years|   Employment_Status|GENDER Index|   GENDER Vec|Car_Owner Index|Car_Owner Vec|Propert_Owner Index|Propert_Owner Vec|Type_Income Index|Type_Income Vec|Housing_type Index|Housing_type Vec|Type_Occupation Index|Type_Occupation Vec|EDUCATION Index|EDUCATION Vec|            features|\n",
      "+-------+------+---------+-------------+--------+-------------+--------------------+--------------------+--------------+-----------------+--------------+-------------+------------+----------+-----+--------+---------------+--------------+---------+--------------------+------------+-------------+---------------+-------------+-------------------+-----------------+-----------------+---------------+------------------+----------------+---------------------+-------------------+---------------+-------------+--------------------+\n",
      "|5008827|     M|        Y|            Y|       0|     180000.0|           Pensioner|    Higher education|       Married|House / apartment|        -18772|       365243|           1|         0|    0|       0|            N/A|             2|       51|          Unemployed|         1.0|    (1,[],[])|            1.0|    (1,[],[])|                0.0|    (1,[0],[1.0])|              2.0|  (3,[2],[1.0])|               0.0|   (5,[0],[1.0])|                  0.0|     (18,[0],[1.0])|            1.0|(4,[1],[1.0])|(39,[0,2,3,4,5,8,...|\n",
      "|5009744|     F|        Y|            N|       0|     315000.0|Commercial associate|    Higher education|       Married|House / apartment|        -13557|         -586|           1|         1|    1|       0|            N/A|             2|       37|Employed for 1.60...|         0.0|(1,[0],[1.0])|            1.0|    (1,[],[])|                1.0|        (1,[],[])|              1.0|  (3,[1],[1.0])|               0.0|   (5,[0],[1.0])|                  0.0|     (18,[0],[1.0])|            1.0|(4,[1],[1.0])|(39,[0,2,3,4,5,6,...|\n",
      "|5009752|     F|        Y|            N|       0|     315000.0|Commercial associate|    Higher education|       Married|House / apartment|        -13557|         -586|           1|         1|    1|       0|            N/A|             2|       37|Employed for 1.60...|         0.0|(1,[0],[1.0])|            1.0|    (1,[],[])|                1.0|        (1,[],[])|              1.0|  (3,[1],[1.0])|               0.0|   (5,[0],[1.0])|                  0.0|     (18,[0],[1.0])|            1.0|(4,[1],[1.0])|(39,[0,2,3,4,5,6,...|\n",
      "|5009754|     F|        Y|            N|       0|     315000.0|Commercial associate|    Higher education|       Married|House / apartment|        -13557|         -586|           1|         1|    1|       0|            N/A|             2|       37|Employed for 1.60...|         0.0|(1,[0],[1.0])|            1.0|    (1,[],[])|                1.0|        (1,[],[])|              1.0|  (3,[1],[1.0])|               0.0|   (5,[0],[1.0])|                  0.0|     (18,[0],[1.0])|            1.0|(4,[1],[1.0])|(39,[0,2,3,4,5,6,...|\n",
      "|5009894|     F|        N|            N|       0|     180000.0|           Pensioner|Secondary / secon...|       Married|House / apartment|        -22134|       365243|           1|         0|    0|       0|            N/A|             2|       61|          Unemployed|         0.0|(1,[0],[1.0])|            0.0|(1,[0],[1.0])|                1.0|        (1,[],[])|              2.0|  (3,[2],[1.0])|               0.0|   (5,[0],[1.0])|                  0.0|     (18,[0],[1.0])|            0.0|(4,[0],[1.0])|(39,[0,2,3,4,5,6,...|\n",
      "+-------+------+---------+-------------+--------+-------------+--------------------+--------------------+--------------+-----------------+--------------+-------------+------------+----------+-----+--------+---------------+--------------+---------+--------------------+------------+-------------+---------------+-------------+-------------------+-----------------+-----------------+---------------+------------------+----------------+---------------------+-------------------+---------------+-------------+--------------------+\n",
      "only showing top 5 rows\n",
      "\n"
     ]
    }
   ],
   "source": [
    "transformed_data = pipeline.fit(Credit_sparkdf).transform(Credit_sparkdf)\n",
    "transformed_data.show(5)"
   ]
  },
  {
   "cell_type": "code",
   "execution_count": null,
   "metadata": {},
   "outputs": [],
   "source": []
  }
 ],
 "metadata": {
  "kernelspec": {
   "display_name": "Python 3",
   "language": "python",
   "name": "python3"
  },
  "language_info": {
   "codemirror_mode": {
    "name": "ipython",
    "version": 3
   },
   "file_extension": ".py",
   "mimetype": "text/x-python",
   "name": "python",
   "nbconvert_exporter": "python",
   "pygments_lexer": "ipython3",
   "version": "3.11.0"
  }
 },
 "nbformat": 4,
 "nbformat_minor": 2
}
