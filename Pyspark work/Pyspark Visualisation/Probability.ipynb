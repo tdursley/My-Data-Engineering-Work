{
 "cells": [
  {
   "cell_type": "code",
   "execution_count": 1,
   "metadata": {},
   "outputs": [],
   "source": [
    "import seaborn as sns\n",
    "import matplotlib.pyplot as plt\n",
    "import requests\n",
    "import pandas as pd\n",
    "import csv\n",
    "import numpy as np\n",
    "from scipy import stats"
   ]
  },
  {
   "cell_type": "code",
   "execution_count": 2,
   "metadata": {},
   "outputs": [
    {
     "data": {
      "image/png": "[encoded data removed]",
      "text/plain": [
       "<Figure size 640x480 with 1 Axes>"
      ]
     },
     "metadata": {},
     "output_type": "display_data"
    }
   ],
   "source": [
    "num_rolls = 1000000\n",
    "die1 = np.random.randint(1, 7, num_rolls)\n",
    "die2 = np.random.randint(1, 7, num_rolls)\n",
    "outcomes = die1 + die2\n",
    "\n",
    "plt.hist(outcomes, bins=np.arange(1.5, 13.5, 1), edgecolor='black', color='#0D8FEE', align='mid', density=True)\n",
    "plt.xlabel('Sum of Two Dice')\n",
    "plt.ylabel('Probability')\n",
    "plt.title('Probability Distribution of Rolling Two Dice in 100000 Simulations')\n",
    "plt.xticks(range(2, 13))\n",
    "plt.show()"
   ]
  },
  {
   "cell_type": "code",
   "execution_count": 3,
   "metadata": {},
   "outputs": [],
   "source": [
    "import pandas as pd\n",
    "import math\n",
    "from collections import Counter"
   ]
  },
  {
   "cell_type": "code",
   "execution_count": 4,
   "metadata": {},
   "outputs": [],
   "source": [
    "import pandas as pd\n",
    "\n",
    "# Load the dataset\n",
    "file_path = \"/Users/tomdursley/Downloads/matches.csv\"  # Update with your file path if needed\n",
    "df = pd.read_csv(file_path)\n"
   ]
  },
  {
   "cell_type": "code",
   "execution_count": 5,
   "metadata": {},
   "outputs": [],
   "source": [
    "columns = [\"GF\", \"GA\", \"xG\", \"Poss\", \"Attendance\", \"Sh\"]\n",
    "\n",
    "data = {col: df[col].dropna().tolist() for col in columns}\n"
   ]
  },
  {
   "cell_type": "code",
   "execution_count": 10,
   "metadata": {},
   "outputs": [],
   "source": [
    "def my_mean(data):\n",
    "    return sum(data) / len(data)\n",
    "\n",
    "def my_median(data):\n",
    "    sorted_data = sorted(data)\n",
    "    count = len(sorted_data)\n",
    "    \n",
    "    if count % 2 == 0: \n",
    "        mid1 = count // 2 - 1\n",
    "        mid2 = count // 2\n",
    "        return (sorted_data[mid1] + sorted_data[mid2]) / 2\n",
    "    else:  \n",
    "        return sorted_data[count // 2]\n",
    "\n",
    "def my_mode(data):\n",
    "    freq = Counter(data)\n",
    "    max_freq = max(freq.values())\n",
    "    modes = [key for key, val in freq.items() if val == max_freq]\n",
    "    return modes if len(modes) > 1 else modes[0]  \n"
   ]
  },
  {
   "cell_type": "code",
   "execution_count": 13,
   "metadata": {},
   "outputs": [
    {
     "name": "stdout",
     "output_type": "stream",
     "text": [
      "Column: GF\n",
      "  Mean: 1.6394736842105264\n",
      "  Median: 1.0\n",
      "  Mode: 1\n",
      "Column: GA\n",
      "  Mean: 1.6394736842105264\n",
      "  Median: 1.0\n",
      "  Mode: 1\n",
      "Column: xG\n",
      "  Mean: 1.550263157894737\n",
      "  Median: 1.4\n",
      "  Mode: 1.0\n",
      "Column: Poss\n",
      "  Mean: 50.0\n",
      "  Median: 50.0\n",
      "  Mode: [55.0, 45.0]\n",
      "Column: Attendance\n",
      "  Mean: 38613.313157894736\n",
      "  Median: 38181.0\n",
      "  Mode: [62475.0, 25103.0]\n",
      "Column: Sh\n",
      "  Mean: 13.660526315789474\n",
      "  Median: 13.0\n",
      "  Mode: [10.0, 12.0]\n"
     ]
    }
   ],
   "source": [
    "for col in columns:\n",
    "    print(f\"Column: {col}\")\\\n",
    "    \n",
    "    print(f\"  Mean: {my_mean(data[col])}\")\\\n",
    "    \n",
    "    print(f\"  Median: {my_median(data[col])}\")\\\n",
    "    \n",
    "    print(f\"  Mode: {my_mode(data[col])}\")\n",
    "\n"
   ]
  },
  {
   "cell_type": "code",
   "execution_count": null,
   "metadata": {},
   "outputs": [],
   "source": []
  }
 ],
 "metadata": {
  "kernelspec": {
   "display_name": "Python 3",
   "language": "python",
   "name": "python3"
  },
  "language_info": {
   "codemirror_mode": {
    "name": "ipython",
    "version": 3
   },
   "file_extension": ".py",
   "mimetype": "text/x-python",
   "name": "python",
   "nbconvert_exporter": "python",
   "pygments_lexer": "ipython3",
   "version": "3.11.0"
  }
 },
 "nbformat": 4,
 "nbformat_minor": 2
}
